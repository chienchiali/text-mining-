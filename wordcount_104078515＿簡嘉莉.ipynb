{
 "cells": [
  {
   "cell_type": "markdown",
   "metadata": {},
   "source": [
    "# Python Basic"
   ]
  },
  {
   "cell_type": "markdown",
   "metadata": {},
   "source": [
    "### File Operations"
   ]
  },
  {
   "cell_type": "markdown",
   "metadata": {},
   "source": [
    "Read file line by line"
   ]
  },
  {
   "cell_type": "code",
   "execution_count": 50,
   "metadata": {
    "collapsed": false
   },
   "outputs": [],
   "source": [
    "lines = []\n",
    "for line in open('building_global_community.txt'):\n",
    "    # delete the blank and line feed at the begining and end\n",
    "    line = line.strip()\n",
    "    # add processed line text into list 'lines'\n",
    "    lines.append(line)"
   ]
  },
  {
   "cell_type": "code",
   "execution_count": 51,
   "metadata": {
    "collapsed": false
   },
   "outputs": [
    {
     "name": "stdout",
     "output_type": "stream",
     "text": [
      "To our community,\n"
     ]
    }
   ],
   "source": [
    "print (lines[0])"
   ]
  },
  {
   "cell_type": "markdown",
   "metadata": {},
   "source": [
    "or you can just write"
   ]
  },
  {
   "cell_type": "code",
   "execution_count": 10,
   "metadata": {
    "collapsed": false
   },
   "outputs": [],
   "source": [
    "# list comprehension\n",
    "lines = [line.strip() for line in open('building_global_community.txt')]"
   ]
  },
  {
   "cell_type": "code",
   "execution_count": 11,
   "metadata": {
    "collapsed": false
   },
   "outputs": [
    {
     "data": {
      "text/plain": [
       "'To our community,'"
      ]
     },
     "execution_count": 11,
     "metadata": {},
     "output_type": "execute_result"
    }
   ],
   "source": [
    "lines[0]"
   ]
  },
  {
   "cell_type": "markdown",
   "metadata": {},
   "source": [
    "### String operations"
   ]
  },
  {
   "cell_type": "code",
   "execution_count": 12,
   "metadata": {
    "collapsed": true
   },
   "outputs": [],
   "source": [
    "sentence = \"I want to eat an apple .\""
   ]
  },
  {
   "cell_type": "markdown",
   "metadata": {},
   "source": [
    "#### string indexing"
   ]
  },
  {
   "cell_type": "code",
   "execution_count": 6,
   "metadata": {
    "collapsed": false
   },
   "outputs": [
    {
     "data": {
      "text/plain": [
       "'t'"
      ]
     },
     "execution_count": 6,
     "metadata": {},
     "output_type": "execute_result"
    }
   ],
   "source": [
    "sentence[5]"
   ]
  },
  {
   "cell_type": "code",
   "execution_count": 7,
   "metadata": {
    "collapsed": false
   },
   "outputs": [
    {
     "data": {
      "text/plain": [
       "'eat'"
      ]
     },
     "execution_count": 7,
     "metadata": {},
     "output_type": "execute_result"
    }
   ],
   "source": [
    "sentence[10:13]"
   ]
  },
  {
   "cell_type": "code",
   "execution_count": 8,
   "metadata": {
    "collapsed": false
   },
   "outputs": [
    {
     "data": {
      "text/plain": [
       "'.'"
      ]
     },
     "execution_count": 8,
     "metadata": {},
     "output_type": "execute_result"
    }
   ],
   "source": [
    "sentence[-1]"
   ]
  },
  {
   "cell_type": "code",
   "execution_count": 9,
   "metadata": {
    "collapsed": false
   },
   "outputs": [
    {
     "data": {
      "text/plain": [
       "'eat an appl'"
      ]
     },
     "execution_count": 9,
     "metadata": {},
     "output_type": "execute_result"
    }
   ],
   "source": [
    "sentence[10:-3]"
   ]
  },
  {
   "cell_type": "markdown",
   "metadata": {},
   "source": [
    "#### find sequences in string"
   ]
  },
  {
   "cell_type": "code",
   "execution_count": 13,
   "metadata": {
    "collapsed": false
   },
   "outputs": [
    {
     "data": {
      "text/plain": [
       "3"
      ]
     },
     "execution_count": 13,
     "metadata": {},
     "output_type": "execute_result"
    }
   ],
   "source": [
    "sentence.find('a')"
   ]
  },
  {
   "cell_type": "code",
   "execution_count": 14,
   "metadata": {
    "collapsed": false
   },
   "outputs": [
    {
     "ename": "SyntaxError",
     "evalue": "invalid character in identifier (<ipython-input-14-d72709917bae>, line 1)",
     "output_type": "error",
     "traceback": [
      "\u001b[0;36m  File \u001b[0;32m\"<ipython-input-14-d72709917bae>\"\u001b[0;36m, line \u001b[0;32m1\u001b[0m\n\u001b[0;31m    sentence.find('aaa')  ＃如果要找的值不再字串裡，就會回傳 -1\u001b[0m\n\u001b[0m                                          ^\u001b[0m\n\u001b[0;31mSyntaxError\u001b[0m\u001b[0;31m:\u001b[0m invalid character in identifier\n"
     ]
    }
   ],
   "source": [
    "sentence.find('aaa')  ＃如果要找的值不再字串裡，就會回傳 -1"
   ]
  },
  {
   "cell_type": "markdown",
   "metadata": {},
   "source": [
    "find from right-hand side"
   ]
  },
  {
   "cell_type": "code",
   "execution_count": 15,
   "metadata": {
    "collapsed": false
   },
   "outputs": [
    {
     "data": {
      "text/plain": [
       "17"
      ]
     },
     "execution_count": 15,
     "metadata": {},
     "output_type": "execute_result"
    }
   ],
   "source": [
    "sentence.rfind('a')"
   ]
  },
  {
   "cell_type": "markdown",
   "metadata": {},
   "source": [
    "find with a starting point"
   ]
  },
  {
   "cell_type": "code",
   "execution_count": 16,
   "metadata": {
    "collapsed": false
   },
   "outputs": [
    {
     "data": {
      "text/plain": [
       "11"
      ]
     },
     "execution_count": 16,
     "metadata": {},
     "output_type": "execute_result"
    }
   ],
   "source": [
    "sentence.find('a', 4)"
   ]
  },
  {
   "cell_type": "markdown",
   "metadata": {},
   "source": [
    "return -1 when not found"
   ]
  },
  {
   "cell_type": "code",
   "execution_count": 17,
   "metadata": {
    "collapsed": false
   },
   "outputs": [
    {
     "data": {
      "text/plain": [
       "-1"
      ]
     },
     "execution_count": 17,
     "metadata": {},
     "output_type": "execute_result"
    }
   ],
   "source": [
    "sentence.find('can')"
   ]
  },
  {
   "cell_type": "markdown",
   "metadata": {},
   "source": [
    "combine the use of subsequence and find"
   ]
  },
  {
   "cell_type": "code",
   "execution_count": 15,
   "metadata": {
    "collapsed": false
   },
   "outputs": [
    {
     "data": {
      "text/plain": [
       "'want to eat an apple '"
      ]
     },
     "execution_count": 15,
     "metadata": {},
     "output_type": "execute_result"
    }
   ],
   "source": [
    "sentence[sentence.find('want to'):sentence.rfind('.')]"
   ]
  },
  {
   "cell_type": "markdown",
   "metadata": {},
   "source": [
    "### String Normalization"
   ]
  },
  {
   "cell_type": "code",
   "execution_count": 16,
   "metadata": {
    "collapsed": false,
    "scrolled": true
   },
   "outputs": [
    {
     "data": {
      "text/plain": [
       "'I want to eat an apple .'"
      ]
     },
     "execution_count": 16,
     "metadata": {},
     "output_type": "execute_result"
    }
   ],
   "source": [
    "sentence"
   ]
  },
  {
   "cell_type": "code",
   "execution_count": 17,
   "metadata": {
    "collapsed": false
   },
   "outputs": [
    {
     "data": {
      "text/plain": [
       "'i want to eat an apple .'"
      ]
     },
     "execution_count": 17,
     "metadata": {},
     "output_type": "execute_result"
    }
   ],
   "source": [
    "sentence.lower()"
   ]
  },
  {
   "cell_type": "code",
   "execution_count": 18,
   "metadata": {
    "collapsed": false
   },
   "outputs": [
    {
     "data": {
      "text/plain": [
       "'I WANT TO EAT AN APPLE .'"
      ]
     },
     "execution_count": 18,
     "metadata": {},
     "output_type": "execute_result"
    }
   ],
   "source": [
    "sentence.upper()"
   ]
  },
  {
   "cell_type": "code",
   "execution_count": 19,
   "metadata": {
    "collapsed": false
   },
   "outputs": [
    {
     "data": {
      "text/plain": [
       "'I want to eat an apple .'"
      ]
     },
     "execution_count": 19,
     "metadata": {},
     "output_type": "execute_result"
    }
   ],
   "source": [
    "sentence.capitalize()"
   ]
  },
  {
   "cell_type": "code",
   "execution_count": 20,
   "metadata": {
    "collapsed": false
   },
   "outputs": [
    {
     "data": {
      "text/plain": [
       "True"
      ]
     },
     "execution_count": 20,
     "metadata": {},
     "output_type": "execute_result"
    }
   ],
   "source": [
    "'A'.isupper()"
   ]
  },
  {
   "cell_type": "code",
   "execution_count": 21,
   "metadata": {
    "collapsed": false
   },
   "outputs": [
    {
     "data": {
      "text/plain": [
       "False"
      ]
     },
     "execution_count": 21,
     "metadata": {},
     "output_type": "execute_result"
    }
   ],
   "source": [
    "'A'.islower()"
   ]
  },
  {
   "cell_type": "code",
   "execution_count": 22,
   "metadata": {
    "collapsed": false
   },
   "outputs": [
    {
     "data": {
      "text/plain": [
       "True"
      ]
     },
     "execution_count": 22,
     "metadata": {},
     "output_type": "execute_result"
    }
   ],
   "source": [
    "'apple'.isalpha()"
   ]
  },
  {
   "cell_type": "code",
   "execution_count": 23,
   "metadata": {
    "collapsed": false
   },
   "outputs": [
    {
     "data": {
      "text/plain": [
       "True"
      ]
     },
     "execution_count": 23,
     "metadata": {},
     "output_type": "execute_result"
    }
   ],
   "source": [
    "'20'.isdigit()"
   ]
  },
  {
   "cell_type": "code",
   "execution_count": 24,
   "metadata": {
    "collapsed": false
   },
   "outputs": [
    {
     "data": {
      "text/plain": [
       "False"
      ]
     },
     "execution_count": 24,
     "metadata": {},
     "output_type": "execute_result"
    }
   ],
   "source": [
    "'20.9'.isdigit()"
   ]
  },
  {
   "cell_type": "code",
   "execution_count": 25,
   "metadata": {
    "collapsed": false
   },
   "outputs": [
    {
     "data": {
      "text/plain": [
       "True"
      ]
     },
     "execution_count": 25,
     "metadata": {},
     "output_type": "execute_result"
    }
   ],
   "source": [
    "'20'.isdecimal()"
   ]
  },
  {
   "cell_type": "code",
   "execution_count": 26,
   "metadata": {
    "collapsed": false
   },
   "outputs": [
    {
     "data": {
      "text/plain": [
       "True"
      ]
     },
     "execution_count": 26,
     "metadata": {},
     "output_type": "execute_result"
    }
   ],
   "source": [
    "'furen5566'.isalnum()"
   ]
  },
  {
   "cell_type": "markdown",
   "metadata": {},
   "source": [
    "### split sentence by blank"
   ]
  },
  {
   "cell_type": "code",
   "execution_count": 27,
   "metadata": {
    "collapsed": false
   },
   "outputs": [
    {
     "data": {
      "text/plain": [
       "['I', 'want', 'to', 'eat', 'an', 'apple', '.']"
      ]
     },
     "execution_count": 27,
     "metadata": {},
     "output_type": "execute_result"
    }
   ],
   "source": [
    "# the result is list of words in the sentence\n",
    "sentence.split(' ')"
   ]
  },
  {
   "cell_type": "code",
   "execution_count": 28,
   "metadata": {
    "collapsed": false
   },
   "outputs": [
    {
     "data": {
      "text/plain": [
       "True"
      ]
     },
     "execution_count": 28,
     "metadata": {},
     "output_type": "execute_result"
    }
   ],
   "source": [
    "sentence.endswith('.')"
   ]
  },
  {
   "cell_type": "code",
   "execution_count": 29,
   "metadata": {
    "collapsed": false
   },
   "outputs": [
    {
     "data": {
      "text/plain": [
       "False"
      ]
     },
     "execution_count": 29,
     "metadata": {},
     "output_type": "execute_result"
    }
   ],
   "source": [
    "sentence.startswith('He wants')"
   ]
  },
  {
   "cell_type": "markdown",
   "metadata": {},
   "source": [
    "## Dictionary examples"
   ]
  },
  {
   "cell_type": "code",
   "execution_count": 30,
   "metadata": {
    "collapsed": true
   },
   "outputs": [],
   "source": [
    "# book = dict()\n",
    "book = {}"
   ]
  },
  {
   "cell_type": "code",
   "execution_count": 31,
   "metadata": {
    "collapsed": false
   },
   "outputs": [],
   "source": [
    "# we can assign any value to any key\n",
    "book['title'] = 'Natural Language Processing with Python'\n",
    "book['author'] = 'Bird, Klein, and Loper'\n",
    "book['year'] = 2009"
   ]
  },
  {
   "cell_type": "code",
   "execution_count": 32,
   "metadata": {
    "collapsed": false
   },
   "outputs": [
    {
     "data": {
      "text/plain": [
       "{'author': 'Bird, Klein, and Loper',\n",
       " 'title': 'Natural Language Processing with Python',\n",
       " 'year': 2009}"
      ]
     },
     "execution_count": 32,
     "metadata": {},
     "output_type": "execute_result"
    }
   ],
   "source": [
    "book"
   ]
  },
  {
   "cell_type": "code",
   "execution_count": 33,
   "metadata": {
    "collapsed": false
   },
   "outputs": [
    {
     "data": {
      "text/plain": [
       "dict_keys(['year', 'author', 'title'])"
      ]
     },
     "execution_count": 33,
     "metadata": {},
     "output_type": "execute_result"
    }
   ],
   "source": [
    "book.keys()"
   ]
  },
  {
   "cell_type": "code",
   "execution_count": 34,
   "metadata": {
    "collapsed": false
   },
   "outputs": [
    {
     "data": {
      "text/plain": [
       "dict_values([2009, 'Bird, Klein, and Loper', 'Natural Language Processing with Python'])"
      ]
     },
     "execution_count": 34,
     "metadata": {},
     "output_type": "execute_result"
    }
   ],
   "source": [
    "book.values()"
   ]
  },
  {
   "cell_type": "code",
   "execution_count": 35,
   "metadata": {
    "collapsed": false
   },
   "outputs": [
    {
     "data": {
      "text/plain": [
       "dict_items([('year', 2009), ('author', 'Bird, Klein, and Loper'), ('title', 'Natural Language Processing with Python')])"
      ]
     },
     "execution_count": 35,
     "metadata": {},
     "output_type": "execute_result"
    }
   ],
   "source": [
    "book.items()"
   ]
  },
  {
   "cell_type": "markdown",
   "metadata": {},
   "source": [
    "string formatting"
   ]
  },
  {
   "cell_type": "code",
   "execution_count": 36,
   "metadata": {
    "collapsed": false
   },
   "outputs": [
    {
     "data": {
      "text/plain": [
       "'Natural Language Processing with Python is a book written by Bird, Klein, and Loper in 2009'"
      ]
     },
     "execution_count": 36,
     "metadata": {},
     "output_type": "execute_result"
    }
   ],
   "source": [
    "'%s is a book written by %s in %d' % (book['title'], book['author'], book['year'])"
   ]
  },
  {
   "cell_type": "code",
   "execution_count": 37,
   "metadata": {
    "collapsed": false
   },
   "outputs": [
    {
     "data": {
      "text/plain": [
       "'Natural Language Processing with Python is a book written by Bird, Klein, and Loper in 2009'"
      ]
     },
     "execution_count": 37,
     "metadata": {},
     "output_type": "execute_result"
    }
   ],
   "source": [
    "'{0} is a book written by {1} in {2}'.format(book['title'], book['author'], book['year'])"
   ]
  },
  {
   "cell_type": "code",
   "execution_count": 38,
   "metadata": {
    "collapsed": false
   },
   "outputs": [
    {
     "data": {
      "text/plain": [
       "'Natural Language Processing with Python is a book written by Bird, Klein, and Loper in 2009'"
      ]
     },
     "execution_count": 38,
     "metadata": {},
     "output_type": "execute_result"
    }
   ],
   "source": [
    "# advanced formatting\n",
    "'{title} is a book written by {author} in {year}'.format(**book)"
   ]
  },
  {
   "cell_type": "markdown",
   "metadata": {},
   "source": [
    "## Counting Example"
   ]
  },
  {
   "cell_type": "code",
   "execution_count": 18,
   "metadata": {
    "collapsed": true
   },
   "outputs": [],
   "source": [
    "data = ['red', 'red', 'red', 'red', 'yellow', 'yellow', 'yellow', 'blue', 'blue']"
   ]
  },
  {
   "cell_type": "code",
   "execution_count": 19,
   "metadata": {
    "collapsed": false
   },
   "outputs": [],
   "source": [
    "counter = dict()\n",
    "for color in data:\n",
    "    if color in counter:\n",
    "        counter[color] += 1\n",
    "    else:\n",
    "        counter[color] = 1"
   ]
  },
  {
   "cell_type": "code",
   "execution_count": 20,
   "metadata": {
    "collapsed": false
   },
   "outputs": [
    {
     "data": {
      "text/plain": [
       "{'blue': 2, 'red': 4, 'yellow': 3}"
      ]
     },
     "execution_count": 20,
     "metadata": {},
     "output_type": "execute_result"
    }
   ],
   "source": [
    "counter"
   ]
  },
  {
   "cell_type": "markdown",
   "metadata": {},
   "source": [
    "### use default dictionary"
   ]
  },
  {
   "cell_type": "code",
   "execution_count": 21,
   "metadata": {
    "collapsed": false
   },
   "outputs": [],
   "source": [
    "from collections import defaultdict\n",
    "counter = defaultdict(lambda: 0)  # default value function is 0\n",
    "counter = defaultdict(int)  # default value function is \"int\", which initialize to 0"
   ]
  },
  {
   "cell_type": "code",
   "execution_count": 22,
   "metadata": {
    "collapsed": false
   },
   "outputs": [],
   "source": [
    "for color in data:\n",
    "    counter[color] += 1"
   ]
  },
  {
   "cell_type": "code",
   "execution_count": 23,
   "metadata": {
    "collapsed": false
   },
   "outputs": [
    {
     "data": {
      "text/plain": [
       "defaultdict(int, {'blue': 2, 'red': 4, 'yellow': 3})"
      ]
     },
     "execution_count": 23,
     "metadata": {},
     "output_type": "execute_result"
    }
   ],
   "source": [
    "counter"
   ]
  },
  {
   "cell_type": "markdown",
   "metadata": {},
   "source": [
    "### use built-in Counter"
   ]
  },
  {
   "cell_type": "code",
   "execution_count": 24,
   "metadata": {
    "collapsed": true
   },
   "outputs": [],
   "source": [
    "from collections import Counter"
   ]
  },
  {
   "cell_type": "code",
   "execution_count": 25,
   "metadata": {
    "collapsed": true
   },
   "outputs": [],
   "source": [
    "counter = Counter(data)"
   ]
  },
  {
   "cell_type": "code",
   "execution_count": 26,
   "metadata": {
    "collapsed": false
   },
   "outputs": [
    {
     "data": {
      "text/plain": [
       "Counter({'blue': 2, 'red': 4, 'yellow': 3})"
      ]
     },
     "execution_count": 26,
     "metadata": {},
     "output_type": "execute_result"
    }
   ],
   "source": [
    "counter"
   ]
  },
  {
   "cell_type": "code",
   "execution_count": 27,
   "metadata": {
    "collapsed": true
   },
   "outputs": [],
   "source": [
    "new_data = ['blue', 'red', 'blue', 'yellow', 'blue', 'yellow', 'blue', 'yellow', 'blue']\n",
    "counter.update(new_data)"
   ]
  },
  {
   "cell_type": "code",
   "execution_count": 28,
   "metadata": {
    "collapsed": false
   },
   "outputs": [
    {
     "data": {
      "text/plain": [
       "Counter({'blue': 7, 'red': 5, 'yellow': 6})"
      ]
     },
     "execution_count": 28,
     "metadata": {},
     "output_type": "execute_result"
    }
   ],
   "source": [
    "counter"
   ]
  },
  {
   "cell_type": "markdown",
   "metadata": {},
   "source": [
    "#### most common elements"
   ]
  },
  {
   "cell_type": "code",
   "execution_count": 29,
   "metadata": {
    "collapsed": false
   },
   "outputs": [
    {
     "data": {
      "text/plain": [
       "[('blue', 7), ('yellow', 6), ('red', 5)]"
      ]
     },
     "execution_count": 29,
     "metadata": {},
     "output_type": "execute_result"
    }
   ],
   "source": [
    "counter.most_common()"
   ]
  },
  {
   "cell_type": "code",
   "execution_count": 30,
   "metadata": {
    "collapsed": false
   },
   "outputs": [
    {
     "data": {
      "text/plain": [
       "[('blue', 7), ('yellow', 6)]"
      ]
     },
     "execution_count": 30,
     "metadata": {},
     "output_type": "execute_result"
    }
   ],
   "source": [
    "counter.most_common(2)"
   ]
  },
  {
   "cell_type": "code",
   "execution_count": 31,
   "metadata": {
    "collapsed": false
   },
   "outputs": [
    {
     "name": "stdout",
     "output_type": "stream",
     "text": [
      "blue: 7\n",
      "yellow: 6\n",
      "red: 5\n"
     ]
    }
   ],
   "source": [
    "for color, count in counter.most_common():\n",
    "    print('{0}: {1}'.format(color, count))"
   ]
  },
  {
   "cell_type": "code",
   "execution_count": 41,
   "metadata": {
    "collapsed": false
   },
   "outputs": [
    {
     "name": "stdout",
     "output_type": "stream",
     "text": [
      "0\n"
     ]
    }
   ],
   "source": [
    "# clear counter\n",
    "counter.clear()\n",
    "print(counter['blue'])"
   ]
  },
  {
   "cell_type": "markdown",
   "metadata": {},
   "source": [
    "# Exercise"
   ]
  },
  {
   "cell_type": "markdown",
   "metadata": {},
   "source": [
    "compute the word frequencies in \"Building_Global_Community.txt\"\n",
    "- read sentences from file \"Building_Global_Community.txt\"\n",
    "- split sentences into words (split, or nltk word_tokenize)\n",
    "- filter out symbols (isalpha, isdigit, isalnum)\n",
    "- normalize words and count ('Word' and 'word' are considered as the same word)\n",
    "- count the occurance of words (counting exmaple)"
   ]
  },
  {
   "cell_type": "markdown",
   "metadata": {},
   "source": [
    "write your code here"
   ]
  },
  {
   "cell_type": "code",
   "execution_count": 27,
   "metadata": {
    "collapsed": false
   },
   "outputs": [
    {
     "name": "stdout",
     "output_type": "stream",
     "text": [
      "To our community,\n",
      "\n",
      "On our journey to connect the world, we often discuss products we're building and updates on our business. Today I want to focus on the most important question of all: are we building the world we all want?\n",
      "History is the story of how we've learned to come together in ever greater numbers    from tribes to cities to nations. At each step, we built social infrastructure like communities, media and governments to empower us to achieve things we couldn't on our own.\n",
      "Today we are close to taking our next step. Our greatest opportunities are now global    like spreading prosperity and freedom, promoting peace and understanding, lifting people out of poverty, and accelerating science. Our greatest challenges also need global responses    like ending terrorism, fighting climate change, and preventing pandemics. Progress now requires humanity coming together not just as cities or nations, but also as a global community. \n",
      "This is especially important right now. Facebook stands for bringing us closer together and building a global community. When we began, this idea was not controversial. Every year, the world got more connected and this was seen as a positive trend. Yet now, across the world there are people left behind by globalization, and movements for withdrawing from global connection. There are questions about whether we can make a global community that works for everyone, and whether the path ahead is to connect more or reverse course.\n",
      "This is a time when many of us around the world are reflecting on how we can have the most positive impact. I am reminded of my favorite saying about technology: \"We always overestimate what we can do in two years, and we underestimate what we can do in ten years.\" We may not have the power to create the world we want immediately, but we can all start working on the long term today. In times like these, the most important thing we at Facebook can do is develop the social infrastructure to give people the power to build a global community that works for all of us. \n",
      "For the past decade, Facebook has focused on connecting friends and families. With that foundation, our next focus will be developing the social infrastructure for community    for supporting us, for keeping us safe, for informing us, for civic engagement, and for inclusion of all.\n",
      "Bringing us all together as a global community is a project bigger than any one organization or company, but Facebook can help contribute to answering these five important questions:\n",
      "How do we help people build supportive communities that strengthen traditional institutions in a world where membership in these institutions is declining?\n",
      "How do we help people build a safe community that prevents harm, helps during crises and rebuilds afterwards in a world where anyone across the world can affect us?\n",
      "How do we help people build an informed community that exposes us to new ideas and builds common understanding in a world where every person has a voice?\n",
      "How do we help people build a civically engaged community in a world where participation in voting sometimes includes less than half our population?\n",
      "How do we help people build an inclusive community that reflects our collective values and common humanity from local to global levels, spanning cultures, nations and regions in a world with few examples of global communities?\n",
      "My hope is that more of us will commit our energy to building the long term social infrastructure to bring humanity together. The answers to these questions won't all come from Facebook, but I believe we can play a role. \n",
      "Our job at Facebook is to help people make the greatest positive impact while mitigating areas where technology and social media can contribute to divisiveness and isolation. Facebook is a work in progress, and we are dedicated to learning and improving. We take our responsibility seriously, and today I want to talk about how we plan to do our part to build this global community.\n",
      "\n",
      "Supportive Communities\n",
      "\n",
      "Building a global community that works for everyone starts with the millions of smaller communities and intimate social structures we turn to for our personal, emotional and spiritual needs. \n",
      "Whether they're churches, sports teams, unions or other local groups, they all share important roles as social infrastructure for our communities. They provide all of us with a sense of purpose and hope; moral validation that we are needed and part of something bigger than ourselves; comfort that we are not alone and a community is looking out for us; mentorship, guidance and personal development; a safety net; values, cultural norms and accountability; social gatherings, rituals and a way to meet new people; and a way to pass time.\n",
      "In our society, we have personal relationships with friends and family, and then we have institutional relationships with the governments that set the rules. A healthy society also has many layers of communities between us and government that take care of our needs. When we refer to our \"social fabric\", we usually mean the many mediating groups that bring us together and reinforce our values.\n",
      "However, there has been a striking decline in the important social infrastructure of local communities over the past few decades. Since the 1970s, membership in some local groups has declined by as much as one quarter, cutting across all segments of the population. \n",
      "The decline raises deeper questions alongside surveys showing large percentages of our population lack a sense of hope for the future. It is possible many of our challenges are at least as much social as they are economic    related to a lack of community and connection to something greater than ourselves. As one pastor told me: \"People feel unsettled. A lot of what was settling in the past doesn't exist anymore.\"\n",
      "Online communities are a bright spot, and we can strengthen existing physical communities by helping people come together online as well as offline. In the same way connecting with friends online strengthens real relationships, developing this infrastructure will strengthen these communities, as well as enable completely new ones to form. \n",
      "A woman named Christina was diagnosed with a rare disorder called Epidermolysis Bullosa    and now she's a member of a group that connects 2,400 people around the world so none of them have to suffer alone. A man named Matt was raising his two sons by himself and he started the Black Fathers group to help men share advice and encouragement as they raise their families. In San Diego, more than 4,000 military family members are part of a group that helps them make friends with other spouses. These communities don't just interact online. They hold get togethers, organize dinners, and support each other in their daily lives.\n",
      "We recently found that more than 100 million people on Facebook are members of what we call \"very meaningful\" groups. These are groups that upon joining, quickly become the most important part of our social network experience and an important part of our physical support structure. For example, many new parents tell us that joining a parenting group after having a child fits this purpose.\n",
      "There is a real opportunity to connect more of us with groups that will be meaningful social infrastructure in our lives. More than one billion people are active members of Facebook groups, but most don't seek out groups on their own    friends send invites or Facebook suggests them. If we can improve our suggestions and help connect one billion people with meaningful communities, that can strengthen our social fabric. \n",
      "Going forward, we will measure Facebook's progress with groups based on meaningful groups, not groups overall. This will require not only helping people connect with existing meaningful groups, but also enabling community leaders to create more meaningful groups for people to connect with.\n",
      "The most successful physical communities have engaged leaders, and we've seen the same with online groups as well. In Berlin, a man named Monis Bukhari runs a group where he personally helps refugees find homes and jobs. Today, Facebook's tools for group admins are relatively simple. We plan to build more tools to empower community leaders like Monis to run and grow their groups the way they'd like, similar to what we've done with Pages.\n",
      "Most communities are made of many sub communities, and this is another clear area for developing new tools. A school, for example, is not a single community, but many smaller groups among its classes, dorms and student groups. Just as the social fabric of society is made up of many communities, each community is made of many groups of personal connections. We plan to expand groups to support sub communities.\n",
      "We can look at many activities through the lens of building community. Watching video of our favorite sports team or TV show, reading our favorite newspaper, or playing our favorite game are not just entertainment or information but a shared experience and opportunity to bring together people who care about the same things. We can design these experiences not for passive consumption but for strengthening social connections.\n",
      "Our goal is to strengthen existing communities by helping us come together online as well as offline, as well as enabling us to form completely new communities, transcending physical location. When we do this, beyond connecting online, we reinforce our physical communities by bringing us together in person to support each other.\n",
      "A healthy society needs these communities to support our personal, emotional and spiritual needs. In a world where this physical social infrastructure has been declining, we have a real opportunity to help strengthen these communities and the social fabric of our society.\n",
      "\n",
      "Safe Community\n",
      "\n",
      "As we build a global community, this is a moment of truth. Our success isn't just based on whether we can capture videos and share them with friends. It's about whether we're building a community that helps keep us safe    that prevents harm, helps during crises, and rebuilds afterwards.\n",
      "Today's threats are increasingly global, but the infrastructure to protect us is not. Problems like terrorism, natural disasters, disease, refugee crises, and climate change need coordinated responses from a worldwide vantage point. No nation can solve them alone. A virus in one nation can quickly spread to others. A conflict in one country can create a refugee crisis across continents. Pollution in one place can affect the environment around the world. Humanity's current systems are insufficient to address these issues.\n",
      "Many dedicated people join global non profit organizations to help, but the market often fails to fund or incentivize building the necessary infrastructure. I have long expected more organizations and startups to build health and safety tools using technology, and I have been surprised by how little of what must be built has even been attempted. There is a real opportunity to build global safety infrastructure, and I have directed Facebook to invest more and more resources into serving this need.\n",
      "For some of these problems, the Facebook community is in a unique position to help prevent harm, assist during a crisis, or come together to rebuild afterwards. This is because of the amount of communication across our network, our ability to quickly reach people worldwide in an emergency, and the vast scale of people's intrinsic goodness aggregated across our community.\n",
      "To prevent harm, we can build social infrastructure to help our community identify problems before they happen. When someone is thinking of suicide or hurting themselves, we've built infrastructure to give their friends and community tools that could save their life. When a child goes missing, we've built infrastructure to show Amber Alerts    and multiple children have been rescued without harm. And we've built infrastructure to work with public safety organizations around the world when we become aware of these issues. Going forward, there are even more cases where our community should be able to identify risks related to mental health, disease or crime.\n",
      "To help during a crisis, we've built infrastructure like Safety Check so we can all let our friends know we're safe and check on friends who might be affected by an attack or natural disaster. Safety Check has been activated almost 500 times in two years and has already notified people that their families and friends are safe more than a billion times. When there is a disaster, governments often call us to make sure Safety Check has been activated in their countries. But there is more to build. We recently added tools to find and offer shelter, food and other resources during emergencies. Over time, our community should be able to help during wars and ongoing issues that are not limited to a single event.\n",
      "To rebuild after a crisis, we've built the world's largest social infrastructure for collective action. A few years ago, after an earthquake in Nepal, the Facebook community raised $15 million to help people recover and rebuild    which was the largest crowdfunded relief effort in history. We saw a similar effort after the shooting at the Pulse nightclub in Orlando when people across the country organized blood donations to help victims they had never met. Similarly, we built tools so millions of people could commit to becoming organ donors to save others after accidents, and registries reported larger boosts in sign ups than ever before.\n",
      "Looking ahead, one of our greatest opportunities to keep people safe is building artificial intelligence to understand more quickly and accurately what is happening across our community. \n",
      "There are billions of posts, comments and messages across our services each day, and since it's impossible to review all of them, we review content once it is reported to us. There have been terribly tragic events    like suicides, some live streamed    that perhaps could have been prevented if someone had realized what was happening and reported them sooner. There are cases of bullying and harassment every day, that our team must be alerted to before we can help out. These stories show we must find a way to do more.\n",
      "Artificial intelligence can help provide a better approach. We are researching systems that can look at photos and videos to flag content our team should review. This is still very early in development, but we have started to have it look at some content, and it already generates about one third of all reports to the team that reviews content for our community.\n",
      "It will take many years to fully develop these systems. Right now, we're starting to explore ways to use AI to tell the difference between news stories about terrorism and actual terrorist propaganda so we can quickly remove anyone trying to use our services to recruit for a terrorist organization. This is technically difficult as it requires building AI that can read and understand news, but we need to work on this to help fight terrorism worldwide.\n",
      "As we discuss keeping our community safe, it is important to emphasize that part of keeping people safe is protecting individual security and liberty. We are strong advocates of encryption and have built it into the largest messaging platforms in the world    WhatsApp and Messenger. Keeping our community safe does not require compromising privacy. Since building end to end encryption into WhatsApp, we have reduced spam and malicious content by more than 75%.\n",
      "The path forward is to recognize that a global community needs social infrastructure to keep us safe from threats around the world, and that our community is uniquely positioned to prevent disasters, help during crises, and rebuild afterwards. Keeping the global community safe is an important part of our mission    and an important part of how we'll measure our progress going forward.\n",
      "\n",
      "Informed Community\n",
      "\n",
      "The purpose of any community is to bring people together to do things we couldn't do on our own. To do this, we need ways to share new ideas and share enough common understanding to actually work together.\n",
      "Giving everyone a voice has historically been a very positive force for public discourse because it increases the diversity of ideas shared. But the past year has also shown it may fragment our shared sense of reality. It is our responsibility to amplify the good effects and mitigate the bad    to continue increasing diversity while strengthening our common understanding so our community can create the greatest positive impact on the world.\n",
      "The two most discussed concerns this past year were about diversity of viewpoints we see (filter bubbles) and accuracy of information (fake news). I worry about these and we have studied them extensively, but I also worry there are even more powerful effects we must mitigate around sensationalism and polarization leading to a loss of common understanding.\n",
      "Social media already provides more diverse viewpoints than traditional media ever has. Even if most of our friends are like us, we all know people with different interests, beliefs and backgrounds who expose us to different perspectives. Compared with getting our news from the same two or three TV networks or reading the same newspapers with their consistent editorial views, our networks on Facebook show us more diverse content.\n",
      "But our goal must be to help people see a more complete picture, not just alternate perspectives. We must be careful how we do this. Research shows that some of the most obvious ideas, like showing people an article from the opposite perspective, actually deepen polarization by framing other perspectives as foreign. A more effective approach is to show a range of perspectives, let people see where their views are on a spectrum and come to a conclusion on what they think is right. Over time, our community will identify which sources provide a complete range of perspectives so that content will naturally surface more.\n",
      "Accuracy of information is very important. We know there is misinformation and even outright hoax content on Facebook, and we take this very seriously. We've made progress fighting hoaxes the way we fight spam, but we have more work to do. We are proceeding carefully because there is not always a clear line between hoaxes, satire and opinion. In a free society, it's important that people have the power to share their opinion, even if others think they're wrong. Our approach will focus less on banning misinformation, and more on surfacing additional perspectives and information, including that fact checkers dispute an item's accuracy.\n",
      "While we have more work to do on information diversity and misinformation, I am even more focused on the impact of sensationalism and polarization, and the idea of building common understanding.\n",
      "Social media is a short form medium where resonant messages get amplified many times. This rewards simplicity and discourages nuance. At its best, this focuses messages and exposes people to different ideas. At its worst, it oversimplifies important topics and pushes us towards extremes.\n",
      "Polarization exists in all areas of discourse, not just social media. It occurs in all groups and communities, including companies, classrooms and juries, and it's usually unrelated to politics. In the tech community, for example, discussion around AI has been oversimplified to existential fear mongering. The harm is that sensationalism moves people away from balanced nuanced opinions towards polarized extremes.\n",
      "If this continues and we lose common understanding, then even if we eliminated all misinformation, people would just emphasize different sets of facts to fit their polarized opinions. That's why I'm so worried about sensationalism in media.\n",
      "Fortunately, there are clear steps we can take to correct these effects. For example, we noticed some people share stories based on sensational headlines without ever reading the story. In general, if you become less likely to share a story after reading it, that's a good sign the headline was sensational. If you're more likely to share a story after reading it, that's often a sign of good in depth content. We recently started reducing sensationalism in News Feed by taking this into account for pieces of content, and going forward signals like this will identify sensational publishers as well. There are many steps like this we have taken and will keep taking to reduce sensationalism and help build a more informed community.\n",
      "Research suggests the best solutions for improving discourse may come from getting to know each other as whole people instead of just opinions    something Facebook may be uniquely suited to do. If we connect with people about what we have in common    sports teams, TV shows, interests    it is easier to have dialogue about what we disagree on. When we do this well, we give billions of people the ability to share new perspectives while mitigating the unwanted effects that come with any new medium.\n",
      "A strong news industry is also critical to building an informed community. Giving people a voice is not enough without having people dedicated to uncovering new information and analyzing it. There is more we must do to support the news industry to make sure this vital social function is sustainable    from growing local news, to developing formats best suited to mobile devices, to improving the range of business models news organizations rely on.\n",
      "Connecting everyone to the internet is also necessary for building an informed community. For the majority of people around the world, the debate is not about the quality of public discourse but whether they have access to basic information they need at all, often related to health, education and jobs.\n",
      "Finally, I want to emphasize that the vast majority of conversations on Facebook are social, not ideological. They're friends sharing jokes and families staying in touch across cities. They're people finding groups, whether they're new parents raising kids or newly diagnosed patients suffering from a disease together. Sometimes it's for joy, coming together around religion or sports. And sometimes it's for survival, like refugees communicating to find shelter.\n",
      "Whatever your situation when you enter our community, our commitment is to continue improving our tools to give you the power to share your experience. By increasing the diversity of our ideas and strengthening our common understanding, our community can have the greatest positive impact on the world.\n",
      "\n",
      "Civically Engaged Community\n",
      "\n",
      "Our society will reflect our collective values only if we engage in the civic process and participate in self governance. There are two distinct types of social infrastructure that must be built:\n",
      "The first encourages engagement in existing political processes: voting, engaging with issues and representatives, speaking out, and sometimes organizing. Only through dramatically greater engagement can we ensure these political processes reflect our values.\n",
      "The second is establishing a new process for citizens worldwide to participate in collective decision making. Our world is more connected than ever, and we face global problems that span national boundaries. As the largest global community, Facebook can explore examples of how community governance might work at scale.\n",
      "The starting point for civic engagement in the existing political process is to support voting across the world. It is striking that only about half of Americans eligible to vote participate in elections. This is low compared to other countries, but democracy is receding in many countries and there is a large opportunity across the world to encourage civic participation.\n",
      "In the United States election last year, we helped more than 2 million people register to vote and then go vote. This was among the largest voter turnout efforts in history, and larger than those of both major parties combined. In every election around the world, we keep improving our tools to help more people register and vote, and we hope to eventually enable hundreds of millions of more people to vote in elections than do today, in every democratic country around the world.\n",
      "Local civic engagement is a big opportunity as well as national. Today, most of us do not even know who our local representatives are, but many policies impacting our lives are local, and this is where our participation has the greatest influence. Research suggests reading local news is directly correlated with local civic engagement. This shows how building an informed community, supportive local communities, and a civically engaged community are all related.\n",
      "Beyond voting, the greatest opportunity is helping people stay engaged with the issues that matter to them every day, not just every few years at the ballot box. We can help establish direct dialogue and accountability between people and our elected leaders. In India, Prime Minister Modi has asked his ministers to share their meetings and information on Facebook so they can hear direct feedback from citizens. In Kenya, whole villages are in WhatsApp groups together, including their representatives. In recent campaigns around the world    from India and Indonesia across Europe to the United States    we've seen the candidate with the largest and most engaged following on Facebook usually wins. Just as TV became the primary medium for civic communication in the 1960s, social media is becoming this in the 21st century.\n",
      "This creates an opportunity for us to connect with our representatives at all levels. In the last few months, we have already helped our community double the number of connections between people and our representatives by making it easier to connect with all our representatives in one click. When we connect, we can engage directly in comments and messages. For example, in Iceland, it's common to tag politicians in group discussions so they can take community issues to parliament.\n",
      "Sometimes people must speak out and demonstrate for what they believe is right. From Tahrir Square to the Tea Party    our community organizes these demonstrations using our infrastructure for events and groups. On a daily basis, people use their voices to share their views in ways that can spread around the world and grow into movements. The Women's March is an example of this, where a grandmother with an internet connection wrote a post that led her friends to start a Facebook event that eventually turned into millions of people marching in cities around the world.\n",
      "Giving people a voice is a principle our community has been committed to since we began. As we look ahead to building the social infrastructure for a global community, we will work on building new tools that encourage thoughtful civic engagement. Empowering us to use our voices will only become more important.\n",
      "\n",
      "Inclusive Community\n",
      "\n",
      "Building an inclusive global community requires establishing a new process for citizens worldwide to participate in community governance. I hope that we can explore examples of how collective decision making might work at scale.\n",
      "Facebook is not just technology or media, but a community of people. That means we need Community Standards that reflect our collective values for what should and should not be allowed.\n",
      "In the last year, the complexity of the issues we've seen has outstripped our existing processes for governing the community. We saw this in errors taking down newsworthy videos related to Black Lives Matter and police violence, and in removing the historical Terror of War photo from Vietnam. We've seen this in misclassifying hate speech in political debates in both directions    taking down accounts and content that should be left up and leaving up content that was hateful and should be taken down. Both the number of issues and their cultural importance has increased recently.\n",
      "This has been painful for me because I often agree with those criticizing us that we're making mistakes. These mistakes are almost never because we hold ideological positions at odds with the community, but instead are operational scaling issues. Our guiding philosophy for the Community Standards is to try to reflect the cultural norms of our community. When in doubt, we always favor giving people the power to share more. \n",
      "There are a few reasons for the increase in issues we've seen: cultural norms are shifting, cultures are different around the world, and people are sensitive to different things.\n",
      "First, our community is evolving from its origin connecting us with family and friends to now becoming a source of news and public discourse as well. With this cultural shift, our Community Standards must adapt to permit more newsworthy and historical content, even if some is objectionable. For example, an extremely violent video of someone dying would have been marked as disturbing and taken down. However, now that we use Live to capture the news and we post videos to protest violence, our standards must adapt. Similarly, a photo depicting any child nudity would have always been taken down    and for good reason    but we've now adapted our standards to allow historically important content like the Terror of War photo. These issues reflect a need to update our standards to meet evolving expectations from our community.\n",
      "Second, our community spans many countries and cultures, and the norms are different in each region. It's not surprising that Europeans more frequently find fault with taking down images depicting nudity, since some European cultures are more accepting of nudity than, for example, many communities in the Middle East or Asia. With a community of almost two billion people, it is less feasible to have a single set of standards to govern the entire community so we need to evolve towards a system of more local governance.\n",
      "Third, even within a given culture, we have different opinions on what we want to see and what is objectionable. I may be okay with more politically charged speech but not want to see anything sexually suggestive, while you may be okay with nudity but not want to see offensive speech. Similarly, you may want to share a violent video in a protest without worrying that you're going to bother friends who don't want to see it. And just as it's a bad experience to see objectionable content, it's also a terrible experience to be told we can't share something we feel is important. This suggests we need to evolve towards a system of personal control over our experience.\n",
      "Fourth, we're operating at such a large scale that even a small percent of errors causes a large number of bad experiences. We review over one hundred million pieces of content every month, and even if our reviewers get 99% of the calls right, that's still millions of errors over time. Any system will always have some mistakes, but I believe we can do better than we are today.\n",
      "I've spent a lot of time over the past year reflecting on how we can improve our community governance. Sitting here in California, we're not best positioned to identify the cultural norms around the world. Instead, we need a system where we can all contribute to setting the standards. Although this system is not fully developed, I want to share an idea of how this might work.\n",
      "The guiding principles are that the Community Standards should reflect the cultural norms of our community, that each person should see as little objectionable content as possible, and each person should be able to share what they want while being told they cannot share something as little as possible. The approach is to combine creating a large scale democratic process to determine standards with AI to help enforce them.\n",
      "The idea is to give everyone in the community options for how they would like to set the content policy for themselves. Where is your line on nudity? On violence? On graphic content? On profanity? What you decide will be your personal settings. We will periodically ask you these questions to increase participation and so you don't need to dig around to find them. For those who don't make a decision, the default will be whatever the majority of people in your region selected, like a referendum. Of course you will always be free to update your personal settings anytime.\n",
      "With a broader range of controls, content will only be taken down if it is more objectionable than the most permissive options allow. Within that range, content should simply not be shown to anyone whose personal controls suggest they would not want to see it, or at least they should see a warning first. Although we will still block content based on standards and local laws, our hope is that this system of personal controls and democratic referenda should minimize restrictions on what we can share.\n",
      "It's worth noting that major advances in AI are required to understand text, photos and videos to judge whether they contain hate speech, graphic violence, sexually explicit content, and more. At our current pace of research, we hope to begin handling some of these cases in 2017, but others will not be possible for many years.\n",
      "Overall, it is important that the governance of our community scales with the complexity and demands of its people. We are committed to always doing better, even if that involves building a worldwide voting system to give you more voice and control. Our hope is that this model provides examples of how collective decision making may work in other aspects of the global community.\n",
      "\n",
      "This is an important time in the development of our global community, and it's a time when many of us around the world are reflecting on how we can have the most positive impact. \n",
      "History has had many moments like today. As we've made our great leaps from tribes to cities to nations, we have always had to build social infrastructure like communities, media and governments for us to thrive and reach the next level. At each step we learned how to come together to solve our challenges and accomplish greater things than we could alone. We have done it before and we will do it again.\n",
      "I am reminded of President Lincoln's remarks during the American Civil War: \"We can succeed only by concert. It is not 'can any of us imagine better?' but, 'can we all do better?' The dogmas of the quiet past, are inadequate to the stormy present. The occasion is piled high with difficulty, and we must rise with the occasion. As our case is new, so we must think anew, act anew.\"\n",
      "There are many of us who stand for bringing people together and connecting the world. I hope we have the focus to take the long view and build the new social infrastructure to create the world we want for generations to come.\n",
      "It's an honor to be on this journey with you. Thank you for being part of this community, and thanks for everything you do to make the world more open and connected.\n",
      "\n",
      "Mark\n"
     ]
    }
   ],
   "source": [
    "sentences = []\n",
    "position = 0\n",
    "for line in open('building_global_community.txt'):\n",
    "    # 刪減前後的空白(與換行)\n",
    "    line = line.strip('')\n",
    "    #print (line)\n",
    "    \n",
    "    # 將處理好的字串加入 sentences \n",
    "    sentences.append(line)\n",
    "\n",
    "    #split sentences into words (split)\n",
    "    sentence = ''.join(sentences)\n",
    "    \n",
    "sentence = sentence.replace('-\\n','')\n",
    "sentence = sentence.replace('-',' ')\n",
    "print (sentence)"
   ]
  },
  {
   "cell_type": "code",
   "execution_count": 28,
   "metadata": {
    "collapsed": false
   },
   "outputs": [
    {
     "name": "stdout",
     "output_type": "stream",
     "text": [
      "['To', 'our', 'community', ',', 'On', 'our', 'journey', 'to', 'connect', 'the', 'world', ',', 'we', 'often', 'discuss', 'products', 'we', \"'re\", 'building', 'and', 'updates', 'on', 'our', 'business', '.', 'Today', 'I', 'want', 'to', 'focus', 'on', 'the', 'most', 'important', 'question', 'of', 'all', ':', 'are', 'we', 'building', 'the', 'world', 'we', 'all', 'want', '?', 'History', 'is', 'the', 'story', 'of', 'how', 'we', \"'ve\", 'learned', 'to', 'come', 'together', 'in', 'ever', 'greater', 'numbers', 'from', 'tribes', 'to', 'cities', 'to', 'nations', '.', 'At', 'each', 'step', ',', 'we', 'built', 'social', 'infrastructure', 'like', 'communities', ',', 'media', 'and', 'governments', 'to', 'empower', 'us', 'to', 'achieve', 'things', 'we', 'could', \"n't\", 'on', 'our', 'own', '.', 'Today', 'we', 'are', 'close', 'to', 'taking', 'our', 'next', 'step', '.', 'Our', 'greatest', 'opportunities', 'are', 'now', 'global', 'like', 'spreading', 'prosperity', 'and', 'freedom', ',', 'promoting', 'peace', 'and', 'understanding', ',', 'lifting', 'people', 'out', 'of', 'poverty', ',', 'and', 'accelerating', 'science', '.', 'Our', 'greatest', 'challenges', 'also', 'need', 'global', 'responses', 'like', 'ending', 'terrorism', ',', 'fighting', 'climate', 'change', ',', 'and', 'preventing', 'pandemics', '.', 'Progress', 'now', 'requires', 'humanity', 'coming', 'together', 'not', 'just', 'as', 'cities', 'or', 'nations', ',', 'but', 'also', 'as', 'a', 'global', 'community', '.', 'This', 'is', 'especially', 'important', 'right', 'now', '.', 'Facebook', 'stands', 'for', 'bringing', 'us', 'closer', 'together', 'and', 'building', 'a', 'global', 'community', '.', 'When', 'we', 'began', ',', 'this', 'idea', 'was', 'not', 'controversial', '.', 'Every', 'year', ',', 'the', 'world', 'got', 'more', 'connected', 'and', 'this', 'was', 'seen', 'as', 'a', 'positive', 'trend', '.', 'Yet', 'now', ',', 'across', 'the', 'world', 'there', 'are', 'people', 'left', 'behind', 'by', 'globalization', ',', 'and', 'movements', 'for', 'withdrawing', 'from', 'global', 'connection', '.', 'There', 'are', 'questions', 'about', 'whether', 'we', 'can', 'make', 'a', 'global', 'community', 'that', 'works', 'for', 'everyone', ',', 'and', 'whether', 'the', 'path', 'ahead', 'is', 'to', 'connect', 'more', 'or', 'reverse', 'course', '.', 'This', 'is', 'a', 'time', 'when', 'many', 'of', 'us', 'around', 'the', 'world', 'are', 'reflecting', 'on', 'how', 'we', 'can', 'have', 'the', 'most', 'positive', 'impact', '.', 'I', 'am', 'reminded', 'of', 'my', 'favorite', 'saying', 'about', 'technology', ':', '``', 'We', 'always', 'overestimate', 'what', 'we', 'can', 'do', 'in', 'two', 'years', ',', 'and', 'we', 'underestimate', 'what', 'we', 'can', 'do', 'in', 'ten', 'years', '.', \"''\", 'We', 'may', 'not', 'have', 'the', 'power', 'to', 'create', 'the', 'world', 'we', 'want', 'immediately', ',', 'but', 'we', 'can', 'all', 'start', 'working', 'on', 'the', 'long', 'term', 'today', '.', 'In', 'times', 'like', 'these', ',', 'the', 'most', 'important', 'thing', 'we', 'at', 'Facebook', 'can', 'do', 'is', 'develop', 'the', 'social', 'infrastructure', 'to', 'give', 'people', 'the', 'power', 'to', 'build', 'a', 'global', 'community', 'that', 'works', 'for', 'all', 'of', 'us', '.', 'For', 'the', 'past', 'decade', ',', 'Facebook', 'has', 'focused', 'on', 'connecting', 'friends', 'and', 'families', '.', 'With', 'that', 'foundation', ',', 'our', 'next', 'focus', 'will', 'be', 'developing', 'the', 'social', 'infrastructure', 'for', 'community', 'for', 'supporting', 'us', ',', 'for', 'keeping', 'us', 'safe', ',', 'for', 'informing', 'us', ',', 'for', 'civic', 'engagement', ',', 'and', 'for', 'inclusion', 'of', 'all', '.', 'Bringing', 'us', 'all', 'together', 'as', 'a', 'global', 'community', 'is', 'a', 'project', 'bigger', 'than', 'any', 'one', 'organization', 'or', 'company', ',', 'but', 'Facebook', 'can', 'help', 'contribute', 'to', 'answering', 'these', 'five', 'important', 'questions', ':', 'How', 'do', 'we', 'help', 'people', 'build', 'supportive', 'communities', 'that', 'strengthen', 'traditional', 'institutions', 'in', 'a', 'world', 'where', 'membership', 'in', 'these', 'institutions', 'is', 'declining', '?', 'How', 'do', 'we', 'help', 'people', 'build', 'a', 'safe', 'community', 'that', 'prevents', 'harm', ',', 'helps', 'during', 'crises', 'and', 'rebuilds', 'afterwards', 'in', 'a', 'world', 'where', 'anyone', 'across', 'the', 'world', 'can', 'affect', 'us', '?', 'How', 'do', 'we', 'help', 'people', 'build', 'an', 'informed', 'community', 'that', 'exposes', 'us', 'to', 'new', 'ideas', 'and', 'builds', 'common', 'understanding', 'in', 'a', 'world', 'where', 'every', 'person', 'has', 'a', 'voice', '?', 'How', 'do', 'we', 'help', 'people', 'build', 'a', 'civically', 'engaged', 'community', 'in', 'a', 'world', 'where', 'participation', 'in', 'voting', 'sometimes', 'includes', 'less', 'than', 'half', 'our', 'population', '?', 'How', 'do', 'we', 'help', 'people', 'build', 'an', 'inclusive', 'community', 'that', 'reflects', 'our', 'collective', 'values', 'and', 'common', 'humanity', 'from', 'local', 'to', 'global', 'levels', ',', 'spanning', 'cultures', ',', 'nations', 'and', 'regions', 'in', 'a', 'world', 'with', 'few', 'examples', 'of', 'global', 'communities', '?', 'My', 'hope', 'is', 'that', 'more', 'of', 'us', 'will', 'commit', 'our', 'energy', 'to', 'building', 'the', 'long', 'term', 'social', 'infrastructure', 'to', 'bring', 'humanity', 'together', '.', 'The', 'answers', 'to', 'these', 'questions', 'wo', \"n't\", 'all', 'come', 'from', 'Facebook', ',', 'but', 'I', 'believe', 'we', 'can', 'play', 'a', 'role', '.', 'Our', 'job', 'at', 'Facebook', 'is', 'to', 'help', 'people', 'make', 'the', 'greatest', 'positive', 'impact', 'while', 'mitigating', 'areas', 'where', 'technology', 'and', 'social', 'media', 'can', 'contribute', 'to', 'divisiveness', 'and', 'isolation', '.', 'Facebook', 'is', 'a', 'work', 'in', 'progress', ',', 'and', 'we', 'are', 'dedicated', 'to', 'learning', 'and', 'improving', '.', 'We', 'take', 'our', 'responsibility', 'seriously', ',', 'and', 'today', 'I', 'want', 'to', 'talk', 'about', 'how', 'we', 'plan', 'to', 'do', 'our', 'part', 'to', 'build', 'this', 'global', 'community', '.', 'Supportive', 'Communities', 'Building', 'a', 'global', 'community', 'that', 'works', 'for', 'everyone', 'starts', 'with', 'the', 'millions', 'of', 'smaller', 'communities', 'and', 'intimate', 'social', 'structures', 'we', 'turn', 'to', 'for', 'our', 'personal', ',', 'emotional', 'and', 'spiritual', 'needs', '.', 'Whether', 'they', \"'re\", 'churches', ',', 'sports', 'teams', ',', 'unions', 'or', 'other', 'local', 'groups', ',', 'they', 'all', 'share', 'important', 'roles', 'as', 'social', 'infrastructure', 'for', 'our', 'communities', '.', 'They', 'provide', 'all', 'of', 'us', 'with', 'a', 'sense', 'of', 'purpose', 'and', 'hope', ';', 'moral', 'validation', 'that', 'we', 'are', 'needed', 'and', 'part', 'of', 'something', 'bigger', 'than', 'ourselves', ';', 'comfort', 'that', 'we', 'are', 'not', 'alone', 'and', 'a', 'community', 'is', 'looking', 'out', 'for', 'us', ';', 'mentorship', ',', 'guidance', 'and', 'personal', 'development', ';', 'a', 'safety', 'net', ';', 'values', ',', 'cultural', 'norms', 'and', 'accountability', ';', 'social', 'gatherings', ',', 'rituals', 'and', 'a', 'way', 'to', 'meet', 'new', 'people', ';', 'and', 'a', 'way', 'to', 'pass', 'time', '.', 'In', 'our', 'society', ',', 'we', 'have', 'personal', 'relationships', 'with', 'friends', 'and', 'family', ',', 'and', 'then', 'we', 'have', 'institutional', 'relationships', 'with', 'the', 'governments', 'that', 'set', 'the', 'rules', '.', 'A', 'healthy', 'society', 'also', 'has', 'many', 'layers', 'of', 'communities', 'between', 'us', 'and', 'government', 'that', 'take', 'care', 'of', 'our', 'needs', '.', 'When', 'we', 'refer', 'to', 'our', '``', 'social', 'fabric', \"''\", ',', 'we', 'usually', 'mean', 'the', 'many', 'mediating', 'groups', 'that', 'bring', 'us', 'together', 'and', 'reinforce', 'our', 'values', '.', 'However', ',', 'there', 'has', 'been', 'a', 'striking', 'decline', 'in', 'the', 'important', 'social', 'infrastructure', 'of', 'local', 'communities', 'over', 'the', 'past', 'few', 'decades', '.', 'Since', 'the', '1970s', ',', 'membership', 'in', 'some', 'local', 'groups', 'has', 'declined', 'by', 'as', 'much', 'as', 'one', 'quarter', ',', 'cutting', 'across', 'all', 'segments', 'of', 'the', 'population', '.', 'The', 'decline', 'raises', 'deeper', 'questions', 'alongside', 'surveys', 'showing', 'large', 'percentages', 'of', 'our', 'population', 'lack', 'a', 'sense', 'of', 'hope', 'for', 'the', 'future', '.', 'It', 'is', 'possible', 'many', 'of', 'our', 'challenges', 'are', 'at', 'least', 'as', 'much', 'social', 'as', 'they', 'are', 'economic', 'related', 'to', 'a', 'lack', 'of', 'community', 'and', 'connection', 'to', 'something', 'greater', 'than', 'ourselves', '.', 'As', 'one', 'pastor', 'told', 'me', ':', '``', 'People', 'feel', 'unsettled', '.', 'A', 'lot', 'of', 'what', 'was', 'settling', 'in', 'the', 'past', 'does', \"n't\", 'exist', 'anymore', '.', \"''\", 'Online', 'communities', 'are', 'a', 'bright', 'spot', ',', 'and', 'we', 'can', 'strengthen', 'existing', 'physical', 'communities', 'by', 'helping', 'people', 'come', 'together', 'online', 'as', 'well', 'as', 'offline', '.', 'In', 'the', 'same', 'way', 'connecting', 'with', 'friends', 'online', 'strengthens', 'real', 'relationships', ',', 'developing', 'this', 'infrastructure', 'will', 'strengthen', 'these', 'communities', ',', 'as', 'well', 'as', 'enable', 'completely', 'new', 'ones', 'to', 'form', '.', 'A', 'woman', 'named', 'Christina', 'was', 'diagnosed', 'with', 'a', 'rare', 'disorder', 'called', 'Epidermolysis', 'Bullosa', 'and', 'now', 'she', \"'s\", 'a', 'member', 'of', 'a', 'group', 'that', 'connects', '2,400', 'people', 'around', 'the', 'world', 'so', 'none', 'of', 'them', 'have', 'to', 'suffer', 'alone', '.', 'A', 'man', 'named', 'Matt', 'was', 'raising', 'his', 'two', 'sons', 'by', 'himself', 'and', 'he', 'started', 'the', 'Black', 'Fathers', 'group', 'to', 'help', 'men', 'share', 'advice', 'and', 'encouragement', 'as', 'they', 'raise', 'their', 'families', '.', 'In', 'San', 'Diego', ',', 'more', 'than', '4,000', 'military', 'family', 'members', 'are', 'part', 'of', 'a', 'group', 'that', 'helps', 'them', 'make', 'friends', 'with', 'other', 'spouses', '.', 'These', 'communities', 'do', \"n't\", 'just', 'interact', 'online', '.', 'They', 'hold', 'get', 'togethers', ',', 'organize', 'dinners', ',', 'and', 'support', 'each', 'other', 'in', 'their', 'daily', 'lives', '.', 'We', 'recently', 'found', 'that', 'more', 'than', '100', 'million', 'people', 'on', 'Facebook', 'are', 'members', 'of', 'what', 'we', 'call', '``', 'very', 'meaningful', \"''\", 'groups', '.', 'These', 'are', 'groups', 'that', 'upon', 'joining', ',', 'quickly', 'become', 'the', 'most', 'important', 'part', 'of', 'our', 'social', 'network', 'experience', 'and', 'an', 'important', 'part', 'of', 'our', 'physical', 'support', 'structure', '.', 'For', 'example', ',', 'many', 'new', 'parents', 'tell', 'us', 'that', 'joining', 'a', 'parenting', 'group', 'after', 'having', 'a', 'child', 'fits', 'this', 'purpose', '.', 'There', 'is', 'a', 'real', 'opportunity', 'to', 'connect', 'more', 'of', 'us', 'with', 'groups', 'that', 'will', 'be', 'meaningful', 'social', 'infrastructure', 'in', 'our', 'lives', '.', 'More', 'than', 'one', 'billion', 'people', 'are', 'active', 'members', 'of', 'Facebook', 'groups', ',', 'but', 'most', 'do', \"n't\", 'seek', 'out', 'groups', 'on', 'their', 'own', 'friends', 'send', 'invites', 'or', 'Facebook', 'suggests', 'them', '.', 'If', 'we', 'can', 'improve', 'our', 'suggestions', 'and', 'help', 'connect', 'one', 'billion', 'people', 'with', 'meaningful', 'communities', ',', 'that', 'can', 'strengthen', 'our', 'social', 'fabric', '.', 'Going', 'forward', ',', 'we', 'will', 'measure', 'Facebook', \"'s\", 'progress', 'with', 'groups', 'based', 'on', 'meaningful', 'groups', ',', 'not', 'groups', 'overall', '.', 'This', 'will', 'require', 'not', 'only', 'helping', 'people', 'connect', 'with', 'existing', 'meaningful', 'groups', ',', 'but', 'also', 'enabling', 'community', 'leaders', 'to', 'create', 'more', 'meaningful', 'groups', 'for', 'people', 'to', 'connect', 'with', '.', 'The', 'most', 'successful', 'physical', 'communities', 'have', 'engaged', 'leaders', ',', 'and', 'we', \"'ve\", 'seen', 'the', 'same', 'with', 'online', 'groups', 'as', 'well', '.', 'In', 'Berlin', ',', 'a', 'man', 'named', 'Monis', 'Bukhari', 'runs', 'a', 'group', 'where', 'he', 'personally', 'helps', 'refugees', 'find', 'homes', 'and', 'jobs', '.', 'Today', ',', 'Facebook', \"'s\", 'tools', 'for', 'group', 'admins', 'are', 'relatively', 'simple', '.', 'We', 'plan', 'to', 'build', 'more', 'tools', 'to', 'empower', 'community', 'leaders', 'like', 'Monis', 'to', 'run', 'and', 'grow', 'their', 'groups', 'the', 'way', 'they', \"'d\", 'like', ',', 'similar', 'to', 'what', 'we', \"'ve\", 'done', 'with', 'Pages', '.', 'Most', 'communities', 'are', 'made', 'of', 'many', 'sub', 'communities', ',', 'and', 'this', 'is', 'another', 'clear', 'area', 'for', 'developing', 'new', 'tools', '.', 'A', 'school', ',', 'for', 'example', ',', 'is', 'not', 'a', 'single', 'community', ',', 'but', 'many', 'smaller', 'groups', 'among', 'its', 'classes', ',', 'dorms', 'and', 'student', 'groups', '.', 'Just', 'as', 'the', 'social', 'fabric', 'of', 'society', 'is', 'made', 'up', 'of', 'many', 'communities', ',', 'each', 'community', 'is', 'made', 'of', 'many', 'groups', 'of', 'personal', 'connections', '.', 'We', 'plan', 'to', 'expand', 'groups', 'to', 'support', 'sub', 'communities', '.', 'We', 'can', 'look', 'at', 'many', 'activities', 'through', 'the', 'lens', 'of', 'building', 'community', '.', 'Watching', 'video', 'of', 'our', 'favorite', 'sports', 'team', 'or', 'TV', 'show', ',', 'reading', 'our', 'favorite', 'newspaper', ',', 'or', 'playing', 'our', 'favorite', 'game', 'are', 'not', 'just', 'entertainment', 'or', 'information', 'but', 'a', 'shared', 'experience', 'and', 'opportunity', 'to', 'bring', 'together', 'people', 'who', 'care', 'about', 'the', 'same', 'things', '.', 'We', 'can', 'design', 'these', 'experiences', 'not', 'for', 'passive', 'consumption', 'but', 'for', 'strengthening', 'social', 'connections', '.', 'Our', 'goal', 'is', 'to', 'strengthen', 'existing', 'communities', 'by', 'helping', 'us', 'come', 'together', 'online', 'as', 'well', 'as', 'offline', ',', 'as', 'well', 'as', 'enabling', 'us', 'to', 'form', 'completely', 'new', 'communities', ',', 'transcending', 'physical', 'location', '.', 'When', 'we', 'do', 'this', ',', 'beyond', 'connecting', 'online', ',', 'we', 'reinforce', 'our', 'physical', 'communities', 'by', 'bringing', 'us', 'together', 'in', 'person', 'to', 'support', 'each', 'other', '.', 'A', 'healthy', 'society', 'needs', 'these', 'communities', 'to', 'support', 'our', 'personal', ',', 'emotional', 'and', 'spiritual', 'needs', '.', 'In', 'a', 'world', 'where', 'this', 'physical', 'social', 'infrastructure', 'has', 'been', 'declining', ',', 'we', 'have', 'a', 'real', 'opportunity', 'to', 'help', 'strengthen', 'these', 'communities', 'and', 'the', 'social', 'fabric', 'of', 'our', 'society', '.', 'Safe', 'Community', 'As', 'we', 'build', 'a', 'global', 'community', ',', 'this', 'is', 'a', 'moment', 'of', 'truth', '.', 'Our', 'success', 'is', \"n't\", 'just', 'based', 'on', 'whether', 'we', 'can', 'capture', 'videos', 'and', 'share', 'them', 'with', 'friends', '.', 'It', \"'s\", 'about', 'whether', 'we', \"'re\", 'building', 'a', 'community', 'that', 'helps', 'keep', 'us', 'safe', 'that', 'prevents', 'harm', ',', 'helps', 'during', 'crises', ',', 'and', 'rebuilds', 'afterwards', '.', 'Today', \"'s\", 'threats', 'are', 'increasingly', 'global', ',', 'but', 'the', 'infrastructure', 'to', 'protect', 'us', 'is', 'not', '.', 'Problems', 'like', 'terrorism', ',', 'natural', 'disasters', ',', 'disease', ',', 'refugee', 'crises', ',', 'and', 'climate', 'change', 'need', 'coordinated', 'responses', 'from', 'a', 'worldwide', 'vantage', 'point', '.', 'No', 'nation', 'can', 'solve', 'them', 'alone', '.', 'A', 'virus', 'in', 'one', 'nation', 'can', 'quickly', 'spread', 'to', 'others', '.', 'A', 'conflict', 'in', 'one', 'country', 'can', 'create', 'a', 'refugee', 'crisis', 'across', 'continents', '.', 'Pollution', 'in', 'one', 'place', 'can', 'affect', 'the', 'environment', 'around', 'the', 'world', '.', 'Humanity', \"'s\", 'current', 'systems', 'are', 'insufficient', 'to', 'address', 'these', 'issues', '.', 'Many', 'dedicated', 'people', 'join', 'global', 'non', 'profit', 'organizations', 'to', 'help', ',', 'but', 'the', 'market', 'often', 'fails', 'to', 'fund', 'or', 'incentivize', 'building', 'the', 'necessary', 'infrastructure', '.', 'I', 'have', 'long', 'expected', 'more', 'organizations', 'and', 'startups', 'to', 'build', 'health', 'and', 'safety', 'tools', 'using', 'technology', ',', 'and', 'I', 'have', 'been', 'surprised', 'by', 'how', 'little', 'of', 'what', 'must', 'be', 'built', 'has', 'even', 'been', 'attempted', '.', 'There', 'is', 'a', 'real', 'opportunity', 'to', 'build', 'global', 'safety', 'infrastructure', ',', 'and', 'I', 'have', 'directed', 'Facebook', 'to', 'invest', 'more', 'and', 'more', 'resources', 'into', 'serving', 'this', 'need', '.', 'For', 'some', 'of', 'these', 'problems', ',', 'the', 'Facebook', 'community', 'is', 'in', 'a', 'unique', 'position', 'to', 'help', 'prevent', 'harm', ',', 'assist', 'during', 'a', 'crisis', ',', 'or', 'come', 'together', 'to', 'rebuild', 'afterwards', '.', 'This', 'is', 'because', 'of', 'the', 'amount', 'of', 'communication', 'across', 'our', 'network', ',', 'our', 'ability', 'to', 'quickly', 'reach', 'people', 'worldwide', 'in', 'an', 'emergency', ',', 'and', 'the', 'vast', 'scale', 'of', 'people', \"'s\", 'intrinsic', 'goodness', 'aggregated', 'across', 'our', 'community', '.', 'To', 'prevent', 'harm', ',', 'we', 'can', 'build', 'social', 'infrastructure', 'to', 'help', 'our', 'community', 'identify', 'problems', 'before', 'they', 'happen', '.', 'When', 'someone', 'is', 'thinking', 'of', 'suicide', 'or', 'hurting', 'themselves', ',', 'we', \"'ve\", 'built', 'infrastructure', 'to', 'give', 'their', 'friends', 'and', 'community', 'tools', 'that', 'could', 'save', 'their', 'life', '.', 'When', 'a', 'child', 'goes', 'missing', ',', 'we', \"'ve\", 'built', 'infrastructure', 'to', 'show', 'Amber', 'Alerts', 'and', 'multiple', 'children', 'have', 'been', 'rescued', 'without', 'harm', '.', 'And', 'we', \"'ve\", 'built', 'infrastructure', 'to', 'work', 'with', 'public', 'safety', 'organizations', 'around', 'the', 'world', 'when', 'we', 'become', 'aware', 'of', 'these', 'issues', '.', 'Going', 'forward', ',', 'there', 'are', 'even', 'more', 'cases', 'where', 'our', 'community', 'should', 'be', 'able', 'to', 'identify', 'risks', 'related', 'to', 'mental', 'health', ',', 'disease', 'or', 'crime', '.', 'To', 'help', 'during', 'a', 'crisis', ',', 'we', \"'ve\", 'built', 'infrastructure', 'like', 'Safety', 'Check', 'so', 'we', 'can', 'all', 'let', 'our', 'friends', 'know', 'we', \"'re\", 'safe', 'and', 'check', 'on', 'friends', 'who', 'might', 'be', 'affected', 'by', 'an', 'attack', 'or', 'natural', 'disaster', '.', 'Safety', 'Check', 'has', 'been', 'activated', 'almost', '500', 'times', 'in', 'two', 'years', 'and', 'has', 'already', 'notified', 'people', 'that', 'their', 'families', 'and', 'friends', 'are', 'safe', 'more', 'than', 'a', 'billion', 'times', '.', 'When', 'there', 'is', 'a', 'disaster', ',', 'governments', 'often', 'call', 'us', 'to', 'make', 'sure', 'Safety', 'Check', 'has', 'been', 'activated', 'in', 'their', 'countries', '.', 'But', 'there', 'is', 'more', 'to', 'build', '.', 'We', 'recently', 'added', 'tools', 'to', 'find', 'and', 'offer', 'shelter', ',', 'food', 'and', 'other', 'resources', 'during', 'emergencies', '.', 'Over', 'time', ',', 'our', 'community', 'should', 'be', 'able', 'to', 'help', 'during', 'wars', 'and', 'ongoing', 'issues', 'that', 'are', 'not', 'limited', 'to', 'a', 'single', 'event', '.', 'To', 'rebuild', 'after', 'a', 'crisis', ',', 'we', \"'ve\", 'built', 'the', 'world', \"'s\", 'largest', 'social', 'infrastructure', 'for', 'collective', 'action', '.', 'A', 'few', 'years', 'ago', ',', 'after', 'an', 'earthquake', 'in', 'Nepal', ',', 'the', 'Facebook', 'community', 'raised', '$', '15', 'million', 'to', 'help', 'people', 'recover', 'and', 'rebuild', 'which', 'was', 'the', 'largest', 'crowdfunded', 'relief', 'effort', 'in', 'history', '.', 'We', 'saw', 'a', 'similar', 'effort', 'after', 'the', 'shooting', 'at', 'the', 'Pulse', 'nightclub', 'in', 'Orlando', 'when', 'people', 'across', 'the', 'country', 'organized', 'blood', 'donations', 'to', 'help', 'victims', 'they', 'had', 'never', 'met', '.', 'Similarly', ',', 'we', 'built', 'tools', 'so', 'millions', 'of', 'people', 'could', 'commit', 'to', 'becoming', 'organ', 'donors', 'to', 'save', 'others', 'after', 'accidents', ',', 'and', 'registries', 'reported', 'larger', 'boosts', 'in', 'sign', 'ups', 'than', 'ever', 'before', '.', 'Looking', 'ahead', ',', 'one', 'of', 'our', 'greatest', 'opportunities', 'to', 'keep', 'people', 'safe', 'is', 'building', 'artificial', 'intelligence', 'to', 'understand', 'more', 'quickly', 'and', 'accurately', 'what', 'is', 'happening', 'across', 'our', 'community', '.', 'There', 'are', 'billions', 'of', 'posts', ',', 'comments', 'and', 'messages', 'across', 'our', 'services', 'each', 'day', ',', 'and', 'since', 'it', \"'s\", 'impossible', 'to', 'review', 'all', 'of', 'them', ',', 'we', 'review', 'content', 'once', 'it', 'is', 'reported', 'to', 'us', '.', 'There', 'have', 'been', 'terribly', 'tragic', 'events', 'like', 'suicides', ',', 'some', 'live', 'streamed', 'that', 'perhaps', 'could', 'have', 'been', 'prevented', 'if', 'someone', 'had', 'realized', 'what', 'was', 'happening', 'and', 'reported', 'them', 'sooner', '.', 'There', 'are', 'cases', 'of', 'bullying', 'and', 'harassment', 'every', 'day', ',', 'that', 'our', 'team', 'must', 'be', 'alerted', 'to', 'before', 'we', 'can', 'help', 'out', '.', 'These', 'stories', 'show', 'we', 'must', 'find', 'a', 'way', 'to', 'do', 'more', '.', 'Artificial', 'intelligence', 'can', 'help', 'provide', 'a', 'better', 'approach', '.', 'We', 'are', 'researching', 'systems', 'that', 'can', 'look', 'at', 'photos', 'and', 'videos', 'to', 'flag', 'content', 'our', 'team', 'should', 'review', '.', 'This', 'is', 'still', 'very', 'early', 'in', 'development', ',', 'but', 'we', 'have', 'started', 'to', 'have', 'it', 'look', 'at', 'some', 'content', ',', 'and', 'it', 'already', 'generates', 'about', 'one', 'third', 'of', 'all', 'reports', 'to', 'the', 'team', 'that', 'reviews', 'content', 'for', 'our', 'community', '.', 'It', 'will', 'take', 'many', 'years', 'to', 'fully', 'develop', 'these', 'systems', '.', 'Right', 'now', ',', 'we', \"'re\", 'starting', 'to', 'explore', 'ways', 'to', 'use', 'AI', 'to', 'tell', 'the', 'difference', 'between', 'news', 'stories', 'about', 'terrorism', 'and', 'actual', 'terrorist', 'propaganda', 'so', 'we', 'can', 'quickly', 'remove', 'anyone', 'trying', 'to', 'use', 'our', 'services', 'to', 'recruit', 'for', 'a', 'terrorist', 'organization', '.', 'This', 'is', 'technically', 'difficult', 'as', 'it', 'requires', 'building', 'AI', 'that', 'can', 'read', 'and', 'understand', 'news', ',', 'but', 'we', 'need', 'to', 'work', 'on', 'this', 'to', 'help', 'fight', 'terrorism', 'worldwide', '.', 'As', 'we', 'discuss', 'keeping', 'our', 'community', 'safe', ',', 'it', 'is', 'important', 'to', 'emphasize', 'that', 'part', 'of', 'keeping', 'people', 'safe', 'is', 'protecting', 'individual', 'security', 'and', 'liberty', '.', 'We', 'are', 'strong', 'advocates', 'of', 'encryption', 'and', 'have', 'built', 'it', 'into', 'the', 'largest', 'messaging', 'platforms', 'in', 'the', 'world', 'WhatsApp', 'and', 'Messenger', '.', 'Keeping', 'our', 'community', 'safe', 'does', 'not', 'require', 'compromising', 'privacy', '.', 'Since', 'building', 'end', 'to', 'end', 'encryption', 'into', 'WhatsApp', ',', 'we', 'have', 'reduced', 'spam', 'and', 'malicious', 'content', 'by', 'more', 'than', '75', '%', '.', 'The', 'path', 'forward', 'is', 'to', 'recognize', 'that', 'a', 'global', 'community', 'needs', 'social', 'infrastructure', 'to', 'keep', 'us', 'safe', 'from', 'threats', 'around', 'the', 'world', ',', 'and', 'that', 'our', 'community', 'is', 'uniquely', 'positioned', 'to', 'prevent', 'disasters', ',', 'help', 'during', 'crises', ',', 'and', 'rebuild', 'afterwards', '.', 'Keeping', 'the', 'global', 'community', 'safe', 'is', 'an', 'important', 'part', 'of', 'our', 'mission', 'and', 'an', 'important', 'part', 'of', 'how', 'we', \"'ll\", 'measure', 'our', 'progress', 'going', 'forward', '.', 'Informed', 'Community', 'The', 'purpose', 'of', 'any', 'community', 'is', 'to', 'bring', 'people', 'together', 'to', 'do', 'things', 'we', 'could', \"n't\", 'do', 'on', 'our', 'own', '.', 'To', 'do', 'this', ',', 'we', 'need', 'ways', 'to', 'share', 'new', 'ideas', 'and', 'share', 'enough', 'common', 'understanding', 'to', 'actually', 'work', 'together', '.', 'Giving', 'everyone', 'a', 'voice', 'has', 'historically', 'been', 'a', 'very', 'positive', 'force', 'for', 'public', 'discourse', 'because', 'it', 'increases', 'the', 'diversity', 'of', 'ideas', 'shared', '.', 'But', 'the', 'past', 'year', 'has', 'also', 'shown', 'it', 'may', 'fragment', 'our', 'shared', 'sense', 'of', 'reality', '.', 'It', 'is', 'our', 'responsibility', 'to', 'amplify', 'the', 'good', 'effects', 'and', 'mitigate', 'the', 'bad', 'to', 'continue', 'increasing', 'diversity', 'while', 'strengthening', 'our', 'common', 'understanding', 'so', 'our', 'community', 'can', 'create', 'the', 'greatest', 'positive', 'impact', 'on', 'the', 'world', '.', 'The', 'two', 'most', 'discussed', 'concerns', 'this', 'past', 'year', 'were', 'about', 'diversity', 'of', 'viewpoints', 'we', 'see', '(', 'filter', 'bubbles', ')', 'and', 'accuracy', 'of', 'information', '(', 'fake', 'news', ')', '.', 'I', 'worry', 'about', 'these', 'and', 'we', 'have', 'studied', 'them', 'extensively', ',', 'but', 'I', 'also', 'worry', 'there', 'are', 'even', 'more', 'powerful', 'effects', 'we', 'must', 'mitigate', 'around', 'sensationalism', 'and', 'polarization', 'leading', 'to', 'a', 'loss', 'of', 'common', 'understanding', '.', 'Social', 'media', 'already', 'provides', 'more', 'diverse', 'viewpoints', 'than', 'traditional', 'media', 'ever', 'has', '.', 'Even', 'if', 'most', 'of', 'our', 'friends', 'are', 'like', 'us', ',', 'we', 'all', 'know', 'people', 'with', 'different', 'interests', ',', 'beliefs', 'and', 'backgrounds', 'who', 'expose', 'us', 'to', 'different', 'perspectives', '.', 'Compared', 'with', 'getting', 'our', 'news', 'from', 'the', 'same', 'two', 'or', 'three', 'TV', 'networks', 'or', 'reading', 'the', 'same', 'newspapers', 'with', 'their', 'consistent', 'editorial', 'views', ',', 'our', 'networks', 'on', 'Facebook', 'show', 'us', 'more', 'diverse', 'content', '.', 'But', 'our', 'goal', 'must', 'be', 'to', 'help', 'people', 'see', 'a', 'more', 'complete', 'picture', ',', 'not', 'just', 'alternate', 'perspectives', '.', 'We', 'must', 'be', 'careful', 'how', 'we', 'do', 'this', '.', 'Research', 'shows', 'that', 'some', 'of', 'the', 'most', 'obvious', 'ideas', ',', 'like', 'showing', 'people', 'an', 'article', 'from', 'the', 'opposite', 'perspective', ',', 'actually', 'deepen', 'polarization', 'by', 'framing', 'other', 'perspectives', 'as', 'foreign', '.', 'A', 'more', 'effective', 'approach', 'is', 'to', 'show', 'a', 'range', 'of', 'perspectives', ',', 'let', 'people', 'see', 'where', 'their', 'views', 'are', 'on', 'a', 'spectrum', 'and', 'come', 'to', 'a', 'conclusion', 'on', 'what', 'they', 'think', 'is', 'right', '.', 'Over', 'time', ',', 'our', 'community', 'will', 'identify', 'which', 'sources', 'provide', 'a', 'complete', 'range', 'of', 'perspectives', 'so', 'that', 'content', 'will', 'naturally', 'surface', 'more', '.', 'Accuracy', 'of', 'information', 'is', 'very', 'important', '.', 'We', 'know', 'there', 'is', 'misinformation', 'and', 'even', 'outright', 'hoax', 'content', 'on', 'Facebook', ',', 'and', 'we', 'take', 'this', 'very', 'seriously', '.', 'We', \"'ve\", 'made', 'progress', 'fighting', 'hoaxes', 'the', 'way', 'we', 'fight', 'spam', ',', 'but', 'we', 'have', 'more', 'work', 'to', 'do', '.', 'We', 'are', 'proceeding', 'carefully', 'because', 'there', 'is', 'not', 'always', 'a', 'clear', 'line', 'between', 'hoaxes', ',', 'satire', 'and', 'opinion', '.', 'In', 'a', 'free', 'society', ',', 'it', \"'s\", 'important', 'that', 'people', 'have', 'the', 'power', 'to', 'share', 'their', 'opinion', ',', 'even', 'if', 'others', 'think', 'they', \"'re\", 'wrong', '.', 'Our', 'approach', 'will', 'focus', 'less', 'on', 'banning', 'misinformation', ',', 'and', 'more', 'on', 'surfacing', 'additional', 'perspectives', 'and', 'information', ',', 'including', 'that', 'fact', 'checkers', 'dispute', 'an', 'item', \"'s\", 'accuracy', '.', 'While', 'we', 'have', 'more', 'work', 'to', 'do', 'on', 'information', 'diversity', 'and', 'misinformation', ',', 'I', 'am', 'even', 'more', 'focused', 'on', 'the', 'impact', 'of', 'sensationalism', 'and', 'polarization', ',', 'and', 'the', 'idea', 'of', 'building', 'common', 'understanding', '.', 'Social', 'media', 'is', 'a', 'short', 'form', 'medium', 'where', 'resonant', 'messages', 'get', 'amplified', 'many', 'times', '.', 'This', 'rewards', 'simplicity', 'and', 'discourages', 'nuance', '.', 'At', 'its', 'best', ',', 'this', 'focuses', 'messages', 'and', 'exposes', 'people', 'to', 'different', 'ideas', '.', 'At', 'its', 'worst', ',', 'it', 'oversimplifies', 'important', 'topics', 'and', 'pushes', 'us', 'towards', 'extremes', '.', 'Polarization', 'exists', 'in', 'all', 'areas', 'of', 'discourse', ',', 'not', 'just', 'social', 'media', '.', 'It', 'occurs', 'in', 'all', 'groups', 'and', 'communities', ',', 'including', 'companies', ',', 'classrooms', 'and', 'juries', ',', 'and', 'it', \"'s\", 'usually', 'unrelated', 'to', 'politics', '.', 'In', 'the', 'tech', 'community', ',', 'for', 'example', ',', 'discussion', 'around', 'AI', 'has', 'been', 'oversimplified', 'to', 'existential', 'fear', 'mongering', '.', 'The', 'harm', 'is', 'that', 'sensationalism', 'moves', 'people', 'away', 'from', 'balanced', 'nuanced', 'opinions', 'towards', 'polarized', 'extremes', '.', 'If', 'this', 'continues', 'and', 'we', 'lose', 'common', 'understanding', ',', 'then', 'even', 'if', 'we', 'eliminated', 'all', 'misinformation', ',', 'people', 'would', 'just', 'emphasize', 'different', 'sets', 'of', 'facts', 'to', 'fit', 'their', 'polarized', 'opinions', '.', 'That', \"'s\", 'why', 'I', \"'m\", 'so', 'worried', 'about', 'sensationalism', 'in', 'media', '.', 'Fortunately', ',', 'there', 'are', 'clear', 'steps', 'we', 'can', 'take', 'to', 'correct', 'these', 'effects', '.', 'For', 'example', ',', 'we', 'noticed', 'some', 'people', 'share', 'stories', 'based', 'on', 'sensational', 'headlines', 'without', 'ever', 'reading', 'the', 'story', '.', 'In', 'general', ',', 'if', 'you', 'become', 'less', 'likely', 'to', 'share', 'a', 'story', 'after', 'reading', 'it', ',', 'that', \"'s\", 'a', 'good', 'sign', 'the', 'headline', 'was', 'sensational', '.', 'If', 'you', \"'re\", 'more', 'likely', 'to', 'share', 'a', 'story', 'after', 'reading', 'it', ',', 'that', \"'s\", 'often', 'a', 'sign', 'of', 'good', 'in', 'depth', 'content', '.', 'We', 'recently', 'started', 'reducing', 'sensationalism', 'in', 'News', 'Feed', 'by', 'taking', 'this', 'into', 'account', 'for', 'pieces', 'of', 'content', ',', 'and', 'going', 'forward', 'signals', 'like', 'this', 'will', 'identify', 'sensational', 'publishers', 'as', 'well', '.', 'There', 'are', 'many', 'steps', 'like', 'this', 'we', 'have', 'taken', 'and', 'will', 'keep', 'taking', 'to', 'reduce', 'sensationalism', 'and', 'help', 'build', 'a', 'more', 'informed', 'community', '.', 'Research', 'suggests', 'the', 'best', 'solutions', 'for', 'improving', 'discourse', 'may', 'come', 'from', 'getting', 'to', 'know', 'each', 'other', 'as', 'whole', 'people', 'instead', 'of', 'just', 'opinions', 'something', 'Facebook', 'may', 'be', 'uniquely', 'suited', 'to', 'do', '.', 'If', 'we', 'connect', 'with', 'people', 'about', 'what', 'we', 'have', 'in', 'common', 'sports', 'teams', ',', 'TV', 'shows', ',', 'interests', 'it', 'is', 'easier', 'to', 'have', 'dialogue', 'about', 'what', 'we', 'disagree', 'on', '.', 'When', 'we', 'do', 'this', 'well', ',', 'we', 'give', 'billions', 'of', 'people', 'the', 'ability', 'to', 'share', 'new', 'perspectives', 'while', 'mitigating', 'the', 'unwanted', 'effects', 'that', 'come', 'with', 'any', 'new', 'medium', '.', 'A', 'strong', 'news', 'industry', 'is', 'also', 'critical', 'to', 'building', 'an', 'informed', 'community', '.', 'Giving', 'people', 'a', 'voice', 'is', 'not', 'enough', 'without', 'having', 'people', 'dedicated', 'to', 'uncovering', 'new', 'information', 'and', 'analyzing', 'it', '.', 'There', 'is', 'more', 'we', 'must', 'do', 'to', 'support', 'the', 'news', 'industry', 'to', 'make', 'sure', 'this', 'vital', 'social', 'function', 'is', 'sustainable', 'from', 'growing', 'local', 'news', ',', 'to', 'developing', 'formats', 'best', 'suited', 'to', 'mobile', 'devices', ',', 'to', 'improving', 'the', 'range', 'of', 'business', 'models', 'news', 'organizations', 'rely', 'on', '.', 'Connecting', 'everyone', 'to', 'the', 'internet', 'is', 'also', 'necessary', 'for', 'building', 'an', 'informed', 'community', '.', 'For', 'the', 'majority', 'of', 'people', 'around', 'the', 'world', ',', 'the', 'debate', 'is', 'not', 'about', 'the', 'quality', 'of', 'public', 'discourse', 'but', 'whether', 'they', 'have', 'access', 'to', 'basic', 'information', 'they', 'need', 'at', 'all', ',', 'often', 'related', 'to', 'health', ',', 'education', 'and', 'jobs', '.', 'Finally', ',', 'I', 'want', 'to', 'emphasize', 'that', 'the', 'vast', 'majority', 'of', 'conversations', 'on', 'Facebook', 'are', 'social', ',', 'not', 'ideological', '.', 'They', \"'re\", 'friends', 'sharing', 'jokes', 'and', 'families', 'staying', 'in', 'touch', 'across', 'cities', '.', 'They', \"'re\", 'people', 'finding', 'groups', ',', 'whether', 'they', \"'re\", 'new', 'parents', 'raising', 'kids', 'or', 'newly', 'diagnosed', 'patients', 'suffering', 'from', 'a', 'disease', 'together', '.', 'Sometimes', 'it', \"'s\", 'for', 'joy', ',', 'coming', 'together', 'around', 'religion', 'or', 'sports', '.', 'And', 'sometimes', 'it', \"'s\", 'for', 'survival', ',', 'like', 'refugees', 'communicating', 'to', 'find', 'shelter', '.', 'Whatever', 'your', 'situation', 'when', 'you', 'enter', 'our', 'community', ',', 'our', 'commitment', 'is', 'to', 'continue', 'improving', 'our', 'tools', 'to', 'give', 'you', 'the', 'power', 'to', 'share', 'your', 'experience', '.', 'By', 'increasing', 'the', 'diversity', 'of', 'our', 'ideas', 'and', 'strengthening', 'our', 'common', 'understanding', ',', 'our', 'community', 'can', 'have', 'the', 'greatest', 'positive', 'impact', 'on', 'the', 'world', '.', 'Civically', 'Engaged', 'Community', 'Our', 'society', 'will', 'reflect', 'our', 'collective', 'values', 'only', 'if', 'we', 'engage', 'in', 'the', 'civic', 'process', 'and', 'participate', 'in', 'self', 'governance', '.', 'There', 'are', 'two', 'distinct', 'types', 'of', 'social', 'infrastructure', 'that', 'must', 'be', 'built', ':', 'The', 'first', 'encourages', 'engagement', 'in', 'existing', 'political', 'processes', ':', 'voting', ',', 'engaging', 'with', 'issues', 'and', 'representatives', ',', 'speaking', 'out', ',', 'and', 'sometimes', 'organizing', '.', 'Only', 'through', 'dramatically', 'greater', 'engagement', 'can', 'we', 'ensure', 'these', 'political', 'processes', 'reflect', 'our', 'values', '.', 'The', 'second', 'is', 'establishing', 'a', 'new', 'process', 'for', 'citizens', 'worldwide', 'to', 'participate', 'in', 'collective', 'decision', 'making', '.', 'Our', 'world', 'is', 'more', 'connected', 'than', 'ever', ',', 'and', 'we', 'face', 'global', 'problems', 'that', 'span', 'national', 'boundaries', '.', 'As', 'the', 'largest', 'global', 'community', ',', 'Facebook', 'can', 'explore', 'examples', 'of', 'how', 'community', 'governance', 'might', 'work', 'at', 'scale', '.', 'The', 'starting', 'point', 'for', 'civic', 'engagement', 'in', 'the', 'existing', 'political', 'process', 'is', 'to', 'support', 'voting', 'across', 'the', 'world', '.', 'It', 'is', 'striking', 'that', 'only', 'about', 'half', 'of', 'Americans', 'eligible', 'to', 'vote', 'participate', 'in', 'elections', '.', 'This', 'is', 'low', 'compared', 'to', 'other', 'countries', ',', 'but', 'democracy', 'is', 'receding', 'in', 'many', 'countries', 'and', 'there', 'is', 'a', 'large', 'opportunity', 'across', 'the', 'world', 'to', 'encourage', 'civic', 'participation', '.', 'In', 'the', 'United', 'States', 'election', 'last', 'year', ',', 'we', 'helped', 'more', 'than', '2', 'million', 'people', 'register', 'to', 'vote', 'and', 'then', 'go', 'vote', '.', 'This', 'was', 'among', 'the', 'largest', 'voter', 'turnout', 'efforts', 'in', 'history', ',', 'and', 'larger', 'than', 'those', 'of', 'both', 'major', 'parties', 'combined', '.', 'In', 'every', 'election', 'around', 'the', 'world', ',', 'we', 'keep', 'improving', 'our', 'tools', 'to', 'help', 'more', 'people', 'register', 'and', 'vote', ',', 'and', 'we', 'hope', 'to', 'eventually', 'enable', 'hundreds', 'of', 'millions', 'of', 'more', 'people', 'to', 'vote', 'in', 'elections', 'than', 'do', 'today', ',', 'in', 'every', 'democratic', 'country', 'around', 'the', 'world', '.', 'Local', 'civic', 'engagement', 'is', 'a', 'big', 'opportunity', 'as', 'well', 'as', 'national', '.', 'Today', ',', 'most', 'of', 'us', 'do', 'not', 'even', 'know', 'who', 'our', 'local', 'representatives', 'are', ',', 'but', 'many', 'policies', 'impacting', 'our', 'lives', 'are', 'local', ',', 'and', 'this', 'is', 'where', 'our', 'participation', 'has', 'the', 'greatest', 'influence', '.', 'Research', 'suggests', 'reading', 'local', 'news', 'is', 'directly', 'correlated', 'with', 'local', 'civic', 'engagement', '.', 'This', 'shows', 'how', 'building', 'an', 'informed', 'community', ',', 'supportive', 'local', 'communities', ',', 'and', 'a', 'civically', 'engaged', 'community', 'are', 'all', 'related', '.', 'Beyond', 'voting', ',', 'the', 'greatest', 'opportunity', 'is', 'helping', 'people', 'stay', 'engaged', 'with', 'the', 'issues', 'that', 'matter', 'to', 'them', 'every', 'day', ',', 'not', 'just', 'every', 'few', 'years', 'at', 'the', 'ballot', 'box', '.', 'We', 'can', 'help', 'establish', 'direct', 'dialogue', 'and', 'accountability', 'between', 'people', 'and', 'our', 'elected', 'leaders', '.', 'In', 'India', ',', 'Prime', 'Minister', 'Modi', 'has', 'asked', 'his', 'ministers', 'to', 'share', 'their', 'meetings', 'and', 'information', 'on', 'Facebook', 'so', 'they', 'can', 'hear', 'direct', 'feedback', 'from', 'citizens', '.', 'In', 'Kenya', ',', 'whole', 'villages', 'are', 'in', 'WhatsApp', 'groups', 'together', ',', 'including', 'their', 'representatives', '.', 'In', 'recent', 'campaigns', 'around', 'the', 'world', 'from', 'India', 'and', 'Indonesia', 'across', 'Europe', 'to', 'the', 'United', 'States', 'we', \"'ve\", 'seen', 'the', 'candidate', 'with', 'the', 'largest', 'and', 'most', 'engaged', 'following', 'on', 'Facebook', 'usually', 'wins', '.', 'Just', 'as', 'TV', 'became', 'the', 'primary', 'medium', 'for', 'civic', 'communication', 'in', 'the', '1960s', ',', 'social', 'media', 'is', 'becoming', 'this', 'in', 'the', '21st', 'century', '.', 'This', 'creates', 'an', 'opportunity', 'for', 'us', 'to', 'connect', 'with', 'our', 'representatives', 'at', 'all', 'levels', '.', 'In', 'the', 'last', 'few', 'months', ',', 'we', 'have', 'already', 'helped', 'our', 'community', 'double', 'the', 'number', 'of', 'connections', 'between', 'people', 'and', 'our', 'representatives', 'by', 'making', 'it', 'easier', 'to', 'connect', 'with', 'all', 'our', 'representatives', 'in', 'one', 'click', '.', 'When', 'we', 'connect', ',', 'we', 'can', 'engage', 'directly', 'in', 'comments', 'and', 'messages', '.', 'For', 'example', ',', 'in', 'Iceland', ',', 'it', \"'s\", 'common', 'to', 'tag', 'politicians', 'in', 'group', 'discussions', 'so', 'they', 'can', 'take', 'community', 'issues', 'to', 'parliament', '.', 'Sometimes', 'people', 'must', 'speak', 'out', 'and', 'demonstrate', 'for', 'what', 'they', 'believe', 'is', 'right', '.', 'From', 'Tahrir', 'Square', 'to', 'the', 'Tea', 'Party', 'our', 'community', 'organizes', 'these', 'demonstrations', 'using', 'our', 'infrastructure', 'for', 'events', 'and', 'groups', '.', 'On', 'a', 'daily', 'basis', ',', 'people', 'use', 'their', 'voices', 'to', 'share', 'their', 'views', 'in', 'ways', 'that', 'can', 'spread', 'around', 'the', 'world', 'and', 'grow', 'into', 'movements', '.', 'The', 'Women', \"'s\", 'March', 'is', 'an', 'example', 'of', 'this', ',', 'where', 'a', 'grandmother', 'with', 'an', 'internet', 'connection', 'wrote', 'a', 'post', 'that', 'led', 'her', 'friends', 'to', 'start', 'a', 'Facebook', 'event', 'that', 'eventually', 'turned', 'into', 'millions', 'of', 'people', 'marching', 'in', 'cities', 'around', 'the', 'world', '.', 'Giving', 'people', 'a', 'voice', 'is', 'a', 'principle', 'our', 'community', 'has', 'been', 'committed', 'to', 'since', 'we', 'began', '.', 'As', 'we', 'look', 'ahead', 'to', 'building', 'the', 'social', 'infrastructure', 'for', 'a', 'global', 'community', ',', 'we', 'will', 'work', 'on', 'building', 'new', 'tools', 'that', 'encourage', 'thoughtful', 'civic', 'engagement', '.', 'Empowering', 'us', 'to', 'use', 'our', 'voices', 'will', 'only', 'become', 'more', 'important', '.', 'Inclusive', 'Community', 'Building', 'an', 'inclusive', 'global', 'community', 'requires', 'establishing', 'a', 'new', 'process', 'for', 'citizens', 'worldwide', 'to', 'participate', 'in', 'community', 'governance', '.', 'I', 'hope', 'that', 'we', 'can', 'explore', 'examples', 'of', 'how', 'collective', 'decision', 'making', 'might', 'work', 'at', 'scale', '.', 'Facebook', 'is', 'not', 'just', 'technology', 'or', 'media', ',', 'but', 'a', 'community', 'of', 'people', '.', 'That', 'means', 'we', 'need', 'Community', 'Standards', 'that', 'reflect', 'our', 'collective', 'values', 'for', 'what', 'should', 'and', 'should', 'not', 'be', 'allowed', '.', 'In', 'the', 'last', 'year', ',', 'the', 'complexity', 'of', 'the', 'issues', 'we', \"'ve\", 'seen', 'has', 'outstripped', 'our', 'existing', 'processes', 'for', 'governing', 'the', 'community', '.', 'We', 'saw', 'this', 'in', 'errors', 'taking', 'down', 'newsworthy', 'videos', 'related', 'to', 'Black', 'Lives', 'Matter', 'and', 'police', 'violence', ',', 'and', 'in', 'removing', 'the', 'historical', 'Terror', 'of', 'War', 'photo', 'from', 'Vietnam', '.', 'We', \"'ve\", 'seen', 'this', 'in', 'misclassifying', 'hate', 'speech', 'in', 'political', 'debates', 'in', 'both', 'directions', 'taking', 'down', 'accounts', 'and', 'content', 'that', 'should', 'be', 'left', 'up', 'and', 'leaving', 'up', 'content', 'that', 'was', 'hateful', 'and', 'should', 'be', 'taken', 'down', '.', 'Both', 'the', 'number', 'of', 'issues', 'and', 'their', 'cultural', 'importance', 'has', 'increased', 'recently', '.', 'This', 'has', 'been', 'painful', 'for', 'me', 'because', 'I', 'often', 'agree', 'with', 'those', 'criticizing', 'us', 'that', 'we', \"'re\", 'making', 'mistakes', '.', 'These', 'mistakes', 'are', 'almost', 'never', 'because', 'we', 'hold', 'ideological', 'positions', 'at', 'odds', 'with', 'the', 'community', ',', 'but', 'instead', 'are', 'operational', 'scaling', 'issues', '.', 'Our', 'guiding', 'philosophy', 'for', 'the', 'Community', 'Standards', 'is', 'to', 'try', 'to', 'reflect', 'the', 'cultural', 'norms', 'of', 'our', 'community', '.', 'When', 'in', 'doubt', ',', 'we', 'always', 'favor', 'giving', 'people', 'the', 'power', 'to', 'share', 'more', '.', 'There', 'are', 'a', 'few', 'reasons', 'for', 'the', 'increase', 'in', 'issues', 'we', \"'ve\", 'seen', ':', 'cultural', 'norms', 'are', 'shifting', ',', 'cultures', 'are', 'different', 'around', 'the', 'world', ',', 'and', 'people', 'are', 'sensitive', 'to', 'different', 'things', '.', 'First', ',', 'our', 'community', 'is', 'evolving', 'from', 'its', 'origin', 'connecting', 'us', 'with', 'family', 'and', 'friends', 'to', 'now', 'becoming', 'a', 'source', 'of', 'news', 'and', 'public', 'discourse', 'as', 'well', '.', 'With', 'this', 'cultural', 'shift', ',', 'our', 'Community', 'Standards', 'must', 'adapt', 'to', 'permit', 'more', 'newsworthy', 'and', 'historical', 'content', ',', 'even', 'if', 'some', 'is', 'objectionable', '.', 'For', 'example', ',', 'an', 'extremely', 'violent', 'video', 'of', 'someone', 'dying', 'would', 'have', 'been', 'marked', 'as', 'disturbing', 'and', 'taken', 'down', '.', 'However', ',', 'now', 'that', 'we', 'use', 'Live', 'to', 'capture', 'the', 'news', 'and', 'we', 'post', 'videos', 'to', 'protest', 'violence', ',', 'our', 'standards', 'must', 'adapt', '.', 'Similarly', ',', 'a', 'photo', 'depicting', 'any', 'child', 'nudity', 'would', 'have', 'always', 'been', 'taken', 'down', 'and', 'for', 'good', 'reason', 'but', 'we', \"'ve\", 'now', 'adapted', 'our', 'standards', 'to', 'allow', 'historically', 'important', 'content', 'like', 'the', 'Terror', 'of', 'War', 'photo', '.', 'These', 'issues', 'reflect', 'a', 'need', 'to', 'update', 'our', 'standards', 'to', 'meet', 'evolving', 'expectations', 'from', 'our', 'community', '.', 'Second', ',', 'our', 'community', 'spans', 'many', 'countries', 'and', 'cultures', ',', 'and', 'the', 'norms', 'are', 'different', 'in', 'each', 'region', '.', 'It', \"'s\", 'not', 'surprising', 'that', 'Europeans', 'more', 'frequently', 'find', 'fault', 'with', 'taking', 'down', 'images', 'depicting', 'nudity', ',', 'since', 'some', 'European', 'cultures', 'are', 'more', 'accepting', 'of', 'nudity', 'than', ',', 'for', 'example', ',', 'many', 'communities', 'in', 'the', 'Middle', 'East', 'or', 'Asia', '.', 'With', 'a', 'community', 'of', 'almost', 'two', 'billion', 'people', ',', 'it', 'is', 'less', 'feasible', 'to', 'have', 'a', 'single', 'set', 'of', 'standards', 'to', 'govern', 'the', 'entire', 'community', 'so', 'we', 'need', 'to', 'evolve', 'towards', 'a', 'system', 'of', 'more', 'local', 'governance', '.', 'Third', ',', 'even', 'within', 'a', 'given', 'culture', ',', 'we', 'have', 'different', 'opinions', 'on', 'what', 'we', 'want', 'to', 'see', 'and', 'what', 'is', 'objectionable', '.', 'I', 'may', 'be', 'okay', 'with', 'more', 'politically', 'charged', 'speech', 'but', 'not', 'want', 'to', 'see', 'anything', 'sexually', 'suggestive', ',', 'while', 'you', 'may', 'be', 'okay', 'with', 'nudity', 'but', 'not', 'want', 'to', 'see', 'offensive', 'speech', '.', 'Similarly', ',', 'you', 'may', 'want', 'to', 'share', 'a', 'violent', 'video', 'in', 'a', 'protest', 'without', 'worrying', 'that', 'you', \"'re\", 'going', 'to', 'bother', 'friends', 'who', 'do', \"n't\", 'want', 'to', 'see', 'it', '.', 'And', 'just', 'as', 'it', \"'s\", 'a', 'bad', 'experience', 'to', 'see', 'objectionable', 'content', ',', 'it', \"'s\", 'also', 'a', 'terrible', 'experience', 'to', 'be', 'told', 'we', 'ca', \"n't\", 'share', 'something', 'we', 'feel', 'is', 'important', '.', 'This', 'suggests', 'we', 'need', 'to', 'evolve', 'towards', 'a', 'system', 'of', 'personal', 'control', 'over', 'our', 'experience', '.', 'Fourth', ',', 'we', \"'re\", 'operating', 'at', 'such', 'a', 'large', 'scale', 'that', 'even', 'a', 'small', 'percent', 'of', 'errors', 'causes', 'a', 'large', 'number', 'of', 'bad', 'experiences', '.', 'We', 'review', 'over', 'one', 'hundred', 'million', 'pieces', 'of', 'content', 'every', 'month', ',', 'and', 'even', 'if', 'our', 'reviewers', 'get', '99', '%', 'of', 'the', 'calls', 'right', ',', 'that', \"'s\", 'still', 'millions', 'of', 'errors', 'over', 'time', '.', 'Any', 'system', 'will', 'always', 'have', 'some', 'mistakes', ',', 'but', 'I', 'believe', 'we', 'can', 'do', 'better', 'than', 'we', 'are', 'today', '.', 'I', \"'ve\", 'spent', 'a', 'lot', 'of', 'time', 'over', 'the', 'past', 'year', 'reflecting', 'on', 'how', 'we', 'can', 'improve', 'our', 'community', 'governance', '.', 'Sitting', 'here', 'in', 'California', ',', 'we', \"'re\", 'not', 'best', 'positioned', 'to', 'identify', 'the', 'cultural', 'norms', 'around', 'the', 'world', '.', 'Instead', ',', 'we', 'need', 'a', 'system', 'where', 'we', 'can', 'all', 'contribute', 'to', 'setting', 'the', 'standards', '.', 'Although', 'this', 'system', 'is', 'not', 'fully', 'developed', ',', 'I', 'want', 'to', 'share', 'an', 'idea', 'of', 'how', 'this', 'might', 'work', '.', 'The', 'guiding', 'principles', 'are', 'that', 'the', 'Community', 'Standards', 'should', 'reflect', 'the', 'cultural', 'norms', 'of', 'our', 'community', ',', 'that', 'each', 'person', 'should', 'see', 'as', 'little', 'objectionable', 'content', 'as', 'possible', ',', 'and', 'each', 'person', 'should', 'be', 'able', 'to', 'share', 'what', 'they', 'want', 'while', 'being', 'told', 'they', 'can', 'not', 'share', 'something', 'as', 'little', 'as', 'possible', '.', 'The', 'approach', 'is', 'to', 'combine', 'creating', 'a', 'large', 'scale', 'democratic', 'process', 'to', 'determine', 'standards', 'with', 'AI', 'to', 'help', 'enforce', 'them', '.', 'The', 'idea', 'is', 'to', 'give', 'everyone', 'in', 'the', 'community', 'options', 'for', 'how', 'they', 'would', 'like', 'to', 'set', 'the', 'content', 'policy', 'for', 'themselves', '.', 'Where', 'is', 'your', 'line', 'on', 'nudity', '?', 'On', 'violence', '?', 'On', 'graphic', 'content', '?', 'On', 'profanity', '?', 'What', 'you', 'decide', 'will', 'be', 'your', 'personal', 'settings', '.', 'We', 'will', 'periodically', 'ask', 'you', 'these', 'questions', 'to', 'increase', 'participation', 'and', 'so', 'you', 'do', \"n't\", 'need', 'to', 'dig', 'around', 'to', 'find', 'them', '.', 'For', 'those', 'who', 'do', \"n't\", 'make', 'a', 'decision', ',', 'the', 'default', 'will', 'be', 'whatever', 'the', 'majority', 'of', 'people', 'in', 'your', 'region', 'selected', ',', 'like', 'a', 'referendum', '.', 'Of', 'course', 'you', 'will', 'always', 'be', 'free', 'to', 'update', 'your', 'personal', 'settings', 'anytime', '.', 'With', 'a', 'broader', 'range', 'of', 'controls', ',', 'content', 'will', 'only', 'be', 'taken', 'down', 'if', 'it', 'is', 'more', 'objectionable', 'than', 'the', 'most', 'permissive', 'options', 'allow', '.', 'Within', 'that', 'range', ',', 'content', 'should', 'simply', 'not', 'be', 'shown', 'to', 'anyone', 'whose', 'personal', 'controls', 'suggest', 'they', 'would', 'not', 'want', 'to', 'see', 'it', ',', 'or', 'at', 'least', 'they', 'should', 'see', 'a', 'warning', 'first', '.', 'Although', 'we', 'will', 'still', 'block', 'content', 'based', 'on', 'standards', 'and', 'local', 'laws', ',', 'our', 'hope', 'is', 'that', 'this', 'system', 'of', 'personal', 'controls', 'and', 'democratic', 'referenda', 'should', 'minimize', 'restrictions', 'on', 'what', 'we', 'can', 'share', '.', 'It', \"'s\", 'worth', 'noting', 'that', 'major', 'advances', 'in', 'AI', 'are', 'required', 'to', 'understand', 'text', ',', 'photos', 'and', 'videos', 'to', 'judge', 'whether', 'they', 'contain', 'hate', 'speech', ',', 'graphic', 'violence', ',', 'sexually', 'explicit', 'content', ',', 'and', 'more', '.', 'At', 'our', 'current', 'pace', 'of', 'research', ',', 'we', 'hope', 'to', 'begin', 'handling', 'some', 'of', 'these', 'cases', 'in', '2017', ',', 'but', 'others', 'will', 'not', 'be', 'possible', 'for', 'many', 'years', '.', 'Overall', ',', 'it', 'is', 'important', 'that', 'the', 'governance', 'of', 'our', 'community', 'scales', 'with', 'the', 'complexity', 'and', 'demands', 'of', 'its', 'people', '.', 'We', 'are', 'committed', 'to', 'always', 'doing', 'better', ',', 'even', 'if', 'that', 'involves', 'building', 'a', 'worldwide', 'voting', 'system', 'to', 'give', 'you', 'more', 'voice', 'and', 'control', '.', 'Our', 'hope', 'is', 'that', 'this', 'model', 'provides', 'examples', 'of', 'how', 'collective', 'decision', 'making', 'may', 'work', 'in', 'other', 'aspects', 'of', 'the', 'global', 'community', '.', 'This', 'is', 'an', 'important', 'time', 'in', 'the', 'development', 'of', 'our', 'global', 'community', ',', 'and', 'it', \"'s\", 'a', 'time', 'when', 'many', 'of', 'us', 'around', 'the', 'world', 'are', 'reflecting', 'on', 'how', 'we', 'can', 'have', 'the', 'most', 'positive', 'impact', '.', 'History', 'has', 'had', 'many', 'moments', 'like', 'today', '.', 'As', 'we', \"'ve\", 'made', 'our', 'great', 'leaps', 'from', 'tribes', 'to', 'cities', 'to', 'nations', ',', 'we', 'have', 'always', 'had', 'to', 'build', 'social', 'infrastructure', 'like', 'communities', ',', 'media', 'and', 'governments', 'for', 'us', 'to', 'thrive', 'and', 'reach', 'the', 'next', 'level', '.', 'At', 'each', 'step', 'we', 'learned', 'how', 'to', 'come', 'together', 'to', 'solve', 'our', 'challenges', 'and', 'accomplish', 'greater', 'things', 'than', 'we', 'could', 'alone', '.', 'We', 'have', 'done', 'it', 'before', 'and', 'we', 'will', 'do', 'it', 'again', '.', 'I', 'am', 'reminded', 'of', 'President', 'Lincoln', \"'s\", 'remarks', 'during', 'the', 'American', 'Civil', 'War', ':', '``', 'We', 'can', 'succeed', 'only', 'by', 'concert', '.', 'It', 'is', 'not', \"'can\", 'any', 'of', 'us', 'imagine', 'better', '?', \"'\", 'but', ',', \"'can\", 'we', 'all', 'do', 'better', '?', \"'\", 'The', 'dogmas', 'of', 'the', 'quiet', 'past', ',', 'are', 'inadequate', 'to', 'the', 'stormy', 'present', '.', 'The', 'occasion', 'is', 'piled', 'high', 'with', 'difficulty', ',', 'and', 'we', 'must', 'rise', 'with', 'the', 'occasion', '.', 'As', 'our', 'case', 'is', 'new', ',', 'so', 'we', 'must', 'think', 'anew', ',', 'act', 'anew', '.', \"''\", 'There', 'are', 'many', 'of', 'us', 'who', 'stand', 'for', 'bringing', 'people', 'together', 'and', 'connecting', 'the', 'world', '.', 'I', 'hope', 'we', 'have', 'the', 'focus', 'to', 'take', 'the', 'long', 'view', 'and', 'build', 'the', 'new', 'social', 'infrastructure', 'to', 'create', 'the', 'world', 'we', 'want', 'for', 'generations', 'to', 'come', '.', 'It', \"'s\", 'an', 'honor', 'to', 'be', 'on', 'this', 'journey', 'with', 'you', '.', 'Thank', 'you', 'for', 'being', 'part', 'of', 'this', 'community', ',', 'and', 'thanks', 'for', 'everything', 'you', 'do', 'to', 'make', 'the', 'world', 'more', 'open', 'and', 'connected', '.', 'Mark']\n"
     ]
    }
   ],
   "source": [
    "# build stopwords\n",
    "from nltk import word_tokenize\n",
    "print(word_tokenize(sentence))"
   ]
  },
  {
   "cell_type": "code",
   "execution_count": 29,
   "metadata": {
    "collapsed": false
   },
   "outputs": [
    {
     "name": "stdout",
     "output_type": "stream",
     "text": [
      "['To', 'our', 'community', ',', 'On', 'our', 'journey', 'to', 'connect', 'the', 'world', ',', 'we', 'often', 'discuss', 'products', 'we', \"'\", 're', 'building', 'and', 'updates', 'on', 'our', 'business', '.', 'Today', 'I', 'want', 'to', 'focus', 'on', 'the', 'most', 'important', 'question', 'of', 'all', ':', 'are', 'we', 'building', 'the', 'world', 'we', 'all', 'want', '?', 'History', 'is', 'the', 'story', 'of', 'how', 'we', \"'\", 've', 'learned', 'to', 'come', 'together', 'in', 'ever', 'greater', 'numbers', 'from', 'tribes', 'to', 'cities', 'to', 'nations', '.', 'At', 'each', 'step', ',', 'we', 'built', 'social', 'infrastructure', 'like', 'communities', ',', 'media', 'and', 'governments', 'to', 'empower', 'us', 'to', 'achieve', 'things', 'we', 'couldn', \"'\", 't', 'on', 'our', 'own', '.', 'Today', 'we', 'are', 'close', 'to', 'taking', 'our', 'next', 'step', '.', 'Our', 'greatest', 'opportunities', 'are', 'now', 'global', 'like', 'spreading', 'prosperity', 'and', 'freedom', ',', 'promoting', 'peace', 'and', 'understanding', ',', 'lifting', 'people', 'out', 'of', 'poverty', ',', 'and', 'accelerating', 'science', '.', 'Our', 'greatest', 'challenges', 'also', 'need', 'global', 'responses', 'like', 'ending', 'terrorism', ',', 'fighting', 'climate', 'change', ',', 'and', 'preventing', 'pandemics', '.', 'Progress', 'now', 'requires', 'humanity', 'coming', 'together', 'not', 'just', 'as', 'cities', 'or', 'nations', ',', 'but', 'also', 'as', 'a', 'global', 'community', '.', 'This', 'is', 'especially', 'important', 'right', 'now', '.', 'Facebook', 'stands', 'for', 'bringing', 'us', 'closer', 'together', 'and', 'building', 'a', 'global', 'community', '.', 'When', 'we', 'began', ',', 'this', 'idea', 'was', 'not', 'controversial', '.', 'Every', 'year', ',', 'the', 'world', 'got', 'more', 'connected', 'and', 'this', 'was', 'seen', 'as', 'a', 'positive', 'trend', '.', 'Yet', 'now', ',', 'across', 'the', 'world', 'there', 'are', 'people', 'left', 'behind', 'by', 'globalization', ',', 'and', 'movements', 'for', 'withdrawing', 'from', 'global', 'connection', '.', 'There', 'are', 'questions', 'about', 'whether', 'we', 'can', 'make', 'a', 'global', 'community', 'that', 'works', 'for', 'everyone', ',', 'and', 'whether', 'the', 'path', 'ahead', 'is', 'to', 'connect', 'more', 'or', 'reverse', 'course', '.', 'This', 'is', 'a', 'time', 'when', 'many', 'of', 'us', 'around', 'the', 'world', 'are', 'reflecting', 'on', 'how', 'we', 'can', 'have', 'the', 'most', 'positive', 'impact', '.', 'I', 'am', 'reminded', 'of', 'my', 'favorite', 'saying', 'about', 'technology', ':', '\"', 'We', 'always', 'overestimate', 'what', 'we', 'can', 'do', 'in', 'two', 'years', ',', 'and', 'we', 'underestimate', 'what', 'we', 'can', 'do', 'in', 'ten', 'years', '.\"', 'We', 'may', 'not', 'have', 'the', 'power', 'to', 'create', 'the', 'world', 'we', 'want', 'immediately', ',', 'but', 'we', 'can', 'all', 'start', 'working', 'on', 'the', 'long', 'term', 'today', '.', 'In', 'times', 'like', 'these', ',', 'the', 'most', 'important', 'thing', 'we', 'at', 'Facebook', 'can', 'do', 'is', 'develop', 'the', 'social', 'infrastructure', 'to', 'give', 'people', 'the', 'power', 'to', 'build', 'a', 'global', 'community', 'that', 'works', 'for', 'all', 'of', 'us', '.', 'For', 'the', 'past', 'decade', ',', 'Facebook', 'has', 'focused', 'on', 'connecting', 'friends', 'and', 'families', '.', 'With', 'that', 'foundation', ',', 'our', 'next', 'focus', 'will', 'be', 'developing', 'the', 'social', 'infrastructure', 'for', 'community', 'for', 'supporting', 'us', ',', 'for', 'keeping', 'us', 'safe', ',', 'for', 'informing', 'us', ',', 'for', 'civic', 'engagement', ',', 'and', 'for', 'inclusion', 'of', 'all', '.', 'Bringing', 'us', 'all', 'together', 'as', 'a', 'global', 'community', 'is', 'a', 'project', 'bigger', 'than', 'any', 'one', 'organization', 'or', 'company', ',', 'but', 'Facebook', 'can', 'help', 'contribute', 'to', 'answering', 'these', 'five', 'important', 'questions', ':', 'How', 'do', 'we', 'help', 'people', 'build', 'supportive', 'communities', 'that', 'strengthen', 'traditional', 'institutions', 'in', 'a', 'world', 'where', 'membership', 'in', 'these', 'institutions', 'is', 'declining', '?', 'How', 'do', 'we', 'help', 'people', 'build', 'a', 'safe', 'community', 'that', 'prevents', 'harm', ',', 'helps', 'during', 'crises', 'and', 'rebuilds', 'afterwards', 'in', 'a', 'world', 'where', 'anyone', 'across', 'the', 'world', 'can', 'affect', 'us', '?', 'How', 'do', 'we', 'help', 'people', 'build', 'an', 'informed', 'community', 'that', 'exposes', 'us', 'to', 'new', 'ideas', 'and', 'builds', 'common', 'understanding', 'in', 'a', 'world', 'where', 'every', 'person', 'has', 'a', 'voice', '?', 'How', 'do', 'we', 'help', 'people', 'build', 'a', 'civically', 'engaged', 'community', 'in', 'a', 'world', 'where', 'participation', 'in', 'voting', 'sometimes', 'includes', 'less', 'than', 'half', 'our', 'population', '?', 'How', 'do', 'we', 'help', 'people', 'build', 'an', 'inclusive', 'community', 'that', 'reflects', 'our', 'collective', 'values', 'and', 'common', 'humanity', 'from', 'local', 'to', 'global', 'levels', ',', 'spanning', 'cultures', ',', 'nations', 'and', 'regions', 'in', 'a', 'world', 'with', 'few', 'examples', 'of', 'global', 'communities', '?', 'My', 'hope', 'is', 'that', 'more', 'of', 'us', 'will', 'commit', 'our', 'energy', 'to', 'building', 'the', 'long', 'term', 'social', 'infrastructure', 'to', 'bring', 'humanity', 'together', '.', 'The', 'answers', 'to', 'these', 'questions', 'won', \"'\", 't', 'all', 'come', 'from', 'Facebook', ',', 'but', 'I', 'believe', 'we', 'can', 'play', 'a', 'role', '.', 'Our', 'job', 'at', 'Facebook', 'is', 'to', 'help', 'people', 'make', 'the', 'greatest', 'positive', 'impact', 'while', 'mitigating', 'areas', 'where', 'technology', 'and', 'social', 'media', 'can', 'contribute', 'to', 'divisiveness', 'and', 'isolation', '.', 'Facebook', 'is', 'a', 'work', 'in', 'progress', ',', 'and', 'we', 'are', 'dedicated', 'to', 'learning', 'and', 'improving', '.', 'We', 'take', 'our', 'responsibility', 'seriously', ',', 'and', 'today', 'I', 'want', 'to', 'talk', 'about', 'how', 'we', 'plan', 'to', 'do', 'our', 'part', 'to', 'build', 'this', 'global', 'community', '.', 'Supportive', 'Communities', 'Building', 'a', 'global', 'community', 'that', 'works', 'for', 'everyone', 'starts', 'with', 'the', 'millions', 'of', 'smaller', 'communities', 'and', 'intimate', 'social', 'structures', 'we', 'turn', 'to', 'for', 'our', 'personal', ',', 'emotional', 'and', 'spiritual', 'needs', '.', 'Whether', 'they', \"'\", 're', 'churches', ',', 'sports', 'teams', ',', 'unions', 'or', 'other', 'local', 'groups', ',', 'they', 'all', 'share', 'important', 'roles', 'as', 'social', 'infrastructure', 'for', 'our', 'communities', '.', 'They', 'provide', 'all', 'of', 'us', 'with', 'a', 'sense', 'of', 'purpose', 'and', 'hope', ';', 'moral', 'validation', 'that', 'we', 'are', 'needed', 'and', 'part', 'of', 'something', 'bigger', 'than', 'ourselves', ';', 'comfort', 'that', 'we', 'are', 'not', 'alone', 'and', 'a', 'community', 'is', 'looking', 'out', 'for', 'us', ';', 'mentorship', ',', 'guidance', 'and', 'personal', 'development', ';', 'a', 'safety', 'net', ';', 'values', ',', 'cultural', 'norms', 'and', 'accountability', ';', 'social', 'gatherings', ',', 'rituals', 'and', 'a', 'way', 'to', 'meet', 'new', 'people', ';', 'and', 'a', 'way', 'to', 'pass', 'time', '.', 'In', 'our', 'society', ',', 'we', 'have', 'personal', 'relationships', 'with', 'friends', 'and', 'family', ',', 'and', 'then', 'we', 'have', 'institutional', 'relationships', 'with', 'the', 'governments', 'that', 'set', 'the', 'rules', '.', 'A', 'healthy', 'society', 'also', 'has', 'many', 'layers', 'of', 'communities', 'between', 'us', 'and', 'government', 'that', 'take', 'care', 'of', 'our', 'needs', '.', 'When', 'we', 'refer', 'to', 'our', '\"', 'social', 'fabric', '\",', 'we', 'usually', 'mean', 'the', 'many', 'mediating', 'groups', 'that', 'bring', 'us', 'together', 'and', 'reinforce', 'our', 'values', '.', 'However', ',', 'there', 'has', 'been', 'a', 'striking', 'decline', 'in', 'the', 'important', 'social', 'infrastructure', 'of', 'local', 'communities', 'over', 'the', 'past', 'few', 'decades', '.', 'Since', 'the', '1970s', ',', 'membership', 'in', 'some', 'local', 'groups', 'has', 'declined', 'by', 'as', 'much', 'as', 'one', 'quarter', ',', 'cutting', 'across', 'all', 'segments', 'of', 'the', 'population', '.', 'The', 'decline', 'raises', 'deeper', 'questions', 'alongside', 'surveys', 'showing', 'large', 'percentages', 'of', 'our', 'population', 'lack', 'a', 'sense', 'of', 'hope', 'for', 'the', 'future', '.', 'It', 'is', 'possible', 'many', 'of', 'our', 'challenges', 'are', 'at', 'least', 'as', 'much', 'social', 'as', 'they', 'are', 'economic', 'related', 'to', 'a', 'lack', 'of', 'community', 'and', 'connection', 'to', 'something', 'greater', 'than', 'ourselves', '.', 'As', 'one', 'pastor', 'told', 'me', ':', '\"', 'People', 'feel', 'unsettled', '.', 'A', 'lot', 'of', 'what', 'was', 'settling', 'in', 'the', 'past', 'doesn', \"'\", 't', 'exist', 'anymore', '.\"', 'Online', 'communities', 'are', 'a', 'bright', 'spot', ',', 'and', 'we', 'can', 'strengthen', 'existing', 'physical', 'communities', 'by', 'helping', 'people', 'come', 'together', 'online', 'as', 'well', 'as', 'offline', '.', 'In', 'the', 'same', 'way', 'connecting', 'with', 'friends', 'online', 'strengthens', 'real', 'relationships', ',', 'developing', 'this', 'infrastructure', 'will', 'strengthen', 'these', 'communities', ',', 'as', 'well', 'as', 'enable', 'completely', 'new', 'ones', 'to', 'form', '.', 'A', 'woman', 'named', 'Christina', 'was', 'diagnosed', 'with', 'a', 'rare', 'disorder', 'called', 'Epidermolysis', 'Bullosa', 'and', 'now', 'she', \"'\", 's', 'a', 'member', 'of', 'a', 'group', 'that', 'connects', '2', ',', '400', 'people', 'around', 'the', 'world', 'so', 'none', 'of', 'them', 'have', 'to', 'suffer', 'alone', '.', 'A', 'man', 'named', 'Matt', 'was', 'raising', 'his', 'two', 'sons', 'by', 'himself', 'and', 'he', 'started', 'the', 'Black', 'Fathers', 'group', 'to', 'help', 'men', 'share', 'advice', 'and', 'encouragement', 'as', 'they', 'raise', 'their', 'families', '.', 'In', 'San', 'Diego', ',', 'more', 'than', '4', ',', '000', 'military', 'family', 'members', 'are', 'part', 'of', 'a', 'group', 'that', 'helps', 'them', 'make', 'friends', 'with', 'other', 'spouses', '.', 'These', 'communities', 'don', \"'\", 't', 'just', 'interact', 'online', '.', 'They', 'hold', 'get', 'togethers', ',', 'organize', 'dinners', ',', 'and', 'support', 'each', 'other', 'in', 'their', 'daily', 'lives', '.', 'We', 'recently', 'found', 'that', 'more', 'than', '100', 'million', 'people', 'on', 'Facebook', 'are', 'members', 'of', 'what', 'we', 'call', '\"', 'very', 'meaningful', '\"', 'groups', '.', 'These', 'are', 'groups', 'that', 'upon', 'joining', ',', 'quickly', 'become', 'the', 'most', 'important', 'part', 'of', 'our', 'social', 'network', 'experience', 'and', 'an', 'important', 'part', 'of', 'our', 'physical', 'support', 'structure', '.', 'For', 'example', ',', 'many', 'new', 'parents', 'tell', 'us', 'that', 'joining', 'a', 'parenting', 'group', 'after', 'having', 'a', 'child', 'fits', 'this', 'purpose', '.', 'There', 'is', 'a', 'real', 'opportunity', 'to', 'connect', 'more', 'of', 'us', 'with', 'groups', 'that', 'will', 'be', 'meaningful', 'social', 'infrastructure', 'in', 'our', 'lives', '.', 'More', 'than', 'one', 'billion', 'people', 'are', 'active', 'members', 'of', 'Facebook', 'groups', ',', 'but', 'most', 'don', \"'\", 't', 'seek', 'out', 'groups', 'on', 'their', 'own', 'friends', 'send', 'invites', 'or', 'Facebook', 'suggests', 'them', '.', 'If', 'we', 'can', 'improve', 'our', 'suggestions', 'and', 'help', 'connect', 'one', 'billion', 'people', 'with', 'meaningful', 'communities', ',', 'that', 'can', 'strengthen', 'our', 'social', 'fabric', '.', 'Going', 'forward', ',', 'we', 'will', 'measure', 'Facebook', \"'\", 's', 'progress', 'with', 'groups', 'based', 'on', 'meaningful', 'groups', ',', 'not', 'groups', 'overall', '.', 'This', 'will', 'require', 'not', 'only', 'helping', 'people', 'connect', 'with', 'existing', 'meaningful', 'groups', ',', 'but', 'also', 'enabling', 'community', 'leaders', 'to', 'create', 'more', 'meaningful', 'groups', 'for', 'people', 'to', 'connect', 'with', '.', 'The', 'most', 'successful', 'physical', 'communities', 'have', 'engaged', 'leaders', ',', 'and', 'we', \"'\", 've', 'seen', 'the', 'same', 'with', 'online', 'groups', 'as', 'well', '.', 'In', 'Berlin', ',', 'a', 'man', 'named', 'Monis', 'Bukhari', 'runs', 'a', 'group', 'where', 'he', 'personally', 'helps', 'refugees', 'find', 'homes', 'and', 'jobs', '.', 'Today', ',', 'Facebook', \"'\", 's', 'tools', 'for', 'group', 'admins', 'are', 'relatively', 'simple', '.', 'We', 'plan', 'to', 'build', 'more', 'tools', 'to', 'empower', 'community', 'leaders', 'like', 'Monis', 'to', 'run', 'and', 'grow', 'their', 'groups', 'the', 'way', 'they', \"'\", 'd', 'like', ',', 'similar', 'to', 'what', 'we', \"'\", 've', 'done', 'with', 'Pages', '.', 'Most', 'communities', 'are', 'made', 'of', 'many', 'sub', 'communities', ',', 'and', 'this', 'is', 'another', 'clear', 'area', 'for', 'developing', 'new', 'tools', '.', 'A', 'school', ',', 'for', 'example', ',', 'is', 'not', 'a', 'single', 'community', ',', 'but', 'many', 'smaller', 'groups', 'among', 'its', 'classes', ',', 'dorms', 'and', 'student', 'groups', '.', 'Just', 'as', 'the', 'social', 'fabric', 'of', 'society', 'is', 'made', 'up', 'of', 'many', 'communities', ',', 'each', 'community', 'is', 'made', 'of', 'many', 'groups', 'of', 'personal', 'connections', '.', 'We', 'plan', 'to', 'expand', 'groups', 'to', 'support', 'sub', 'communities', '.', 'We', 'can', 'look', 'at', 'many', 'activities', 'through', 'the', 'lens', 'of', 'building', 'community', '.', 'Watching', 'video', 'of', 'our', 'favorite', 'sports', 'team', 'or', 'TV', 'show', ',', 'reading', 'our', 'favorite', 'newspaper', ',', 'or', 'playing', 'our', 'favorite', 'game', 'are', 'not', 'just', 'entertainment', 'or', 'information', 'but', 'a', 'shared', 'experience', 'and', 'opportunity', 'to', 'bring', 'together', 'people', 'who', 'care', 'about', 'the', 'same', 'things', '.', 'We', 'can', 'design', 'these', 'experiences', 'not', 'for', 'passive', 'consumption', 'but', 'for', 'strengthening', 'social', 'connections', '.', 'Our', 'goal', 'is', 'to', 'strengthen', 'existing', 'communities', 'by', 'helping', 'us', 'come', 'together', 'online', 'as', 'well', 'as', 'offline', ',', 'as', 'well', 'as', 'enabling', 'us', 'to', 'form', 'completely', 'new', 'communities', ',', 'transcending', 'physical', 'location', '.', 'When', 'we', 'do', 'this', ',', 'beyond', 'connecting', 'online', ',', 'we', 'reinforce', 'our', 'physical', 'communities', 'by', 'bringing', 'us', 'together', 'in', 'person', 'to', 'support', 'each', 'other', '.', 'A', 'healthy', 'society', 'needs', 'these', 'communities', 'to', 'support', 'our', 'personal', ',', 'emotional', 'and', 'spiritual', 'needs', '.', 'In', 'a', 'world', 'where', 'this', 'physical', 'social', 'infrastructure', 'has', 'been', 'declining', ',', 'we', 'have', 'a', 'real', 'opportunity', 'to', 'help', 'strengthen', 'these', 'communities', 'and', 'the', 'social', 'fabric', 'of', 'our', 'society', '.', 'Safe', 'Community', 'As', 'we', 'build', 'a', 'global', 'community', ',', 'this', 'is', 'a', 'moment', 'of', 'truth', '.', 'Our', 'success', 'isn', \"'\", 't', 'just', 'based', 'on', 'whether', 'we', 'can', 'capture', 'videos', 'and', 'share', 'them', 'with', 'friends', '.', 'It', \"'\", 's', 'about', 'whether', 'we', \"'\", 're', 'building', 'a', 'community', 'that', 'helps', 'keep', 'us', 'safe', 'that', 'prevents', 'harm', ',', 'helps', 'during', 'crises', ',', 'and', 'rebuilds', 'afterwards', '.', 'Today', \"'\", 's', 'threats', 'are', 'increasingly', 'global', ',', 'but', 'the', 'infrastructure', 'to', 'protect', 'us', 'is', 'not', '.', 'Problems', 'like', 'terrorism', ',', 'natural', 'disasters', ',', 'disease', ',', 'refugee', 'crises', ',', 'and', 'climate', 'change', 'need', 'coordinated', 'responses', 'from', 'a', 'worldwide', 'vantage', 'point', '.', 'No', 'nation', 'can', 'solve', 'them', 'alone', '.', 'A', 'virus', 'in', 'one', 'nation', 'can', 'quickly', 'spread', 'to', 'others', '.', 'A', 'conflict', 'in', 'one', 'country', 'can', 'create', 'a', 'refugee', 'crisis', 'across', 'continents', '.', 'Pollution', 'in', 'one', 'place', 'can', 'affect', 'the', 'environment', 'around', 'the', 'world', '.', 'Humanity', \"'\", 's', 'current', 'systems', 'are', 'insufficient', 'to', 'address', 'these', 'issues', '.', 'Many', 'dedicated', 'people', 'join', 'global', 'non', 'profit', 'organizations', 'to', 'help', ',', 'but', 'the', 'market', 'often', 'fails', 'to', 'fund', 'or', 'incentivize', 'building', 'the', 'necessary', 'infrastructure', '.', 'I', 'have', 'long', 'expected', 'more', 'organizations', 'and', 'startups', 'to', 'build', 'health', 'and', 'safety', 'tools', 'using', 'technology', ',', 'and', 'I', 'have', 'been', 'surprised', 'by', 'how', 'little', 'of', 'what', 'must', 'be', 'built', 'has', 'even', 'been', 'attempted', '.', 'There', 'is', 'a', 'real', 'opportunity', 'to', 'build', 'global', 'safety', 'infrastructure', ',', 'and', 'I', 'have', 'directed', 'Facebook', 'to', 'invest', 'more', 'and', 'more', 'resources', 'into', 'serving', 'this', 'need', '.', 'For', 'some', 'of', 'these', 'problems', ',', 'the', 'Facebook', 'community', 'is', 'in', 'a', 'unique', 'position', 'to', 'help', 'prevent', 'harm', ',', 'assist', 'during', 'a', 'crisis', ',', 'or', 'come', 'together', 'to', 'rebuild', 'afterwards', '.', 'This', 'is', 'because', 'of', 'the', 'amount', 'of', 'communication', 'across', 'our', 'network', ',', 'our', 'ability', 'to', 'quickly', 'reach', 'people', 'worldwide', 'in', 'an', 'emergency', ',', 'and', 'the', 'vast', 'scale', 'of', 'people', \"'\", 's', 'intrinsic', 'goodness', 'aggregated', 'across', 'our', 'community', '.', 'To', 'prevent', 'harm', ',', 'we', 'can', 'build', 'social', 'infrastructure', 'to', 'help', 'our', 'community', 'identify', 'problems', 'before', 'they', 'happen', '.', 'When', 'someone', 'is', 'thinking', 'of', 'suicide', 'or', 'hurting', 'themselves', ',', 'we', \"'\", 've', 'built', 'infrastructure', 'to', 'give', 'their', 'friends', 'and', 'community', 'tools', 'that', 'could', 'save', 'their', 'life', '.', 'When', 'a', 'child', 'goes', 'missing', ',', 'we', \"'\", 've', 'built', 'infrastructure', 'to', 'show', 'Amber', 'Alerts', 'and', 'multiple', 'children', 'have', 'been', 'rescued', 'without', 'harm', '.', 'And', 'we', \"'\", 've', 'built', 'infrastructure', 'to', 'work', 'with', 'public', 'safety', 'organizations', 'around', 'the', 'world', 'when', 'we', 'become', 'aware', 'of', 'these', 'issues', '.', 'Going', 'forward', ',', 'there', 'are', 'even', 'more', 'cases', 'where', 'our', 'community', 'should', 'be', 'able', 'to', 'identify', 'risks', 'related', 'to', 'mental', 'health', ',', 'disease', 'or', 'crime', '.', 'To', 'help', 'during', 'a', 'crisis', ',', 'we', \"'\", 've', 'built', 'infrastructure', 'like', 'Safety', 'Check', 'so', 'we', 'can', 'all', 'let', 'our', 'friends', 'know', 'we', \"'\", 're', 'safe', 'and', 'check', 'on', 'friends', 'who', 'might', 'be', 'affected', 'by', 'an', 'attack', 'or', 'natural', 'disaster', '.', 'Safety', 'Check', 'has', 'been', 'activated', 'almost', '500', 'times', 'in', 'two', 'years', 'and', 'has', 'already', 'notified', 'people', 'that', 'their', 'families', 'and', 'friends', 'are', 'safe', 'more', 'than', 'a', 'billion', 'times', '.', 'When', 'there', 'is', 'a', 'disaster', ',', 'governments', 'often', 'call', 'us', 'to', 'make', 'sure', 'Safety', 'Check', 'has', 'been', 'activated', 'in', 'their', 'countries', '.', 'But', 'there', 'is', 'more', 'to', 'build', '.', 'We', 'recently', 'added', 'tools', 'to', 'find', 'and', 'offer', 'shelter', ',', 'food', 'and', 'other', 'resources', 'during', 'emergencies', '.', 'Over', 'time', ',', 'our', 'community', 'should', 'be', 'able', 'to', 'help', 'during', 'wars', 'and', 'ongoing', 'issues', 'that', 'are', 'not', 'limited', 'to', 'a', 'single', 'event', '.', 'To', 'rebuild', 'after', 'a', 'crisis', ',', 'we', \"'\", 've', 'built', 'the', 'world', \"'\", 's', 'largest', 'social', 'infrastructure', 'for', 'collective', 'action', '.', 'A', 'few', 'years', 'ago', ',', 'after', 'an', 'earthquake', 'in', 'Nepal', ',', 'the', 'Facebook', 'community', 'raised', '$', '15', 'million', 'to', 'help', 'people', 'recover', 'and', 'rebuild', 'which', 'was', 'the', 'largest', 'crowdfunded', 'relief', 'effort', 'in', 'history', '.', 'We', 'saw', 'a', 'similar', 'effort', 'after', 'the', 'shooting', 'at', 'the', 'Pulse', 'nightclub', 'in', 'Orlando', 'when', 'people', 'across', 'the', 'country', 'organized', 'blood', 'donations', 'to', 'help', 'victims', 'they', 'had', 'never', 'met', '.', 'Similarly', ',', 'we', 'built', 'tools', 'so', 'millions', 'of', 'people', 'could', 'commit', 'to', 'becoming', 'organ', 'donors', 'to', 'save', 'others', 'after', 'accidents', ',', 'and', 'registries', 'reported', 'larger', 'boosts', 'in', 'sign', 'ups', 'than', 'ever', 'before', '.', 'Looking', 'ahead', ',', 'one', 'of', 'our', 'greatest', 'opportunities', 'to', 'keep', 'people', 'safe', 'is', 'building', 'artificial', 'intelligence', 'to', 'understand', 'more', 'quickly', 'and', 'accurately', 'what', 'is', 'happening', 'across', 'our', 'community', '.', 'There', 'are', 'billions', 'of', 'posts', ',', 'comments', 'and', 'messages', 'across', 'our', 'services', 'each', 'day', ',', 'and', 'since', 'it', \"'\", 's', 'impossible', 'to', 'review', 'all', 'of', 'them', ',', 'we', 'review', 'content', 'once', 'it', 'is', 'reported', 'to', 'us', '.', 'There', 'have', 'been', 'terribly', 'tragic', 'events', 'like', 'suicides', ',', 'some', 'live', 'streamed', 'that', 'perhaps', 'could', 'have', 'been', 'prevented', 'if', 'someone', 'had', 'realized', 'what', 'was', 'happening', 'and', 'reported', 'them', 'sooner', '.', 'There', 'are', 'cases', 'of', 'bullying', 'and', 'harassment', 'every', 'day', ',', 'that', 'our', 'team', 'must', 'be', 'alerted', 'to', 'before', 'we', 'can', 'help', 'out', '.', 'These', 'stories', 'show', 'we', 'must', 'find', 'a', 'way', 'to', 'do', 'more', '.', 'Artificial', 'intelligence', 'can', 'help', 'provide', 'a', 'better', 'approach', '.', 'We', 'are', 'researching', 'systems', 'that', 'can', 'look', 'at', 'photos', 'and', 'videos', 'to', 'flag', 'content', 'our', 'team', 'should', 'review', '.', 'This', 'is', 'still', 'very', 'early', 'in', 'development', ',', 'but', 'we', 'have', 'started', 'to', 'have', 'it', 'look', 'at', 'some', 'content', ',', 'and', 'it', 'already', 'generates', 'about', 'one', 'third', 'of', 'all', 'reports', 'to', 'the', 'team', 'that', 'reviews', 'content', 'for', 'our', 'community', '.', 'It', 'will', 'take', 'many', 'years', 'to', 'fully', 'develop', 'these', 'systems', '.', 'Right', 'now', ',', 'we', \"'\", 're', 'starting', 'to', 'explore', 'ways', 'to', 'use', 'AI', 'to', 'tell', 'the', 'difference', 'between', 'news', 'stories', 'about', 'terrorism', 'and', 'actual', 'terrorist', 'propaganda', 'so', 'we', 'can', 'quickly', 'remove', 'anyone', 'trying', 'to', 'use', 'our', 'services', 'to', 'recruit', 'for', 'a', 'terrorist', 'organization', '.', 'This', 'is', 'technically', 'difficult', 'as', 'it', 'requires', 'building', 'AI', 'that', 'can', 'read', 'and', 'understand', 'news', ',', 'but', 'we', 'need', 'to', 'work', 'on', 'this', 'to', 'help', 'fight', 'terrorism', 'worldwide', '.', 'As', 'we', 'discuss', 'keeping', 'our', 'community', 'safe', ',', 'it', 'is', 'important', 'to', 'emphasize', 'that', 'part', 'of', 'keeping', 'people', 'safe', 'is', 'protecting', 'individual', 'security', 'and', 'liberty', '.', 'We', 'are', 'strong', 'advocates', 'of', 'encryption', 'and', 'have', 'built', 'it', 'into', 'the', 'largest', 'messaging', 'platforms', 'in', 'the', 'world', 'WhatsApp', 'and', 'Messenger', '.', 'Keeping', 'our', 'community', 'safe', 'does', 'not', 'require', 'compromising', 'privacy', '.', 'Since', 'building', 'end', 'to', 'end', 'encryption', 'into', 'WhatsApp', ',', 'we', 'have', 'reduced', 'spam', 'and', 'malicious', 'content', 'by', 'more', 'than', '75', '%.', 'The', 'path', 'forward', 'is', 'to', 'recognize', 'that', 'a', 'global', 'community', 'needs', 'social', 'infrastructure', 'to', 'keep', 'us', 'safe', 'from', 'threats', 'around', 'the', 'world', ',', 'and', 'that', 'our', 'community', 'is', 'uniquely', 'positioned', 'to', 'prevent', 'disasters', ',', 'help', 'during', 'crises', ',', 'and', 'rebuild', 'afterwards', '.', 'Keeping', 'the', 'global', 'community', 'safe', 'is', 'an', 'important', 'part', 'of', 'our', 'mission', 'and', 'an', 'important', 'part', 'of', 'how', 'we', \"'\", 'll', 'measure', 'our', 'progress', 'going', 'forward', '.', 'Informed', 'Community', 'The', 'purpose', 'of', 'any', 'community', 'is', 'to', 'bring', 'people', 'together', 'to', 'do', 'things', 'we', 'couldn', \"'\", 't', 'do', 'on', 'our', 'own', '.', 'To', 'do', 'this', ',', 'we', 'need', 'ways', 'to', 'share', 'new', 'ideas', 'and', 'share', 'enough', 'common', 'understanding', 'to', 'actually', 'work', 'together', '.', 'Giving', 'everyone', 'a', 'voice', 'has', 'historically', 'been', 'a', 'very', 'positive', 'force', 'for', 'public', 'discourse', 'because', 'it', 'increases', 'the', 'diversity', 'of', 'ideas', 'shared', '.', 'But', 'the', 'past', 'year', 'has', 'also', 'shown', 'it', 'may', 'fragment', 'our', 'shared', 'sense', 'of', 'reality', '.', 'It', 'is', 'our', 'responsibility', 'to', 'amplify', 'the', 'good', 'effects', 'and', 'mitigate', 'the', 'bad', 'to', 'continue', 'increasing', 'diversity', 'while', 'strengthening', 'our', 'common', 'understanding', 'so', 'our', 'community', 'can', 'create', 'the', 'greatest', 'positive', 'impact', 'on', 'the', 'world', '.', 'The', 'two', 'most', 'discussed', 'concerns', 'this', 'past', 'year', 'were', 'about', 'diversity', 'of', 'viewpoints', 'we', 'see', '(', 'filter', 'bubbles', ')', 'and', 'accuracy', 'of', 'information', '(', 'fake', 'news', ').', 'I', 'worry', 'about', 'these', 'and', 'we', 'have', 'studied', 'them', 'extensively', ',', 'but', 'I', 'also', 'worry', 'there', 'are', 'even', 'more', 'powerful', 'effects', 'we', 'must', 'mitigate', 'around', 'sensationalism', 'and', 'polarization', 'leading', 'to', 'a', 'loss', 'of', 'common', 'understanding', '.', 'Social', 'media', 'already', 'provides', 'more', 'diverse', 'viewpoints', 'than', 'traditional', 'media', 'ever', 'has', '.', 'Even', 'if', 'most', 'of', 'our', 'friends', 'are', 'like', 'us', ',', 'we', 'all', 'know', 'people', 'with', 'different', 'interests', ',', 'beliefs', 'and', 'backgrounds', 'who', 'expose', 'us', 'to', 'different', 'perspectives', '.', 'Compared', 'with', 'getting', 'our', 'news', 'from', 'the', 'same', 'two', 'or', 'three', 'TV', 'networks', 'or', 'reading', 'the', 'same', 'newspapers', 'with', 'their', 'consistent', 'editorial', 'views', ',', 'our', 'networks', 'on', 'Facebook', 'show', 'us', 'more', 'diverse', 'content', '.', 'But', 'our', 'goal', 'must', 'be', 'to', 'help', 'people', 'see', 'a', 'more', 'complete', 'picture', ',', 'not', 'just', 'alternate', 'perspectives', '.', 'We', 'must', 'be', 'careful', 'how', 'we', 'do', 'this', '.', 'Research', 'shows', 'that', 'some', 'of', 'the', 'most', 'obvious', 'ideas', ',', 'like', 'showing', 'people', 'an', 'article', 'from', 'the', 'opposite', 'perspective', ',', 'actually', 'deepen', 'polarization', 'by', 'framing', 'other', 'perspectives', 'as', 'foreign', '.', 'A', 'more', 'effective', 'approach', 'is', 'to', 'show', 'a', 'range', 'of', 'perspectives', ',', 'let', 'people', 'see', 'where', 'their', 'views', 'are', 'on', 'a', 'spectrum', 'and', 'come', 'to', 'a', 'conclusion', 'on', 'what', 'they', 'think', 'is', 'right', '.', 'Over', 'time', ',', 'our', 'community', 'will', 'identify', 'which', 'sources', 'provide', 'a', 'complete', 'range', 'of', 'perspectives', 'so', 'that', 'content', 'will', 'naturally', 'surface', 'more', '.', 'Accuracy', 'of', 'information', 'is', 'very', 'important', '.', 'We', 'know', 'there', 'is', 'misinformation', 'and', 'even', 'outright', 'hoax', 'content', 'on', 'Facebook', ',', 'and', 'we', 'take', 'this', 'very', 'seriously', '.', 'We', \"'\", 've', 'made', 'progress', 'fighting', 'hoaxes', 'the', 'way', 'we', 'fight', 'spam', ',', 'but', 'we', 'have', 'more', 'work', 'to', 'do', '.', 'We', 'are', 'proceeding', 'carefully', 'because', 'there', 'is', 'not', 'always', 'a', 'clear', 'line', 'between', 'hoaxes', ',', 'satire', 'and', 'opinion', '.', 'In', 'a', 'free', 'society', ',', 'it', \"'\", 's', 'important', 'that', 'people', 'have', 'the', 'power', 'to', 'share', 'their', 'opinion', ',', 'even', 'if', 'others', 'think', 'they', \"'\", 're', 'wrong', '.', 'Our', 'approach', 'will', 'focus', 'less', 'on', 'banning', 'misinformation', ',', 'and', 'more', 'on', 'surfacing', 'additional', 'perspectives', 'and', 'information', ',', 'including', 'that', 'fact', 'checkers', 'dispute', 'an', 'item', \"'\", 's', 'accuracy', '.', 'While', 'we', 'have', 'more', 'work', 'to', 'do', 'on', 'information', 'diversity', 'and', 'misinformation', ',', 'I', 'am', 'even', 'more', 'focused', 'on', 'the', 'impact', 'of', 'sensationalism', 'and', 'polarization', ',', 'and', 'the', 'idea', 'of', 'building', 'common', 'understanding', '.', 'Social', 'media', 'is', 'a', 'short', 'form', 'medium', 'where', 'resonant', 'messages', 'get', 'amplified', 'many', 'times', '.', 'This', 'rewards', 'simplicity', 'and', 'discourages', 'nuance', '.', 'At', 'its', 'best', ',', 'this', 'focuses', 'messages', 'and', 'exposes', 'people', 'to', 'different', 'ideas', '.', 'At', 'its', 'worst', ',', 'it', 'oversimplifies', 'important', 'topics', 'and', 'pushes', 'us', 'towards', 'extremes', '.', 'Polarization', 'exists', 'in', 'all', 'areas', 'of', 'discourse', ',', 'not', 'just', 'social', 'media', '.', 'It', 'occurs', 'in', 'all', 'groups', 'and', 'communities', ',', 'including', 'companies', ',', 'classrooms', 'and', 'juries', ',', 'and', 'it', \"'\", 's', 'usually', 'unrelated', 'to', 'politics', '.', 'In', 'the', 'tech', 'community', ',', 'for', 'example', ',', 'discussion', 'around', 'AI', 'has', 'been', 'oversimplified', 'to', 'existential', 'fear', 'mongering', '.', 'The', 'harm', 'is', 'that', 'sensationalism', 'moves', 'people', 'away', 'from', 'balanced', 'nuanced', 'opinions', 'towards', 'polarized', 'extremes', '.', 'If', 'this', 'continues', 'and', 'we', 'lose', 'common', 'understanding', ',', 'then', 'even', 'if', 'we', 'eliminated', 'all', 'misinformation', ',', 'people', 'would', 'just', 'emphasize', 'different', 'sets', 'of', 'facts', 'to', 'fit', 'their', 'polarized', 'opinions', '.', 'That', \"'\", 's', 'why', 'I', \"'\", 'm', 'so', 'worried', 'about', 'sensationalism', 'in', 'media', '.', 'Fortunately', ',', 'there', 'are', 'clear', 'steps', 'we', 'can', 'take', 'to', 'correct', 'these', 'effects', '.', 'For', 'example', ',', 'we', 'noticed', 'some', 'people', 'share', 'stories', 'based', 'on', 'sensational', 'headlines', 'without', 'ever', 'reading', 'the', 'story', '.', 'In', 'general', ',', 'if', 'you', 'become', 'less', 'likely', 'to', 'share', 'a', 'story', 'after', 'reading', 'it', ',', 'that', \"'\", 's', 'a', 'good', 'sign', 'the', 'headline', 'was', 'sensational', '.', 'If', 'you', \"'\", 're', 'more', 'likely', 'to', 'share', 'a', 'story', 'after', 'reading', 'it', ',', 'that', \"'\", 's', 'often', 'a', 'sign', 'of', 'good', 'in', 'depth', 'content', '.', 'We', 'recently', 'started', 'reducing', 'sensationalism', 'in', 'News', 'Feed', 'by', 'taking', 'this', 'into', 'account', 'for', 'pieces', 'of', 'content', ',', 'and', 'going', 'forward', 'signals', 'like', 'this', 'will', 'identify', 'sensational', 'publishers', 'as', 'well', '.', 'There', 'are', 'many', 'steps', 'like', 'this', 'we', 'have', 'taken', 'and', 'will', 'keep', 'taking', 'to', 'reduce', 'sensationalism', 'and', 'help', 'build', 'a', 'more', 'informed', 'community', '.', 'Research', 'suggests', 'the', 'best', 'solutions', 'for', 'improving', 'discourse', 'may', 'come', 'from', 'getting', 'to', 'know', 'each', 'other', 'as', 'whole', 'people', 'instead', 'of', 'just', 'opinions', 'something', 'Facebook', 'may', 'be', 'uniquely', 'suited', 'to', 'do', '.', 'If', 'we', 'connect', 'with', 'people', 'about', 'what', 'we', 'have', 'in', 'common', 'sports', 'teams', ',', 'TV', 'shows', ',', 'interests', 'it', 'is', 'easier', 'to', 'have', 'dialogue', 'about', 'what', 'we', 'disagree', 'on', '.', 'When', 'we', 'do', 'this', 'well', ',', 'we', 'give', 'billions', 'of', 'people', 'the', 'ability', 'to', 'share', 'new', 'perspectives', 'while', 'mitigating', 'the', 'unwanted', 'effects', 'that', 'come', 'with', 'any', 'new', 'medium', '.', 'A', 'strong', 'news', 'industry', 'is', 'also', 'critical', 'to', 'building', 'an', 'informed', 'community', '.', 'Giving', 'people', 'a', 'voice', 'is', 'not', 'enough', 'without', 'having', 'people', 'dedicated', 'to', 'uncovering', 'new', 'information', 'and', 'analyzing', 'it', '.', 'There', 'is', 'more', 'we', 'must', 'do', 'to', 'support', 'the', 'news', 'industry', 'to', 'make', 'sure', 'this', 'vital', 'social', 'function', 'is', 'sustainable', 'from', 'growing', 'local', 'news', ',', 'to', 'developing', 'formats', 'best', 'suited', 'to', 'mobile', 'devices', ',', 'to', 'improving', 'the', 'range', 'of', 'business', 'models', 'news', 'organizations', 'rely', 'on', '.', 'Connecting', 'everyone', 'to', 'the', 'internet', 'is', 'also', 'necessary', 'for', 'building', 'an', 'informed', 'community', '.', 'For', 'the', 'majority', 'of', 'people', 'around', 'the', 'world', ',', 'the', 'debate', 'is', 'not', 'about', 'the', 'quality', 'of', 'public', 'discourse', 'but', 'whether', 'they', 'have', 'access', 'to', 'basic', 'information', 'they', 'need', 'at', 'all', ',', 'often', 'related', 'to', 'health', ',', 'education', 'and', 'jobs', '.', 'Finally', ',', 'I', 'want', 'to', 'emphasize', 'that', 'the', 'vast', 'majority', 'of', 'conversations', 'on', 'Facebook', 'are', 'social', ',', 'not', 'ideological', '.', 'They', \"'\", 're', 'friends', 'sharing', 'jokes', 'and', 'families', 'staying', 'in', 'touch', 'across', 'cities', '.', 'They', \"'\", 're', 'people', 'finding', 'groups', ',', 'whether', 'they', \"'\", 're', 'new', 'parents', 'raising', 'kids', 'or', 'newly', 'diagnosed', 'patients', 'suffering', 'from', 'a', 'disease', 'together', '.', 'Sometimes', 'it', \"'\", 's', 'for', 'joy', ',', 'coming', 'together', 'around', 'religion', 'or', 'sports', '.', 'And', 'sometimes', 'it', \"'\", 's', 'for', 'survival', ',', 'like', 'refugees', 'communicating', 'to', 'find', 'shelter', '.', 'Whatever', 'your', 'situation', 'when', 'you', 'enter', 'our', 'community', ',', 'our', 'commitment', 'is', 'to', 'continue', 'improving', 'our', 'tools', 'to', 'give', 'you', 'the', 'power', 'to', 'share', 'your', 'experience', '.', 'By', 'increasing', 'the', 'diversity', 'of', 'our', 'ideas', 'and', 'strengthening', 'our', 'common', 'understanding', ',', 'our', 'community', 'can', 'have', 'the', 'greatest', 'positive', 'impact', 'on', 'the', 'world', '.', 'Civically', 'Engaged', 'Community', 'Our', 'society', 'will', 'reflect', 'our', 'collective', 'values', 'only', 'if', 'we', 'engage', 'in', 'the', 'civic', 'process', 'and', 'participate', 'in', 'self', 'governance', '.', 'There', 'are', 'two', 'distinct', 'types', 'of', 'social', 'infrastructure', 'that', 'must', 'be', 'built', ':', 'The', 'first', 'encourages', 'engagement', 'in', 'existing', 'political', 'processes', ':', 'voting', ',', 'engaging', 'with', 'issues', 'and', 'representatives', ',', 'speaking', 'out', ',', 'and', 'sometimes', 'organizing', '.', 'Only', 'through', 'dramatically', 'greater', 'engagement', 'can', 'we', 'ensure', 'these', 'political', 'processes', 'reflect', 'our', 'values', '.', 'The', 'second', 'is', 'establishing', 'a', 'new', 'process', 'for', 'citizens', 'worldwide', 'to', 'participate', 'in', 'collective', 'decision', 'making', '.', 'Our', 'world', 'is', 'more', 'connected', 'than', 'ever', ',', 'and', 'we', 'face', 'global', 'problems', 'that', 'span', 'national', 'boundaries', '.', 'As', 'the', 'largest', 'global', 'community', ',', 'Facebook', 'can', 'explore', 'examples', 'of', 'how', 'community', 'governance', 'might', 'work', 'at', 'scale', '.', 'The', 'starting', 'point', 'for', 'civic', 'engagement', 'in', 'the', 'existing', 'political', 'process', 'is', 'to', 'support', 'voting', 'across', 'the', 'world', '.', 'It', 'is', 'striking', 'that', 'only', 'about', 'half', 'of', 'Americans', 'eligible', 'to', 'vote', 'participate', 'in', 'elections', '.', 'This', 'is', 'low', 'compared', 'to', 'other', 'countries', ',', 'but', 'democracy', 'is', 'receding', 'in', 'many', 'countries', 'and', 'there', 'is', 'a', 'large', 'opportunity', 'across', 'the', 'world', 'to', 'encourage', 'civic', 'participation', '.', 'In', 'the', 'United', 'States', 'election', 'last', 'year', ',', 'we', 'helped', 'more', 'than', '2', 'million', 'people', 'register', 'to', 'vote', 'and', 'then', 'go', 'vote', '.', 'This', 'was', 'among', 'the', 'largest', 'voter', 'turnout', 'efforts', 'in', 'history', ',', 'and', 'larger', 'than', 'those', 'of', 'both', 'major', 'parties', 'combined', '.', 'In', 'every', 'election', 'around', 'the', 'world', ',', 'we', 'keep', 'improving', 'our', 'tools', 'to', 'help', 'more', 'people', 'register', 'and', 'vote', ',', 'and', 'we', 'hope', 'to', 'eventually', 'enable', 'hundreds', 'of', 'millions', 'of', 'more', 'people', 'to', 'vote', 'in', 'elections', 'than', 'do', 'today', ',', 'in', 'every', 'democratic', 'country', 'around', 'the', 'world', '.', 'Local', 'civic', 'engagement', 'is', 'a', 'big', 'opportunity', 'as', 'well', 'as', 'national', '.', 'Today', ',', 'most', 'of', 'us', 'do', 'not', 'even', 'know', 'who', 'our', 'local', 'representatives', 'are', ',', 'but', 'many', 'policies', 'impacting', 'our', 'lives', 'are', 'local', ',', 'and', 'this', 'is', 'where', 'our', 'participation', 'has', 'the', 'greatest', 'influence', '.', 'Research', 'suggests', 'reading', 'local', 'news', 'is', 'directly', 'correlated', 'with', 'local', 'civic', 'engagement', '.', 'This', 'shows', 'how', 'building', 'an', 'informed', 'community', ',', 'supportive', 'local', 'communities', ',', 'and', 'a', 'civically', 'engaged', 'community', 'are', 'all', 'related', '.', 'Beyond', 'voting', ',', 'the', 'greatest', 'opportunity', 'is', 'helping', 'people', 'stay', 'engaged', 'with', 'the', 'issues', 'that', 'matter', 'to', 'them', 'every', 'day', ',', 'not', 'just', 'every', 'few', 'years', 'at', 'the', 'ballot', 'box', '.', 'We', 'can', 'help', 'establish', 'direct', 'dialogue', 'and', 'accountability', 'between', 'people', 'and', 'our', 'elected', 'leaders', '.', 'In', 'India', ',', 'Prime', 'Minister', 'Modi', 'has', 'asked', 'his', 'ministers', 'to', 'share', 'their', 'meetings', 'and', 'information', 'on', 'Facebook', 'so', 'they', 'can', 'hear', 'direct', 'feedback', 'from', 'citizens', '.', 'In', 'Kenya', ',', 'whole', 'villages', 'are', 'in', 'WhatsApp', 'groups', 'together', ',', 'including', 'their', 'representatives', '.', 'In', 'recent', 'campaigns', 'around', 'the', 'world', 'from', 'India', 'and', 'Indonesia', 'across', 'Europe', 'to', 'the', 'United', 'States', 'we', \"'\", 've', 'seen', 'the', 'candidate', 'with', 'the', 'largest', 'and', 'most', 'engaged', 'following', 'on', 'Facebook', 'usually', 'wins', '.', 'Just', 'as', 'TV', 'became', 'the', 'primary', 'medium', 'for', 'civic', 'communication', 'in', 'the', '1960s', ',', 'social', 'media', 'is', 'becoming', 'this', 'in', 'the', '21st', 'century', '.', 'This', 'creates', 'an', 'opportunity', 'for', 'us', 'to', 'connect', 'with', 'our', 'representatives', 'at', 'all', 'levels', '.', 'In', 'the', 'last', 'few', 'months', ',', 'we', 'have', 'already', 'helped', 'our', 'community', 'double', 'the', 'number', 'of', 'connections', 'between', 'people', 'and', 'our', 'representatives', 'by', 'making', 'it', 'easier', 'to', 'connect', 'with', 'all', 'our', 'representatives', 'in', 'one', 'click', '.', 'When', 'we', 'connect', ',', 'we', 'can', 'engage', 'directly', 'in', 'comments', 'and', 'messages', '.', 'For', 'example', ',', 'in', 'Iceland', ',', 'it', \"'\", 's', 'common', 'to', 'tag', 'politicians', 'in', 'group', 'discussions', 'so', 'they', 'can', 'take', 'community', 'issues', 'to', 'parliament', '.', 'Sometimes', 'people', 'must', 'speak', 'out', 'and', 'demonstrate', 'for', 'what', 'they', 'believe', 'is', 'right', '.', 'From', 'Tahrir', 'Square', 'to', 'the', 'Tea', 'Party', 'our', 'community', 'organizes', 'these', 'demonstrations', 'using', 'our', 'infrastructure', 'for', 'events', 'and', 'groups', '.', 'On', 'a', 'daily', 'basis', ',', 'people', 'use', 'their', 'voices', 'to', 'share', 'their', 'views', 'in', 'ways', 'that', 'can', 'spread', 'around', 'the', 'world', 'and', 'grow', 'into', 'movements', '.', 'The', 'Women', \"'\", 's', 'March', 'is', 'an', 'example', 'of', 'this', ',', 'where', 'a', 'grandmother', 'with', 'an', 'internet', 'connection', 'wrote', 'a', 'post', 'that', 'led', 'her', 'friends', 'to', 'start', 'a', 'Facebook', 'event', 'that', 'eventually', 'turned', 'into', 'millions', 'of', 'people', 'marching', 'in', 'cities', 'around', 'the', 'world', '.', 'Giving', 'people', 'a', 'voice', 'is', 'a', 'principle', 'our', 'community', 'has', 'been', 'committed', 'to', 'since', 'we', 'began', '.', 'As', 'we', 'look', 'ahead', 'to', 'building', 'the', 'social', 'infrastructure', 'for', 'a', 'global', 'community', ',', 'we', 'will', 'work', 'on', 'building', 'new', 'tools', 'that', 'encourage', 'thoughtful', 'civic', 'engagement', '.', 'Empowering', 'us', 'to', 'use', 'our', 'voices', 'will', 'only', 'become', 'more', 'important', '.', 'Inclusive', 'Community', 'Building', 'an', 'inclusive', 'global', 'community', 'requires', 'establishing', 'a', 'new', 'process', 'for', 'citizens', 'worldwide', 'to', 'participate', 'in', 'community', 'governance', '.', 'I', 'hope', 'that', 'we', 'can', 'explore', 'examples', 'of', 'how', 'collective', 'decision', 'making', 'might', 'work', 'at', 'scale', '.', 'Facebook', 'is', 'not', 'just', 'technology', 'or', 'media', ',', 'but', 'a', 'community', 'of', 'people', '.', 'That', 'means', 'we', 'need', 'Community', 'Standards', 'that', 'reflect', 'our', 'collective', 'values', 'for', 'what', 'should', 'and', 'should', 'not', 'be', 'allowed', '.', 'In', 'the', 'last', 'year', ',', 'the', 'complexity', 'of', 'the', 'issues', 'we', \"'\", 've', 'seen', 'has', 'outstripped', 'our', 'existing', 'processes', 'for', 'governing', 'the', 'community', '.', 'We', 'saw', 'this', 'in', 'errors', 'taking', 'down', 'newsworthy', 'videos', 'related', 'to', 'Black', 'Lives', 'Matter', 'and', 'police', 'violence', ',', 'and', 'in', 'removing', 'the', 'historical', 'Terror', 'of', 'War', 'photo', 'from', 'Vietnam', '.', 'We', \"'\", 've', 'seen', 'this', 'in', 'misclassifying', 'hate', 'speech', 'in', 'political', 'debates', 'in', 'both', 'directions', 'taking', 'down', 'accounts', 'and', 'content', 'that', 'should', 'be', 'left', 'up', 'and', 'leaving', 'up', 'content', 'that', 'was', 'hateful', 'and', 'should', 'be', 'taken', 'down', '.', 'Both', 'the', 'number', 'of', 'issues', 'and', 'their', 'cultural', 'importance', 'has', 'increased', 'recently', '.', 'This', 'has', 'been', 'painful', 'for', 'me', 'because', 'I', 'often', 'agree', 'with', 'those', 'criticizing', 'us', 'that', 'we', \"'\", 're', 'making', 'mistakes', '.', 'These', 'mistakes', 'are', 'almost', 'never', 'because', 'we', 'hold', 'ideological', 'positions', 'at', 'odds', 'with', 'the', 'community', ',', 'but', 'instead', 'are', 'operational', 'scaling', 'issues', '.', 'Our', 'guiding', 'philosophy', 'for', 'the', 'Community', 'Standards', 'is', 'to', 'try', 'to', 'reflect', 'the', 'cultural', 'norms', 'of', 'our', 'community', '.', 'When', 'in', 'doubt', ',', 'we', 'always', 'favor', 'giving', 'people', 'the', 'power', 'to', 'share', 'more', '.', 'There', 'are', 'a', 'few', 'reasons', 'for', 'the', 'increase', 'in', 'issues', 'we', \"'\", 've', 'seen', ':', 'cultural', 'norms', 'are', 'shifting', ',', 'cultures', 'are', 'different', 'around', 'the', 'world', ',', 'and', 'people', 'are', 'sensitive', 'to', 'different', 'things', '.', 'First', ',', 'our', 'community', 'is', 'evolving', 'from', 'its', 'origin', 'connecting', 'us', 'with', 'family', 'and', 'friends', 'to', 'now', 'becoming', 'a', 'source', 'of', 'news', 'and', 'public', 'discourse', 'as', 'well', '.', 'With', 'this', 'cultural', 'shift', ',', 'our', 'Community', 'Standards', 'must', 'adapt', 'to', 'permit', 'more', 'newsworthy', 'and', 'historical', 'content', ',', 'even', 'if', 'some', 'is', 'objectionable', '.', 'For', 'example', ',', 'an', 'extremely', 'violent', 'video', 'of', 'someone', 'dying', 'would', 'have', 'been', 'marked', 'as', 'disturbing', 'and', 'taken', 'down', '.', 'However', ',', 'now', 'that', 'we', 'use', 'Live', 'to', 'capture', 'the', 'news', 'and', 'we', 'post', 'videos', 'to', 'protest', 'violence', ',', 'our', 'standards', 'must', 'adapt', '.', 'Similarly', ',', 'a', 'photo', 'depicting', 'any', 'child', 'nudity', 'would', 'have', 'always', 'been', 'taken', 'down', 'and', 'for', 'good', 'reason', 'but', 'we', \"'\", 've', 'now', 'adapted', 'our', 'standards', 'to', 'allow', 'historically', 'important', 'content', 'like', 'the', 'Terror', 'of', 'War', 'photo', '.', 'These', 'issues', 'reflect', 'a', 'need', 'to', 'update', 'our', 'standards', 'to', 'meet', 'evolving', 'expectations', 'from', 'our', 'community', '.', 'Second', ',', 'our', 'community', 'spans', 'many', 'countries', 'and', 'cultures', ',', 'and', 'the', 'norms', 'are', 'different', 'in', 'each', 'region', '.', 'It', \"'\", 's', 'not', 'surprising', 'that', 'Europeans', 'more', 'frequently', 'find', 'fault', 'with', 'taking', 'down', 'images', 'depicting', 'nudity', ',', 'since', 'some', 'European', 'cultures', 'are', 'more', 'accepting', 'of', 'nudity', 'than', ',', 'for', 'example', ',', 'many', 'communities', 'in', 'the', 'Middle', 'East', 'or', 'Asia', '.', 'With', 'a', 'community', 'of', 'almost', 'two', 'billion', 'people', ',', 'it', 'is', 'less', 'feasible', 'to', 'have', 'a', 'single', 'set', 'of', 'standards', 'to', 'govern', 'the', 'entire', 'community', 'so', 'we', 'need', 'to', 'evolve', 'towards', 'a', 'system', 'of', 'more', 'local', 'governance', '.', 'Third', ',', 'even', 'within', 'a', 'given', 'culture', ',', 'we', 'have', 'different', 'opinions', 'on', 'what', 'we', 'want', 'to', 'see', 'and', 'what', 'is', 'objectionable', '.', 'I', 'may', 'be', 'okay', 'with', 'more', 'politically', 'charged', 'speech', 'but', 'not', 'want', 'to', 'see', 'anything', 'sexually', 'suggestive', ',', 'while', 'you', 'may', 'be', 'okay', 'with', 'nudity', 'but', 'not', 'want', 'to', 'see', 'offensive', 'speech', '.', 'Similarly', ',', 'you', 'may', 'want', 'to', 'share', 'a', 'violent', 'video', 'in', 'a', 'protest', 'without', 'worrying', 'that', 'you', \"'\", 're', 'going', 'to', 'bother', 'friends', 'who', 'don', \"'\", 't', 'want', 'to', 'see', 'it', '.', 'And', 'just', 'as', 'it', \"'\", 's', 'a', 'bad', 'experience', 'to', 'see', 'objectionable', 'content', ',', 'it', \"'\", 's', 'also', 'a', 'terrible', 'experience', 'to', 'be', 'told', 'we', 'can', \"'\", 't', 'share', 'something', 'we', 'feel', 'is', 'important', '.', 'This', 'suggests', 'we', 'need', 'to', 'evolve', 'towards', 'a', 'system', 'of', 'personal', 'control', 'over', 'our', 'experience', '.', 'Fourth', ',', 'we', \"'\", 're', 'operating', 'at', 'such', 'a', 'large', 'scale', 'that', 'even', 'a', 'small', 'percent', 'of', 'errors', 'causes', 'a', 'large', 'number', 'of', 'bad', 'experiences', '.', 'We', 'review', 'over', 'one', 'hundred', 'million', 'pieces', 'of', 'content', 'every', 'month', ',', 'and', 'even', 'if', 'our', 'reviewers', 'get', '99', '%', 'of', 'the', 'calls', 'right', ',', 'that', \"'\", 's', 'still', 'millions', 'of', 'errors', 'over', 'time', '.', 'Any', 'system', 'will', 'always', 'have', 'some', 'mistakes', ',', 'but', 'I', 'believe', 'we', 'can', 'do', 'better', 'than', 'we', 'are', 'today', '.', 'I', \"'\", 've', 'spent', 'a', 'lot', 'of', 'time', 'over', 'the', 'past', 'year', 'reflecting', 'on', 'how', 'we', 'can', 'improve', 'our', 'community', 'governance', '.', 'Sitting', 'here', 'in', 'California', ',', 'we', \"'\", 're', 'not', 'best', 'positioned', 'to', 'identify', 'the', 'cultural', 'norms', 'around', 'the', 'world', '.', 'Instead', ',', 'we', 'need', 'a', 'system', 'where', 'we', 'can', 'all', 'contribute', 'to', 'setting', 'the', 'standards', '.', 'Although', 'this', 'system', 'is', 'not', 'fully', 'developed', ',', 'I', 'want', 'to', 'share', 'an', 'idea', 'of', 'how', 'this', 'might', 'work', '.', 'The', 'guiding', 'principles', 'are', 'that', 'the', 'Community', 'Standards', 'should', 'reflect', 'the', 'cultural', 'norms', 'of', 'our', 'community', ',', 'that', 'each', 'person', 'should', 'see', 'as', 'little', 'objectionable', 'content', 'as', 'possible', ',', 'and', 'each', 'person', 'should', 'be', 'able', 'to', 'share', 'what', 'they', 'want', 'while', 'being', 'told', 'they', 'cannot', 'share', 'something', 'as', 'little', 'as', 'possible', '.', 'The', 'approach', 'is', 'to', 'combine', 'creating', 'a', 'large', 'scale', 'democratic', 'process', 'to', 'determine', 'standards', 'with', 'AI', 'to', 'help', 'enforce', 'them', '.', 'The', 'idea', 'is', 'to', 'give', 'everyone', 'in', 'the', 'community', 'options', 'for', 'how', 'they', 'would', 'like', 'to', 'set', 'the', 'content', 'policy', 'for', 'themselves', '.', 'Where', 'is', 'your', 'line', 'on', 'nudity', '?', 'On', 'violence', '?', 'On', 'graphic', 'content', '?', 'On', 'profanity', '?', 'What', 'you', 'decide', 'will', 'be', 'your', 'personal', 'settings', '.', 'We', 'will', 'periodically', 'ask', 'you', 'these', 'questions', 'to', 'increase', 'participation', 'and', 'so', 'you', 'don', \"'\", 't', 'need', 'to', 'dig', 'around', 'to', 'find', 'them', '.', 'For', 'those', 'who', 'don', \"'\", 't', 'make', 'a', 'decision', ',', 'the', 'default', 'will', 'be', 'whatever', 'the', 'majority', 'of', 'people', 'in', 'your', 'region', 'selected', ',', 'like', 'a', 'referendum', '.', 'Of', 'course', 'you', 'will', 'always', 'be', 'free', 'to', 'update', 'your', 'personal', 'settings', 'anytime', '.', 'With', 'a', 'broader', 'range', 'of', 'controls', ',', 'content', 'will', 'only', 'be', 'taken', 'down', 'if', 'it', 'is', 'more', 'objectionable', 'than', 'the', 'most', 'permissive', 'options', 'allow', '.', 'Within', 'that', 'range', ',', 'content', 'should', 'simply', 'not', 'be', 'shown', 'to', 'anyone', 'whose', 'personal', 'controls', 'suggest', 'they', 'would', 'not', 'want', 'to', 'see', 'it', ',', 'or', 'at', 'least', 'they', 'should', 'see', 'a', 'warning', 'first', '.', 'Although', 'we', 'will', 'still', 'block', 'content', 'based', 'on', 'standards', 'and', 'local', 'laws', ',', 'our', 'hope', 'is', 'that', 'this', 'system', 'of', 'personal', 'controls', 'and', 'democratic', 'referenda', 'should', 'minimize', 'restrictions', 'on', 'what', 'we', 'can', 'share', '.', 'It', \"'\", 's', 'worth', 'noting', 'that', 'major', 'advances', 'in', 'AI', 'are', 'required', 'to', 'understand', 'text', ',', 'photos', 'and', 'videos', 'to', 'judge', 'whether', 'they', 'contain', 'hate', 'speech', ',', 'graphic', 'violence', ',', 'sexually', 'explicit', 'content', ',', 'and', 'more', '.', 'At', 'our', 'current', 'pace', 'of', 'research', ',', 'we', 'hope', 'to', 'begin', 'handling', 'some', 'of', 'these', 'cases', 'in', '2017', ',', 'but', 'others', 'will', 'not', 'be', 'possible', 'for', 'many', 'years', '.', 'Overall', ',', 'it', 'is', 'important', 'that', 'the', 'governance', 'of', 'our', 'community', 'scales', 'with', 'the', 'complexity', 'and', 'demands', 'of', 'its', 'people', '.', 'We', 'are', 'committed', 'to', 'always', 'doing', 'better', ',', 'even', 'if', 'that', 'involves', 'building', 'a', 'worldwide', 'voting', 'system', 'to', 'give', 'you', 'more', 'voice', 'and', 'control', '.', 'Our', 'hope', 'is', 'that', 'this', 'model', 'provides', 'examples', 'of', 'how', 'collective', 'decision', 'making', 'may', 'work', 'in', 'other', 'aspects', 'of', 'the', 'global', 'community', '.', 'This', 'is', 'an', 'important', 'time', 'in', 'the', 'development', 'of', 'our', 'global', 'community', ',', 'and', 'it', \"'\", 's', 'a', 'time', 'when', 'many', 'of', 'us', 'around', 'the', 'world', 'are', 'reflecting', 'on', 'how', 'we', 'can', 'have', 'the', 'most', 'positive', 'impact', '.', 'History', 'has', 'had', 'many', 'moments', 'like', 'today', '.', 'As', 'we', \"'\", 've', 'made', 'our', 'great', 'leaps', 'from', 'tribes', 'to', 'cities', 'to', 'nations', ',', 'we', 'have', 'always', 'had', 'to', 'build', 'social', 'infrastructure', 'like', 'communities', ',', 'media', 'and', 'governments', 'for', 'us', 'to', 'thrive', 'and', 'reach', 'the', 'next', 'level', '.', 'At', 'each', 'step', 'we', 'learned', 'how', 'to', 'come', 'together', 'to', 'solve', 'our', 'challenges', 'and', 'accomplish', 'greater', 'things', 'than', 'we', 'could', 'alone', '.', 'We', 'have', 'done', 'it', 'before', 'and', 'we', 'will', 'do', 'it', 'again', '.', 'I', 'am', 'reminded', 'of', 'President', 'Lincoln', \"'\", 's', 'remarks', 'during', 'the', 'American', 'Civil', 'War', ':', '\"', 'We', 'can', 'succeed', 'only', 'by', 'concert', '.', 'It', 'is', 'not', \"'\", 'can', 'any', 'of', 'us', 'imagine', 'better', \"?'\", 'but', ',', \"'\", 'can', 'we', 'all', 'do', 'better', \"?'\", 'The', 'dogmas', 'of', 'the', 'quiet', 'past', ',', 'are', 'inadequate', 'to', 'the', 'stormy', 'present', '.', 'The', 'occasion', 'is', 'piled', 'high', 'with', 'difficulty', ',', 'and', 'we', 'must', 'rise', 'with', 'the', 'occasion', '.', 'As', 'our', 'case', 'is', 'new', ',', 'so', 'we', 'must', 'think', 'anew', ',', 'act', 'anew', '.\"', 'There', 'are', 'many', 'of', 'us', 'who', 'stand', 'for', 'bringing', 'people', 'together', 'and', 'connecting', 'the', 'world', '.', 'I', 'hope', 'we', 'have', 'the', 'focus', 'to', 'take', 'the', 'long', 'view', 'and', 'build', 'the', 'new', 'social', 'infrastructure', 'to', 'create', 'the', 'world', 'we', 'want', 'for', 'generations', 'to', 'come', '.', 'It', \"'\", 's', 'an', 'honor', 'to', 'be', 'on', 'this', 'journey', 'with', 'you', '.', 'Thank', 'you', 'for', 'being', 'part', 'of', 'this', 'community', ',', 'and', 'thanks', 'for', 'everything', 'you', 'do', 'to', 'make', 'the', 'world', 'more', 'open', 'and', 'connected', '.', 'Mark']\n"
     ]
    }
   ],
   "source": [
    "from nltk import wordpunct_tokenize\n",
    "print(wordpunct_tokenize(sentence))"
   ]
  },
  {
   "cell_type": "code",
   "execution_count": 30,
   "metadata": {
    "collapsed": false
   },
   "outputs": [
    {
     "name": "stdout",
     "output_type": "stream",
     "text": [
      "[nltk_data] Downloading package stopwords to\n",
      "[nltk_data]     /Users/Chiali/nltk_data...\n",
      "[nltk_data]   Package stopwords is already up-to-date!\n"
     ]
    },
    {
     "data": {
      "text/plain": [
       "True"
      ]
     },
     "execution_count": 30,
     "metadata": {},
     "output_type": "execute_result"
    }
   ],
   "source": [
    "import nltk\n",
    "nltk.download('stopwords')"
   ]
  },
  {
   "cell_type": "code",
   "execution_count": 1,
   "metadata": {
    "collapsed": true
   },
   "outputs": [],
   "source": [
    "from nltk.corpus import stopwords\n",
    "stops = set(stopwords.words('english'))\n",
    "import string\n",
    "# add more\n",
    "stops.update(string.ascii_letters + string.punctuation + string.digits)  \n",
    "#如果我們\n",
    "stops.update(('--'))"
   ]
  },
  {
   "cell_type": "code",
   "execution_count": 2,
   "metadata": {
    "collapsed": false
   },
   "outputs": [
    {
     "data": {
      "text/plain": [
       "'!\"#$%&\\'()*+,-./:;<=>?@[\\\\]^_`{|}~'"
      ]
     },
     "execution_count": 2,
     "metadata": {},
     "output_type": "execute_result"
    }
   ],
   "source": [
    "import string\n",
    "string.punctuation"
   ]
  },
  {
   "cell_type": "code",
   "execution_count": 3,
   "metadata": {
    "collapsed": true
   },
   "outputs": [],
   "source": [
    "# you can add one at a time\n",
    "for symbol in string.punctuation:\n",
    "    stops.add(symbol)\n",
    "# or update a sequence into the set\n",
    "stops.update(string.punctuation)"
   ]
  },
  {
   "cell_type": "code",
   "execution_count": 4,
   "metadata": {
    "collapsed": false
   },
   "outputs": [
    {
     "ename": "NameError",
     "evalue": "name 'word_tokenize' is not defined",
     "output_type": "error",
     "traceback": [
      "\u001b[0;31m---------------------------------------------------------------------------\u001b[0m",
      "\u001b[0;31mNameError\u001b[0m                                 Traceback (most recent call last)",
      "\u001b[0;32m<ipython-input-4-8f7089ca686b>\u001b[0m in \u001b[0;36m<module>\u001b[0;34m()\u001b[0m\n\u001b[0;32m----> 1\u001b[0;31m \u001b[0mwords\u001b[0m \u001b[0;34m=\u001b[0m \u001b[0mword_tokenize\u001b[0m\u001b[0;34m(\u001b[0m\u001b[0msentence\u001b[0m\u001b[0;34m)\u001b[0m\u001b[0;34m\u001b[0m\u001b[0m\n\u001b[0m\u001b[1;32m      2\u001b[0m \u001b[0;31m# for word in words:\u001b[0m\u001b[0;34m\u001b[0m\u001b[0;34m\u001b[0m\u001b[0m\n\u001b[1;32m      3\u001b[0m \u001b[0;31m#     if word not in stopwords:\u001b[0m\u001b[0;34m\u001b[0m\u001b[0;34m\u001b[0m\u001b[0m\n\u001b[1;32m      4\u001b[0m \u001b[0;31m#         print(word)\u001b[0m\u001b[0;34m\u001b[0m\u001b[0;34m\u001b[0m\u001b[0m\n\u001b[1;32m      5\u001b[0m \u001b[0mprint\u001b[0m\u001b[0;34m(\u001b[0m\u001b[0;34m[\u001b[0m\u001b[0mword\u001b[0m \u001b[0;32mfor\u001b[0m \u001b[0mword\u001b[0m \u001b[0;32min\u001b[0m \u001b[0mwords\u001b[0m \u001b[0;32mif\u001b[0m \u001b[0mword\u001b[0m \u001b[0;32mnot\u001b[0m \u001b[0;32min\u001b[0m \u001b[0mstops\u001b[0m\u001b[0;34m]\u001b[0m\u001b[0;34m)\u001b[0m\u001b[0;34m\u001b[0m\u001b[0m\n",
      "\u001b[0;31mNameError\u001b[0m: name 'word_tokenize' is not defined"
     ]
    }
   ],
   "source": [
    "words = word_tokenize(sentence)\n",
    "# for word in words:\n",
    "#     if word not in stopwords:\n",
    "#         print(word)\n",
    "print([word for word in words if word not in stops])"
   ]
  },
  {
   "cell_type": "code",
   "execution_count": 35,
   "metadata": {
    "collapsed": false
   },
   "outputs": [],
   "source": [
    "words = [word for word in words if word not in stops]\n",
    "clean = [word for word in words if word.isalpha()]"
   ]
  },
  {
   "cell_type": "code",
   "execution_count": 36,
   "metadata": {
    "collapsed": false
   },
   "outputs": [],
   "source": [
    "from collections import Counter\n",
    "counter = Counter(clean)\n"
   ]
  },
  {
   "cell_type": "code",
   "execution_count": 37,
   "metadata": {
    "collapsed": false
   },
   "outputs": [
    {
     "data": {
      "text/plain": [
       "[('community', 72),\n",
       " ('people', 61),\n",
       " ('us', 38),\n",
       " ('world', 36),\n",
       " ('social', 29),\n",
       " ('communities', 26),\n",
       " ('help', 26),\n",
       " ('We', 25),\n",
       " ('infrastructure', 24),\n",
       " ('Facebook', 24),\n",
       " ('global', 24),\n",
       " ('groups', 23),\n",
       " ('content', 23),\n",
       " ('many', 21),\n",
       " ('share', 20),\n",
       " ('like', 19),\n",
       " ('important', 19),\n",
       " ('around', 18),\n",
       " ('together', 18),\n",
       " ('building', 17)]"
      ]
     },
     "execution_count": 37,
     "metadata": {},
     "output_type": "execute_result"
    }
   ],
   "source": [
    "counter.most_common(20)"
   ]
  },
  {
   "cell_type": "code",
   "execution_count": 38,
   "metadata": {
    "collapsed": true
   },
   "outputs": [],
   "source": [
    "counter.clear()"
   ]
  },
  {
   "cell_type": "markdown",
   "metadata": {
    "collapsed": true
   },
   "source": [
    "### Save the result into a csv file"
   ]
  },
  {
   "cell_type": "markdown",
   "metadata": {},
   "source": [
    "https://docs.python.org/3/library/csv.html"
   ]
  },
  {
   "cell_type": "code",
   "execution_count": 85,
   "metadata": {
    "collapsed": true
   },
   "outputs": [],
   "source": [
    "import csv"
   ]
  },
  {
   "cell_type": "markdown",
   "metadata": {},
   "source": [
    "write word count result"
   ]
  },
  {
   "cell_type": "code",
   "execution_count": 86,
   "metadata": {
    "collapsed": false
   },
   "outputs": [],
   "source": [
    "with open('wordcount.csv', 'w') as csvfile:\n",
    "    # set up header\n",
    "    fieldnames = ['word', 'count']\n",
    "    writer = csv.DictWriter(csvfile, fieldnames=fieldnames)\n",
    "\n",
    "    writer.writeheader()\n",
    "    for word, count in counter.most_common():\n",
    "        writer.writerow({'word': word, 'count': count})"
   ]
  },
  {
   "cell_type": "markdown",
   "metadata": {
    "collapsed": true
   },
   "source": [
    "read csv"
   ]
  },
  {
   "cell_type": "code",
   "execution_count": 87,
   "metadata": {
    "collapsed": false
   },
   "outputs": [
    {
     "name": "stdout",
     "output_type": "stream",
     "text": [
      "community 80\n",
      "people 62\n",
      "us 38\n",
      "world 36\n",
      "social 31\n",
      "help 26\n",
      "communities 25\n",
      "facebook 24\n",
      "infrastructure 24\n",
      "global 24\n",
      "groups 23\n",
      "content 23\n",
      "many 22\n",
      "share 20\n",
      "building 19\n",
      "important 19\n",
      "like 19\n",
      "together 18\n",
      "around 18\n",
      "new 16\n",
      "build 16\n",
      "friends 15\n",
      "want 14\n",
      "even 14\n",
      "local 13\n",
      "must 13\n",
      "across 13\n",
      "news 12\n",
      "safe 12\n",
      "need 12\n",
      "issues 11\n",
      "work 11\n",
      "standards 11\n",
      "see 11\n",
      "media 10\n",
      "today 10\n",
      "common 10\n",
      "connect 10\n",
      "tools 10\n",
      "come 10\n",
      "one 10\n",
      "personal 10\n",
      "built 10\n",
      "also 9\n",
      "part 9\n",
      "well 9\n",
      "hope 9\n",
      "may 8\n",
      "opportunity 8\n",
      "example 8\n",
      "always 8\n",
      "understanding 8\n",
      "whether 8\n",
      "every 8\n",
      "time 8\n",
      "civic 8\n",
      "different 8\n",
      "greatest 8\n",
      "information 8\n",
      "society 7\n",
      "take 7\n",
      "safety 7\n",
      "make 7\n",
      "two 7\n",
      "engagement 7\n",
      "positive 7\n",
      "past 7\n",
      "collective 7\n",
      "system 7\n",
      "perspectives 7\n",
      "cultural 7\n",
      "group 7\n",
      "years 7\n",
      "online 7\n",
      "support 7\n",
      "find 6\n",
      "informed 6\n",
      "often 6\n",
      "sensationalism 6\n",
      "give 6\n",
      "experience 6\n",
      "values 6\n",
      "worldwide 6\n",
      "reading 6\n",
      "representatives 6\n",
      "could 6\n",
      "year 6\n",
      "strengthen 6\n",
      "existing 6\n",
      "reflect 6\n",
      "way 6\n",
      "norms 6\n",
      "physical 6\n",
      "meaningful 6\n",
      "seen 6\n",
      "connecting 6\n",
      "ideas 6\n",
      "impact 6\n",
      "largest 6\n",
      "taking 6\n",
      "harm 6\n",
      "use 5\n",
      "cities 5\n",
      "helps 5\n",
      "quickly 5\n",
      "show 5\n",
      "everyone 5\n",
      "going 5\n",
      "power 5\n",
      "ai 5\n",
      "objectionable 5\n",
      "voting 5\n",
      "range 5\n",
      "keep 5\n",
      "voice 5\n",
      "questions 5\n",
      "right 5\n",
      "progress 5\n",
      "millions 5\n",
      "vote 5\n",
      "videos 5\n",
      "discourse 5\n",
      "made 5\n",
      "related 5\n",
      "ever 5\n",
      "know 5\n",
      "governance 5\n",
      "improving 5\n",
      "process 5\n",
      "create 5\n",
      "needs 5\n",
      "things 5\n",
      "taken 5\n",
      "sometimes 5\n",
      "something 5\n",
      "keeping 5\n",
      "diversity 5\n",
      "forward 5\n",
      "would 5\n",
      "nudity 5\n",
      "since 5\n",
      "identify 5\n",
      "better 5\n",
      "million 4\n",
      "less 4\n",
      "terrorism 4\n",
      "alone 4\n",
      "messages 4\n",
      "others 4\n",
      "violence 4\n",
      "sports 4\n",
      "billion 4\n",
      "times 4\n",
      "recently 4\n",
      "afterwards 4\n",
      "review 4\n",
      "scale 4\n",
      "participation 4\n",
      "focus 4\n",
      "crises 4\n",
      "technology 4\n",
      "towards 4\n",
      "political 4\n",
      "nations 4\n",
      "already 4\n",
      "effects 4\n",
      "look 4\n",
      "helping 4\n",
      "good 4\n",
      "countries 4\n",
      "humanity 4\n",
      "developing 4\n",
      "speech 4\n",
      "opinions 4\n",
      "story 4\n",
      "person 4\n",
      "examples 4\n",
      "families 4\n",
      "suggests 4\n",
      "bringing 4\n",
      "problems 4\n",
      "polarization 4\n",
      "based 4\n",
      "history 4\n",
      "crisis 4\n",
      "public 4\n",
      "team 4\n",
      "participate 4\n",
      "cultures 4\n",
      "possible 4\n",
      "giving 4\n",
      "become 4\n",
      "favorite 4\n",
      "large 4\n",
      "organizations 4\n",
      "real 4\n",
      "research 4\n",
      "misinformation 4\n",
      "idea 4\n",
      "greater 4\n",
      "without 4\n",
      "approach 4\n",
      "might 4\n",
      "long 4\n",
      "bring 4\n",
      "governments 4\n",
      "check 4\n",
      "lives 4\n",
      "leaders 4\n",
      "tv 4\n",
      "best 4\n",
      "rebuild 4\n",
      "fabric 4\n",
      "democratic 3\n",
      "accuracy 3\n",
      "next 3\n",
      "told 3\n",
      "think 3\n",
      "war 3\n",
      "reported 3\n",
      "bad 3\n",
      "single 3\n",
      "reflecting 3\n",
      "last 3\n",
      "including 3\n",
      "still 3\n",
      "views 3\n",
      "cases 3\n",
      "usually 3\n",
      "majority 3\n",
      "engaged 3\n",
      "set 3\n",
      "controls 3\n",
      "supportive 3\n",
      "named 3\n",
      "purpose 3\n",
      "strengthening 3\n",
      "able 3\n",
      "first 3\n",
      "provide 3\n",
      "family 3\n",
      "whatsapp 3\n",
      "similarly 3\n",
      "understand 3\n",
      "health 3\n",
      "video 3\n",
      "someone 3\n",
      "emphasize 3\n",
      "shared 3\n",
      "number 3\n",
      "anyone 3\n",
      "mistakes 3\n",
      "ways 3\n",
      "sign 3\n",
      "works 3\n",
      "explore 3\n",
      "inclusive 3\n",
      "processes 3\n",
      "errors 3\n",
      "ahead 3\n",
      "sensational 3\n",
      "step 3\n",
      "systems 3\n",
      "almost 3\n",
      "plan 3\n",
      "clear 3\n",
      "started 3\n",
      "population 3\n",
      "disease 3\n",
      "challenges 3\n",
      "photo 3\n",
      "day 3\n",
      "child 3\n",
      "medium 3\n",
      "sense 3\n",
      "dedicated 3\n",
      "connection 3\n",
      "little 3\n",
      "requires 3\n",
      "relationships 3\n",
      "connected 3\n",
      "prevent 3\n",
      "shows 3\n",
      "connections 3\n",
      "believe 3\n",
      "becoming 3\n",
      "contribute 3\n",
      "members 3\n",
      "instead 3\n",
      "country 3\n",
      "stories 3\n",
      "citizens 3\n",
      "development 3\n",
      "completely 2\n",
      "areas 2\n",
      "united 2\n",
      "continue 2\n",
      "care 2\n",
      "comments 2\n",
      "ability 2\n",
      "photos 2\n",
      "spiritual 2\n",
      "extremes 2\n",
      "evolve 2\n",
      "traditional 2\n",
      "commit 2\n",
      "coming 2\n",
      "services 2\n",
      "enabling 2\n",
      "direct 2\n",
      "region 2\n",
      "interests 2\n",
      "voices 2\n",
      "historical 2\n",
      "smaller 2\n",
      "among 2\n",
      "dialogue 2\n",
      "disasters 2\n",
      "institutions 2\n",
      "likely 2\n",
      "focused 2\n",
      "terror 2\n",
      "elections 2\n",
      "spam 2\n",
      "daily 2\n",
      "course 2\n",
      "encryption 2\n",
      "let 2\n",
      "refugees 2\n",
      "man 2\n",
      "settings 2\n",
      "bigger 2\n",
      "fight 2\n",
      "membership 2\n",
      "allow 2\n",
      "fully 2\n",
      "similar 2\n",
      "steps 2\n",
      "climate 2\n",
      "however 2\n",
      "events 2\n",
      "election 2\n",
      "shown 2\n",
      "resources 2\n",
      "provides 2\n",
      "joining 2\n",
      "network 2\n",
      "diagnosed 2\n",
      "easier 2\n",
      "worry 2\n",
      "natural 2\n",
      "beyond 2\n",
      "looking 2\n",
      "increase 2\n",
      "black 2\n",
      "complexity 2\n",
      "uniquely 2\n",
      "strong 2\n",
      "increasing 2\n",
      "happening 2\n",
      "fighting 2\n",
      "form 2\n",
      "threats 2\n",
      "event 2\n",
      "committed 2\n",
      "guiding 2\n",
      "positioned 2\n",
      "affect 2\n",
      "parents 2\n",
      "improve 2\n",
      "diverse 2\n",
      "showing 2\n",
      "engage 2\n",
      "live 2\n",
      "larger 2\n",
      "goal 2\n",
      "actually 2\n",
      "pieces 2\n",
      "industry 2\n",
      "reach 2\n",
      "hold 2\n",
      "sure 2\n",
      "prevents 2\n",
      "evolving 2\n",
      "learned 2\n",
      "activated 2\n",
      "shelter 2\n",
      "compared 2\n",
      "national 2\n",
      "exposes 2\n",
      "responses 2\n",
      "much 2\n",
      "rebuilds 2\n",
      "effort 2\n",
      "opportunities 2\n",
      "raising 2\n",
      "teams 2\n",
      "establishing 2\n",
      "experiences 2\n",
      "left 2\n",
      "change 2\n",
      "lot 2\n",
      "striking 2\n",
      "violent 2\n",
      "declining 2\n",
      "vast 2\n",
      "suited 2\n",
      "okay 2\n",
      "empower 2\n",
      "matter 2\n",
      "least 2\n",
      "healthy 2\n",
      "refugee 2\n",
      "helped 2\n",
      "discuss 2\n",
      "sexually 2\n",
      "responsibility 2\n",
      "although 2\n",
      "path 2\n",
      "depicting 2\n",
      "lack 2\n",
      "business 2\n",
      "accountability 2\n",
      "states 2\n",
      "call 2\n",
      "whole 2\n",
      "communication 2\n",
      "get 2\n",
      "major 2\n",
      "hate 2\n",
      "whatever 2\n",
      "protest 2\n",
      "organization 2\n",
      "mitigate 2\n",
      "start 2\n",
      "opinion 2\n",
      "polarized 2\n",
      "mitigating 2\n",
      "seriously 2\n",
      "options 2\n",
      "occasion 2\n",
      "control 2\n",
      "disaster 2\n",
      "adapt 2\n",
      "line 2\n",
      "movements 2\n",
      "develop 2\n",
      "jobs 2\n",
      "viewpoints 2\n",
      "using 2\n",
      "starting 2\n",
      "billions 2\n",
      "save 2\n",
      "post 2\n",
      "enable 2\n",
      "intelligence 2\n",
      "update 2\n",
      "current 2\n",
      "tribes 2\n",
      "capture 2\n",
      "ideological 2\n",
      "artificial 2\n",
      "networks 2\n",
      "solve 2\n",
      "necessary 2\n",
      "grow 2\n",
      "half 2\n",
      "began 2\n",
      "feel 2\n",
      "emotional 2\n",
      "terrorist 2\n",
      "measure 2\n",
      "register 2\n",
      "anew 2\n",
      "second 2\n",
      "reinforce 2\n",
      "encourage 2\n",
      "newsworthy 2\n",
      "meet 2\n",
      "india 2\n",
      "tell 2\n",
      "nation 2\n",
      "making 2\n",
      "getting 2\n",
      "journey 2\n",
      "enough 2\n",
      "directly 2\n",
      "within 2\n",
      "free 2\n",
      "never 2\n",
      "point 2\n",
      "term 2\n",
      "saw 2\n",
      "spread 2\n",
      "graphic 2\n",
      "monis 2\n",
      "historically 2\n",
      "decline 2\n",
      "offline 2\n",
      "levels 2\n",
      "reminded 2\n",
      "complete 2\n",
      "hoaxes 2\n",
      "done 2\n",
      "require 2\n",
      "internet 2\n",
      "eventually 2\n",
      "overall 2\n",
      "education 1\n",
      "generates 1\n",
      "fund 1\n",
      "surface 1\n",
      "publishers 1\n",
      "consistent 1\n",
      "feedback 1\n",
      "none 1\n",
      "thoughtful 1\n",
      "occurs 1\n",
      "wins 1\n",
      "difficulty 1\n",
      "feasible 1\n",
      "attack 1\n",
      "men 1\n",
      "fault 1\n",
      "campaigns 1\n",
      "conclusion 1\n",
      "starts 1\n",
      "worried 1\n",
      "minimize 1\n",
      "amplify 1\n",
      "noting 1\n",
      "leaving 1\n",
      "lifting 1\n",
      "spectrum 1\n",
      "raise 1\n",
      "outstripped 1\n",
      "prime 1\n",
      "organizes 1\n",
      "combine 1\n",
      "anything 1\n",
      "parties 1\n",
      "combined 1\n",
      "outright 1\n",
      "wrote 1\n",
      "everything 1\n",
      "perspective 1\n",
      "newly 1\n",
      "required 1\n",
      "accelerating 1\n",
      "especially 1\n",
      "agree 1\n",
      "warning 1\n",
      "added 1\n",
      "increases 1\n",
      "fails 1\n",
      "researching 1\n",
      "hurting 1\n",
      "working 1\n",
      "governing 1\n",
      "candidate 1\n",
      "fathers 1\n",
      "debate 1\n",
      "wars 1\n",
      "month 1\n",
      "view 1\n",
      "mission 1\n",
      "mentorship 1\n",
      "companies 1\n",
      "protecting 1\n",
      "resonant 1\n",
      "future 1\n",
      "debates 1\n",
      "boundaries 1\n",
      "continues 1\n",
      "withdrawing 1\n",
      "profanity 1\n",
      "thank 1\n",
      "underestimate 1\n",
      "structure 1\n",
      "marching 1\n",
      "principle 1\n",
      "alternate 1\n",
      "wrong 1\n",
      "survival 1\n",
      "notified 1\n",
      "types 1\n",
      "ups 1\n",
      "go 1\n",
      "fourth 1\n",
      "suggest 1\n",
      "beliefs 1\n",
      "refer 1\n",
      "extensively 1\n",
      "lens 1\n",
      "thing 1\n",
      "structures 1\n",
      "demands 1\n",
      "terribly 1\n",
      "disagree 1\n",
      "roles 1\n",
      "setting 1\n",
      "marked 1\n",
      "recover 1\n",
      "place 1\n",
      "democracy 1\n",
      "mobile 1\n",
      "streamed 1\n",
      "validation 1\n",
      "thinking 1\n",
      "prosperity 1\n",
      "spot 1\n",
      "framing 1\n",
      "happen 1\n",
      "layers 1\n",
      "hoax 1\n",
      "ending 1\n",
      "closer 1\n",
      "succeed 1\n",
      "informing 1\n",
      "simplicity 1\n",
      "engaging 1\n",
      "permissive 1\n",
      "level 1\n",
      "achieve 1\n",
      "poverty 1\n",
      "fits 1\n",
      "vantage 1\n",
      "default 1\n",
      "conversations 1\n",
      "government 1\n",
      "matt 1\n",
      "victims 1\n",
      "play 1\n",
      "backgrounds 1\n",
      "passive 1\n",
      "speak 1\n",
      "jokes 1\n",
      "moves 1\n",
      "reason 1\n",
      "reduce 1\n",
      "joy 1\n",
      "iceland 1\n",
      "close 1\n",
      "unions 1\n",
      "position 1\n",
      "item 1\n",
      "growing 1\n",
      "carefully 1\n",
      "promoting 1\n",
      "modi 1\n",
      "permit 1\n",
      "uncovering 1\n",
      "directed 1\n",
      "role 1\n",
      "updates 1\n",
      "operating 1\n",
      "behind 1\n",
      "tea 1\n",
      "analyzing 1\n",
      "registries 1\n",
      "nightclub 1\n",
      "raised 1\n",
      "tragic 1\n",
      "whose 1\n",
      "ministers 1\n",
      "principles 1\n",
      "suffer 1\n",
      "watching 1\n",
      "startups 1\n",
      "individual 1\n",
      "risks 1\n",
      "present 1\n",
      "spanning 1\n",
      "newspaper 1\n",
      "three 1\n",
      "pages 1\n",
      "member 1\n",
      "accounts 1\n",
      "disorder 1\n",
      "decide 1\n",
      "immediately 1\n",
      "eliminated 1\n",
      "ten 1\n",
      "read 1\n",
      "rewards 1\n",
      "yet 1\n",
      "moment 1\n",
      "careful 1\n",
      "try 1\n",
      "shifting 1\n",
      "deeper 1\n",
      "epidermolysis 1\n",
      "obvious 1\n",
      "game 1\n",
      "runs 1\n",
      "inclusion 1\n",
      "goes 1\n",
      "playing 1\n",
      "span 1\n",
      "bukhari 1\n",
      "receding 1\n",
      "ago 1\n",
      "question 1\n",
      "dinners 1\n",
      "address 1\n",
      "reviews 1\n",
      "regions 1\n",
      "calls 1\n",
      "face 1\n",
      "pace 1\n",
      "entire 1\n",
      "juries 1\n",
      "americans 1\n",
      "lose 1\n",
      "sons 1\n",
      "alerts 1\n",
      "balanced 1\n",
      "imagine 1\n",
      "banning 1\n",
      "worrying 1\n",
      "century 1\n",
      "action 1\n",
      "pastor 1\n",
      "anytime 1\n",
      "suicides 1\n",
      "simple 1\n",
      "surveys 1\n",
      "blood 1\n",
      "offensive 1\n",
      "amount 1\n",
      "rules 1\n",
      "difficult 1\n",
      "foundation 1\n",
      "party 1\n",
      "laws 1\n",
      "broader 1\n",
      "school 1\n",
      "honor 1\n",
      "naturally 1\n",
      "worst 1\n",
      "emergency 1\n",
      "propaganda 1\n",
      "enter 1\n",
      "moral 1\n",
      "operational 1\n",
      "comfort 1\n",
      "basis 1\n",
      "demonstrate 1\n",
      "expected 1\n",
      "decision 1\n",
      "fortunately 1\n",
      "text 1\n",
      "fake 1\n",
      "villages 1\n",
      "trying 1\n",
      "dig 1\n",
      "leading 1\n",
      "indonesia 1\n",
      "malicious 1\n",
      "demonstrations 1\n",
      "trend 1\n",
      "following 1\n",
      "truth 1\n",
      "advocates 1\n",
      "success 1\n",
      "rituals 1\n",
      "origin 1\n",
      "doubt 1\n",
      "suggestive 1\n",
      "messaging 1\n",
      "encouragement 1\n",
      "overestimate 1\n",
      "design 1\n",
      "controversial 1\n",
      "staying 1\n",
      "entertainment 1\n",
      "commitment 1\n",
      "speaking 1\n",
      "efforts 1\n",
      "percent 1\n",
      "posts 1\n",
      "sets 1\n",
      "accidents 1\n",
      "raises 1\n",
      "five 1\n",
      "expose 1\n",
      "months 1\n",
      "aggregated 1\n",
      "correlated 1\n",
      "market 1\n",
      "coordinated 1\n",
      "enforce 1\n",
      "donations 1\n",
      "company 1\n",
      "concert 1\n",
      "amber 1\n",
      "expand 1\n",
      "discourages 1\n",
      "san 1\n",
      "asia 1\n",
      "creates 1\n",
      "parliament 1\n",
      "surprising 1\n",
      "classes 1\n",
      "rely 1\n",
      "fragment 1\n",
      "sensitive 1\n",
      "culture 1\n",
      "voter 1\n",
      "sources 1\n",
      "children 1\n",
      "referendum 1\n",
      "reality 1\n",
      "force 1\n",
      "causes 1\n",
      "correct 1\n",
      "alongside 1\n",
      "european 1\n",
      "exist 1\n",
      "fact 1\n",
      "minister 1\n",
      "increased 1\n",
      "selected 1\n",
      "policies 1\n",
      "connects 1\n",
      "disturbing 1\n",
      "california 1\n",
      "importance 1\n",
      "critical 1\n",
      "alerted 1\n",
      "piled 1\n",
      "ballot 1\n",
      "concerns 1\n",
      "unique 1\n",
      "rise 1\n",
      "thrive 1\n",
      "dramatically 1\n",
      "means 1\n",
      "saying 1\n",
      "seek 1\n",
      "recent 1\n",
      "lincoln 1\n",
      "reducing 1\n",
      "suffering 1\n",
      "tag 1\n",
      "continents 1\n",
      "inadequate 1\n",
      "invites 1\n",
      "europeans 1\n",
      "act 1\n",
      "dispute 1\n",
      "mark 1\n",
      "location 1\n",
      "reverse 1\n",
      "peace 1\n",
      "middle 1\n",
      "invest 1\n",
      "unsettled 1\n",
      "access 1\n",
      "military 1\n",
      "stands 1\n",
      "privacy 1\n",
      "discussions 1\n",
      "surprised 1\n",
      "life 1\n",
      "amplified 1\n",
      "anymore 1\n",
      "function 1\n",
      "remarks 1\n",
      "incentivize 1\n",
      "referenda 1\n",
      "ones 1\n",
      "parenting 1\n",
      "offer 1\n",
      "pass 1\n",
      "handling 1\n",
      "police 1\n",
      "oversimplifies 1\n",
      "freedom 1\n",
      "impacting 1\n",
      "spouses 1\n",
      "tech 1\n",
      "politics 1\n",
      "nepal 1\n",
      "facts 1\n",
      "finding 1\n",
      "tahrir 1\n",
      "activities 1\n",
      "security 1\n",
      "realized 1\n",
      "cutting 1\n",
      "turned 1\n",
      "aware 1\n",
      "elected 1\n",
      "sharing 1\n",
      "powerful 1\n",
      "discussed 1\n",
      "admins 1\n",
      "explicit 1\n",
      "gatherings 1\n",
      "small 1\n",
      "successful 1\n",
      "developed 1\n",
      "east 1\n",
      "job 1\n",
      "bullying 1\n",
      "supporting 1\n",
      "berlin 1\n",
      "churches 1\n",
      "third 1\n",
      "sitting 1\n",
      "messenger 1\n",
      "signals 1\n",
      "actual 1\n",
      "eligible 1\n",
      "hear 1\n",
      "another 1\n",
      "dorms 1\n",
      "join 1\n",
      "hundreds 1\n",
      "march 1\n",
      "terrible 1\n",
      "fit 1\n",
      "touch 1\n",
      "got 1\n",
      "away 1\n",
      "guidance 1\n",
      "odds 1\n",
      "big 1\n",
      "turn 1\n",
      "rescued 1\n",
      "existential 1\n",
      "influence 1\n",
      "institutional 1\n",
      "met 1\n",
      "compromising 1\n",
      "creating 1\n",
      "leaps 1\n",
      "bullosa 1\n",
      "satire 1\n",
      "organizing 1\n",
      "empowering 1\n",
      "liberty 1\n",
      "food 1\n",
      "insufficient 1\n",
      "increasingly 1\n",
      "begin 1\n",
      "great 1\n",
      "perhaps 1\n",
      "send 1\n",
      "upon 1\n",
      "checkers 1\n",
      "serving 1\n",
      "low 1\n",
      "ca 1\n",
      "unrelated 1\n",
      "pulse 1\n",
      "oversimplified 1\n",
      "charged 1\n",
      "nuanced 1\n",
      "kenya 1\n",
      "classrooms 1\n",
      "mediating 1\n",
      "europe 1\n",
      "criticizing 1\n",
      "flag 1\n",
      "patients 1\n",
      "answers 1\n",
      "nuance 1\n",
      "personally 1\n",
      "images 1\n",
      "periodically 1\n",
      "homes 1\n",
      "economic 1\n",
      "preventing 1\n",
      "wo 1\n",
      "environment 1\n",
      "hundred 1\n",
      "aspects 1\n",
      "rare 1\n",
      "protect 1\n",
      "active 1\n",
      "discussion 1\n",
      "surfacing 1\n",
      "earthquake 1\n",
      "thanks 1\n",
      "kids 1\n",
      "positions 1\n",
      "expectations 1\n",
      "frequently 1\n",
      "bother 1\n",
      "reasons 1\n",
      "click 1\n",
      "determine 1\n",
      "consumption 1\n",
      "women 1\n",
      "headline 1\n",
      "suggestions 1\n",
      "block 1\n",
      "vital 1\n",
      "misclassifying 1\n",
      "recognize 1\n",
      "loss 1\n",
      "picture 1\n",
      "answering 1\n",
      "politically 1\n",
      "pandemics 1\n",
      "virus 1\n",
      "became 1\n",
      "reviewers 1\n",
      "foreign 1\n",
      "newspapers 1\n",
      "effective 1\n",
      "feed 1\n",
      "ensure 1\n",
      "limited 1\n",
      "missing 1\n",
      "decades 1\n",
      "politicians 1\n",
      "editorial 1\n",
      "policy 1\n",
      "exists 1\n",
      "grandmother 1\n",
      "additional 1\n",
      "scales 1\n",
      "shift 1\n",
      "scaling 1\n",
      "sustainable 1\n",
      "net 1\n",
      "govern 1\n",
      "accomplish 1\n",
      "impossible 1\n",
      "intimate 1\n",
      "painful 1\n",
      "found 1\n",
      "goodness 1\n",
      "shooting 1\n",
      "solutions 1\n",
      "double 1\n",
      "favor 1\n",
      "asked 1\n",
      "relatively 1\n",
      "energy 1\n",
      "emergencies 1\n",
      "extremely 1\n",
      "transcending 1\n",
      "run 1\n",
      "dogmas 1\n",
      "spreading 1\n",
      "focuses 1\n",
      "devices 1\n",
      "situation 1\n",
      "divisiveness 1\n",
      "filter 1\n",
      "religion 1\n",
      "simply 1\n",
      "student 1\n",
      "judge 1\n",
      "stay 1\n",
      "quality 1\n",
      "settling 1\n",
      "products 1\n",
      "christina 1\n",
      "strengthens 1\n",
      "affected 1\n",
      "organized 1\n",
      "directions 1\n",
      "led 1\n",
      "encourages 1\n",
      "case 1\n",
      "stand 1\n",
      "accurately 1\n",
      "isolation 1\n",
      "distinct 1\n",
      "vietnam 1\n",
      "generations 1\n",
      "bright 1\n",
      "area 1\n",
      "general 1\n",
      "conflict 1\n",
      "meetings 1\n",
      "proceeding 1\n",
      "worth 1\n",
      "opposite 1\n",
      "deepen 1\n",
      "quiet 1\n",
      "formats 1\n",
      "organize 1\n",
      "spent 1\n",
      "advances 1\n",
      "globalization 1\n",
      "percentages 1\n",
      "philosophy 1\n",
      "crowdfunded 1\n",
      "models 1\n",
      "called 1\n",
      "hateful 1\n",
      "science 1\n",
      "suicide 1\n",
      "attempted 1\n",
      "communicating 1\n",
      "harassment 1\n",
      "american 1\n",
      "segments 1\n",
      "relief 1\n",
      "project 1\n",
      "reflects 1\n",
      "allowed 1\n",
      "accepting 1\n",
      "declined 1\n",
      "learning 1\n",
      "recruit 1\n",
      "contain 1\n",
      "topics 1\n",
      "organ 1\n",
      "article 1\n",
      "primary 1\n",
      "account 1\n",
      "bubbles 1\n",
      "high 1\n",
      "remove 1\n",
      "headlines 1\n",
      "woman 1\n",
      "mean 1\n",
      "basic 1\n",
      "orlando 1\n",
      "moments 1\n",
      "stormy 1\n",
      "multiple 1\n",
      "spans 1\n",
      "box 1\n",
      "square 1\n",
      "decade 1\n",
      "prevented 1\n",
      "difference 1\n",
      "president 1\n",
      "early 1\n",
      "platforms 1\n",
      "noticed 1\n",
      "ask 1\n",
      "unwanted 1\n",
      "reduced 1\n",
      "civil 1\n",
      "model 1\n",
      "assist 1\n",
      "talk 1\n",
      "restrictions 1\n",
      "adapted 1\n",
      "removing 1\n",
      "pollution 1\n",
      "includes 1\n",
      "studied 1\n",
      "diego 1\n",
      "dying 1\n",
      "given 1\n",
      "turnout 1\n",
      "pushes 1\n",
      "establish 1\n",
      "intrinsic 1\n",
      "finally 1\n",
      "donors 1\n",
      "needed 1\n",
      "crime 1\n",
      "technically 1\n",
      "sooner 1\n",
      "mental 1\n",
      "numbers 1\n",
      "advice 1\n",
      "open 1\n",
      "source 1\n",
      "builds 1\n",
      "involves 1\n",
      "boosts 1\n",
      "ongoing 1\n",
      "reports 1\n",
      "interact 1\n"
     ]
    }
   ],
   "source": [
    "with open('wordcount.csv') as csvfile:\n",
    "    reader = csv.DictReader(csvfile)\n",
    "    for row in reader:\n",
    "        print(row['word'], row['count'])"
   ]
  },
  {
   "cell_type": "code",
   "execution_count": null,
   "metadata": {
    "collapsed": true
   },
   "outputs": [],
   "source": []
  },
  {
   "cell_type": "code",
   "execution_count": null,
   "metadata": {
    "collapsed": true
   },
   "outputs": [],
   "source": []
  }
 ],
 "metadata": {
  "kernelspec": {
   "display_name": "Python 3",
   "language": "python",
   "name": "python3"
  },
  "language_info": {
   "codemirror_mode": {
    "name": "ipython",
    "version": 3
   },
   "file_extension": ".py",
   "mimetype": "text/x-python",
   "name": "python",
   "nbconvert_exporter": "python",
   "pygments_lexer": "ipython3",
   "version": "3.5.2"
  }
 },
 "nbformat": 4,
 "nbformat_minor": 1
}
